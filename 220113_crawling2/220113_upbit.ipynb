{
 "cells": [
  {
   "cell_type": "code",
   "execution_count": 2,
   "id": "1024d0c6",
   "metadata": {},
   "outputs": [
    {
     "name": "stdout",
     "output_type": "stream",
     "text": [
      "Requirement already satisfied: pyjwt in c:\\users\\yj\\anaconda3\\lib\\site-packages (2.1.0)\n",
      "Note: you may need to restart the kernel to use updated packages.\n"
     ]
    }
   ],
   "source": [
    "pip install pyjwt"
   ]
  },
  {
   "cell_type": "code",
   "execution_count": 4,
   "id": "350d3214",
   "metadata": {},
   "outputs": [
    {
     "name": "stdout",
     "output_type": "stream",
     "text": [
      "['KRW-BTC', 'KRW-ETH', 'BTC-ETH', 'BTC-LTC', 'BTC-XRP', 'BTC-ETC', 'BTC-OMG', 'BTC-CVC', 'BTC-DGB', 'BTC-SC', 'BTC-SNT', 'BTC-WAVES', 'BTC-NMR', 'BTC-XEM', 'BTC-QTUM', 'BTC-BAT', 'BTC-LSK', 'BTC-STEEM', 'BTC-DOGE', 'BTC-BNT', 'BTC-XLM', 'BTC-ARDR', 'BTC-ARK', 'BTC-STORJ', 'BTC-GRS', 'BTC-REP', 'BTC-RLC', 'USDT-BTC', 'USDT-ETH', 'USDT-LTC', 'USDT-XRP', 'USDT-ETC', 'KRW-NEO', 'KRW-MTL', 'KRW-LTC', 'KRW-XRP', 'KRW-ETC', 'KRW-OMG', 'KRW-SNT', 'KRW-WAVES', 'KRW-XEM', 'KRW-QTUM', 'KRW-LSK', 'KRW-STEEM', 'KRW-XLM', 'KRW-ARDR', 'KRW-ARK', 'KRW-STORJ', 'KRW-GRS', 'KRW-REP', 'KRW-ADA', 'BTC-ADA', 'BTC-MANA', 'USDT-OMG', 'KRW-SBD', 'BTC-SBD', 'KRW-POWR', 'BTC-POWR', 'KRW-BTG', 'USDT-ADA', 'BTC-DNT', 'BTC-ZRX', 'BTC-TRX', 'BTC-TUSD', 'BTC-LRC', 'KRW-ICX', 'KRW-EOS', 'USDT-TUSD', 'KRW-TRX', 'BTC-POLY', 'USDT-SC', 'USDT-TRX', 'KRW-SC', 'KRW-ONT', 'KRW-ZIL', 'KRW-POLY', 'KRW-ZRX', 'KRW-LOOM', 'BTC-BCH', 'USDT-BCH', 'KRW-BCH', 'BTC-MFT', 'BTC-LOOM', 'KRW-BAT', 'KRW-IOST', 'BTC-RFR', 'KRW-RFR', 'USDT-DGB', 'KRW-CVC', 'KRW-IQ', 'KRW-IOTA', 'BTC-RVN', 'BTC-GO', 'BTC-UPP', 'BTC-ENJ', 'KRW-MFT', 'KRW-ONG', 'KRW-GAS', 'BTC-MTL', 'KRW-UPP', 'KRW-ELF', 'USDT-DOGE', 'USDT-ZRX', 'USDT-RVN', 'USDT-BAT', 'KRW-KNC', 'BTC-MOC', 'BTC-ZIL', 'KRW-BSV', 'BTC-BSV', 'BTC-IOST', 'KRW-THETA', 'BTC-DENT', 'KRW-QKC', 'BTC-ELF', 'KRW-BTT', 'BTC-IOTX', 'BTC-SOLVE', 'BTC-NKN', 'BTC-META', 'KRW-MOC', 'BTC-ANKR', 'BTC-CRO', 'KRW-ENJ', 'KRW-TFUEL', 'KRW-MANA', 'KRW-ANKR', 'BTC-ORBS', 'BTC-AERGO', 'KRW-AERGO', 'KRW-ATOM', 'KRW-TT', 'KRW-CRE', 'BTC-ATOM', 'BTC-STPT', 'KRW-MBL', 'BTC-EOS', 'BTC-LUNA', 'BTC-DAI', 'BTC-MKR', 'BTC-BORA', 'KRW-WAXP', 'BTC-WAXP', 'KRW-HBAR', 'KRW-MED', 'BTC-MED', 'BTC-MLK', 'KRW-MLK', 'KRW-STPT', 'BTC-VET', 'KRW-ORBS', 'BTC-CHZ', 'KRW-VET', 'BTC-FX', 'BTC-OGN', 'KRW-CHZ', 'BTC-XTZ', 'BTC-HIVE', 'BTC-HBD', 'BTC-OBSR', 'BTC-DKA', 'KRW-STMX', 'BTC-STMX', 'BTC-AHT', 'BTC-PCI', 'KRW-DKA', 'BTC-LINK', 'KRW-HIVE', 'KRW-KAVA', 'BTC-KAVA', 'KRW-AHT', 'KRW-LINK', 'KRW-XTZ', 'KRW-BORA', 'BTC-JST', 'BTC-CHR', 'BTC-DAD', 'BTC-TON', 'KRW-JST', 'BTC-CTSI', 'BTC-DOT', 'KRW-CRO', 'BTC-COMP', 'BTC-SXP', 'BTC-HUNT', 'KRW-TON', 'BTC-ONIT', 'BTC-CRV', 'BTC-ALGO', 'BTC-RSR', 'KRW-SXP', 'BTC-OXT', 'BTC-PLA', 'KRW-HUNT', 'BTC-MARO', 'BTC-SAND', 'BTC-SUN', 'KRW-PLA', 'KRW-DOT', 'BTC-SRM', 'BTC-QTCON', 'BTC-MVL', 'KRW-SRM', 'KRW-MVL', 'BTC-GXC', 'BTC-AQT', 'BTC-AXS', 'BTC-STRAX', 'KRW-STRAX', 'KRW-AQT', 'BTC-GLM', 'KRW-GLM', 'BTC-FCT2', 'BTC-SSX', 'KRW-SSX', 'KRW-META', 'KRW-FCT2', 'BTC-FIL', 'BTC-UNI', 'BTC-BASIC', 'BTC-INJ', 'BTC-PROM', 'BTC-VAL', 'BTC-PSG', 'BTC-JUV', 'BTC-CBK', 'BTC-FOR', 'KRW-CBK', 'BTC-BFC', 'BTC-LINA', 'BTC-HUM', 'BTC-CELO', 'KRW-SAND', 'KRW-HUM', 'BTC-IQ', 'BTC-STX', 'KRW-DOGE', 'BTC-NEAR', 'BTC-AUCTION', 'BTC-DAWN', 'BTC-FLOW', 'BTC-STRK', 'KRW-STRK', 'BTC-PUNDIX', 'KRW-PUNDIX', 'KRW-FLOW', 'KRW-DAWN', 'KRW-AXS', 'KRW-STX', 'BTC-GRT', 'BTC-SNX', 'BTC-USDP', 'KRW-XEC', 'KRW-SOL', 'BTC-SOL', 'KRW-MATIC', 'BTC-MATIC', 'KRW-NU', 'BTC-NU', 'KRW-AAVE', 'KRW-1INCH', 'BTC-AAVE', 'BTC-1INCH', 'BTC-MASK', 'KRW-ALGO', 'BTC-AUDIO', 'KRW-NEAR', 'BTC-YGG', 'BTC-GTC', 'BTC-OCEAN', 'BTC-CTC', 'BTC-LPT', 'KRW-WEMIX', 'BTC-WEMIX']\n"
     ]
    }
   ],
   "source": [
    "import pyupbit\n",
    "import pandas as pd\n",
    "import time\n",
    "\n",
    "print(pyupbit.get_tickers())"
   ]
  },
  {
   "cell_type": "code",
   "execution_count": 5,
   "id": "00743a56",
   "metadata": {},
   "outputs": [
    {
     "name": "stdout",
     "output_type": "stream",
     "text": [
      "53292000.0\n"
     ]
    }
   ],
   "source": [
    "#get_current_price함수는 암호화페의 현재가를 얻어옴. 함수로 티커를 넣어줌.\n",
    "print(pyupbit.get_current_price(\"KRW-BTC\"))"
   ]
  },
  {
   "cell_type": "code",
   "execution_count": 6,
   "id": "87116480",
   "metadata": {},
   "outputs": [
    {
     "name": "stdout",
     "output_type": "stream",
     "text": [
      "{'KRW-BTC': 53291000.0, 'KRW-XRP': 963.0}\n"
     ]
    }
   ],
   "source": [
    "#리스트에 여러 개의 티커를 입력해 한 번에 현재가를 조회할 수 있음.\n",
    "#여러 종목을 조회한 경우 딕셔너리로 현재가를 리턴함.\n",
    "print(pyupbit.get_current_price([\"KRW-BTC\", \"KRW-XRP\"]))"
   ]
  },
  {
   "cell_type": "code",
   "execution_count": 7,
   "id": "674f334f",
   "metadata": {},
   "outputs": [
    {
     "name": "stdout",
     "output_type": "stream",
     "text": [
      "                           open        high         low       close  \\\n",
      "2022-01-09 09:00:00  52142000.0  52600000.0  51144000.0  51678000.0   \n",
      "2022-01-10 09:00:00  51672000.0  51999000.0  48897000.0  51246000.0   \n",
      "2022-01-11 09:00:00  51255000.0  52493000.0  50408000.0  52307000.0   \n",
      "2022-01-12 09:00:00  52306000.0  53945000.0  51800000.0  53349000.0   \n",
      "2022-01-13 09:00:00  53349000.0  53484000.0  52885000.0  53288000.0   \n",
      "\n",
      "                          volume         value  \n",
      "2022-01-09 09:00:00  3369.095090  1.748699e+11  \n",
      "2022-01-10 09:00:00  7955.460111  4.025708e+11  \n",
      "2022-01-11 09:00:00  5812.218052  2.986761e+11  \n",
      "2022-01-12 09:00:00  5617.866428  2.964927e+11  \n",
      "2022-01-13 09:00:00  1239.789876  6.585226e+10  \n"
     ]
    }
   ],
   "source": [
    "#get_ohlcv 함수는 고가/시가/저가/종가/거래량을 DataFrame으로 반환함.\n",
    "df = pyupbit.get_ohlcv(\"KRW-BTC\")\n",
    "print(df.tail())\n",
    "#날짜가 오름차순으로 정렬돼 최근 날짜가 마지막에 위치함."
   ]
  },
  {
   "cell_type": "code",
   "execution_count": 8,
   "id": "8fcea964",
   "metadata": {},
   "outputs": [
    {
     "name": "stdout",
     "output_type": "stream",
     "text": [
      "5\n"
     ]
    }
   ],
   "source": [
    "#count 파라미터는 조회 갯수를 지정, 최근 영업일 부터 이전 count만큼의 이전 영업일\n",
    "#일까지 조회함. count파라미터를 입력하지 않을 경우 default value는 200임.\n",
    "df = pyupbit.get_ohlcv(\"KRW-BTC\", count=5)\n",
    "print(len(df))"
   ]
  },
  {
   "cell_type": "code",
   "execution_count": 9,
   "id": "18d81fdf",
   "metadata": {},
   "outputs": [
    {
     "name": "stdout",
     "output_type": "stream",
     "text": [
      "                           open        high         low       close  \\\n",
      "2022-01-12 20:40:00  52380000.0  52780000.0  52368000.0  52704000.0   \n",
      "2022-01-12 20:41:00  52719000.0  52850000.0  52410000.0  52650000.0   \n",
      "2022-01-12 20:42:00  52650000.0  52689000.0  52540000.0  52562000.0   \n",
      "2022-01-12 20:43:00  52541000.0  52600000.0  52448000.0  52555000.0   \n",
      "2022-01-12 20:44:00  52555000.0  52597000.0  52513000.0  52580000.0   \n",
      "...                         ...         ...         ...         ...   \n",
      "2022-01-12 23:55:00  53450000.0  53450000.0  53411000.0  53422000.0   \n",
      "2022-01-12 23:56:00  53422000.0  53448000.0  53411000.0  53422000.0   \n",
      "2022-01-12 23:57:00  53422000.0  53455000.0  53416000.0  53448000.0   \n",
      "2022-01-12 23:58:00  53448000.0  53469000.0  53448000.0  53467000.0   \n",
      "2022-01-12 23:59:00  53467000.0  53467000.0  53463000.0  53466000.0   \n",
      "\n",
      "                        volume         value  \n",
      "2022-01-12 20:40:00  68.820146  3.621349e+09  \n",
      "2022-01-12 20:41:00  69.966955  3.689246e+09  \n",
      "2022-01-12 20:42:00  21.317602  1.122488e+09  \n",
      "2022-01-12 20:43:00  17.010829  8.934898e+08  \n",
      "2022-01-12 20:44:00  25.053360  1.316685e+09  \n",
      "...                        ...           ...  \n",
      "2022-01-12 23:55:00   1.207474  6.451268e+07  \n",
      "2022-01-12 23:56:00   1.187232  6.342799e+07  \n",
      "2022-01-12 23:57:00   1.795377  9.595811e+07  \n",
      "2022-01-12 23:58:00   0.878582  4.696902e+07  \n",
      "2022-01-12 23:59:00   3.018482  1.613835e+08  \n",
      "\n",
      "[200 rows x 6 columns]\n"
     ]
    }
   ],
   "source": [
    "#interval 파라미터는 조회단위를 지정. 파라미터는 다음값을 지정\n",
    "#print(pyupbit.get_ohlcv(\"KRW-BTC\", interval=\"day\") \n",
    "#print(pyupbit.get_ohlcv(\"KRW-BTC\", interval=\"minute1\")) \n",
    "#print(pyupbit.get_ohlcv(\"KRW-BTC\", interval=\"week\")) \n",
    "#to파라미터에 입력된 이전 단위(interval)까지의 데이터를 데이터프레임으로 얻을수있음\n",
    "#예를 들어, 다음코드는 2022-01-13일 보다 하루 전인 2022-01-12을 까지의 200개 데이터\n",
    "#를 조회함. 단위를 설정하지 않았으니 단위는 일봉입니다.\n",
    "#interval을 minute1로 지정한경우 2022-01-13보다 1분 이전 2022-01-12,23:59:00)까지의\n",
    "#200개 데이터를 반환함.\n",
    "print(pyupbit.get_ohlcv(\"KRW-BTC\", interval=\"minute1\", to=\"20220113\"))"
   ]
  },
  {
   "cell_type": "markdown",
   "id": "887ea11a",
   "metadata": {},
   "source": [
    "#### 업비트에 상장되어있는 코인들은 RSI로 분석해서 매수 매도 진행\n",
    "#### * RSI 정의 : 가격의 상승압력과 하락압력 간의 상대적인 강도를 나타낸다 \n",
    "#### (1978년 미국의 월레스 와일더(J. Welles Wilder Jr.)가 개발했다)\n",
    "#### RSI범위:0~100\n",
    "#### RSI 가 낮을수록 매도강도가 높으며 (과매도), 높을수록 매수강도가 높다(과매수)\n",
    "#### 대체적으로 RSI 30 이하 구간을 과매도 구간이라고 하며 역추세를 하는 분들은 이 구간에서 매수를 진행합니다.\n",
    "#### RSI 70 이상 구간을 과매수 구간이라고 하며 역시 역추세를 하는 분들은 이 구간에서 매도를 진행합니다."
   ]
  },
  {
   "cell_type": "code",
   "execution_count": 11,
   "id": "bd424f83",
   "metadata": {
    "scrolled": false
   },
   "outputs": [
    {
     "name": "stdout",
     "output_type": "stream",
     "text": [
      "Coin Name : KRW-BTC  , RSI : 65.9131415124618\n",
      "Coin Name : KRW-ETH  , RSI : 61.731108835044715\n",
      "Coin Name : KRW-NEO  , RSI : 59.40222237267723\n",
      "Coin Name : KRW-MTL  , RSI : 61.10243898235853\n",
      "Coin Name : KRW-LTC  , RSI : 62.842713414162915\n",
      "Coin Name : KRW-XRP  , RSI : 55.43972867986972\n",
      "Coin Name : KRW-ETC  , RSI : 64.63426253256348\n",
      "Coin Name : KRW-OMG  , RSI : 55.66461424374958\n",
      "Coin Name : KRW-SNT  , RSI : 66.9107294097667\n",
      "Coin Name : KRW-WAVES  , RSI : 51.69767856419519\n",
      "Coin Name : KRW-XEM  , RSI : 46.58278189841712\n",
      "Coin Name : KRW-QTUM  , RSI : 60.60544471267331\n",
      "Coin Name : KRW-LSK  , RSI : 43.621635060804564\n",
      "Coin Name : KRW-STEEM  , RSI : 55.913909760966035\n",
      "Coin Name : KRW-XLM  , RSI : 56.42159135841097\n",
      "Coin Name : KRW-ARDR  , RSI : 46.929002679592436\n",
      "Coin Name : KRW-ARK  , RSI : 54.79754051341629\n",
      "Coin Name : KRW-STORJ  , RSI : 53.369695039313385\n",
      "Coin Name : KRW-GRS  , RSI : 57.43948571377485\n",
      "Coin Name : KRW-REP  , RSI : 56.33701233084837\n",
      "Coin Name : KRW-ADA  , RSI : 49.496438894732485\n",
      "Coin Name : KRW-SBD  , RSI : 58.0315353161154\n",
      "Coin Name : KRW-POWR  , RSI : 54.07283658391536\n",
      "Coin Name : KRW-BTG  , RSI : 63.634618767675605\n",
      "Coin Name : KRW-ICX  , RSI : 52.55480020279229\n",
      "Coin Name : KRW-EOS  , RSI : 59.1785261966836\n",
      "Coin Name : KRW-TRX  , RSI : 62.02114307671225\n",
      "Coin Name : KRW-SC  , RSI : 59.6539528213881\n",
      "Coin Name : KRW-ONT  , RSI : 55.44365487632803\n",
      "Coin Name : KRW-ZIL  , RSI : 57.817946534605454\n",
      "Coin Name : KRW-POLY  , RSI : 53.65882941702234\n",
      "Coin Name : KRW-ZRX  , RSI : 75.47041364989701\n",
      "Coin Name : KRW-LOOM  , RSI : 53.828772698959526\n",
      "Coin Name : KRW-BCH  , RSI : 72.91163646856423\n",
      "Coin Name : KRW-BAT  , RSI : 56.207094047271205\n",
      "Coin Name : KRW-IOST  , RSI : 55.73050206562252\n",
      "Coin Name : KRW-RFR  , RSI : 46.43514606253085\n",
      "Coin Name : KRW-CVC  , RSI : 55.991558859482275\n",
      "Coin Name : KRW-IQ  , RSI : 57.099021235566724\n",
      "Coin Name : KRW-IOTA  , RSI : 49.66318985103346\n",
      "Coin Name : KRW-MFT  , RSI : 53.70681362342223\n",
      "Coin Name : KRW-ONG  , RSI : 55.69129561742515\n",
      "Coin Name : KRW-GAS  , RSI : 55.576700787679044\n",
      "Coin Name : KRW-UPP  , RSI : 49.724001872771716\n",
      "Coin Name : KRW-ELF  , RSI : 48.56647722691474\n",
      "Coin Name : KRW-KNC  , RSI : 59.32234132874173\n",
      "Coin Name : KRW-BSV  , RSI : 56.094579019228355\n",
      "Coin Name : KRW-THETA  , RSI : 51.90640638799999\n",
      "Coin Name : KRW-QKC  , RSI : 46.45093545170513\n",
      "Coin Name : KRW-BTT  , RSI : 46.78859826318755\n",
      "Coin Name : KRW-MOC  , RSI : 57.776630227675994\n",
      "Coin Name : KRW-ENJ  , RSI : 57.13813133306402\n",
      "Coin Name : KRW-TFUEL  , RSI : 45.775144072483855\n",
      "Coin Name : KRW-MANA  , RSI : 58.8783903262851\n",
      "Coin Name : KRW-ANKR  , RSI : 51.274462530109126\n",
      "Coin Name : KRW-AERGO  , RSI : 53.84855301150894\n",
      "Coin Name : KRW-ATOM  , RSI : 61.558367905138205\n",
      "Coin Name : KRW-TT  , RSI : 55.14737834404496\n",
      "Coin Name : KRW-CRE  , RSI : 54.69174815036287\n",
      "Coin Name : KRW-MBL  , RSI : 50.36512339432427\n",
      "Coin Name : KRW-WAXP  , RSI : 50.45885334418815\n",
      "Coin Name : KRW-HBAR  , RSI : 43.47534491924825\n",
      "Coin Name : KRW-MED  , RSI : 60.86873262309691\n",
      "Coin Name : KRW-MLK  , RSI : 47.579649558584194\n",
      "Coin Name : KRW-STPT  , RSI : 47.07436089224026\n",
      "Coin Name : KRW-ORBS  , RSI : 55.76622398331262\n",
      "Coin Name : KRW-VET  , RSI : 55.887457214853406\n",
      "Coin Name : KRW-CHZ  , RSI : 53.43913604180816\n",
      "Coin Name : KRW-STMX  , RSI : 55.22236596791594\n",
      "Coin Name : KRW-DKA  , RSI : 51.32631087923846\n",
      "Coin Name : KRW-HIVE  , RSI : 56.79856048837841\n",
      "Coin Name : KRW-KAVA  , RSI : 58.333191532958466\n",
      "Coin Name : KRW-AHT  , RSI : 48.2281872858633\n",
      "Coin Name : KRW-LINK  , RSI : 54.97407063649195\n",
      "Coin Name : KRW-XTZ  , RSI : 56.50997406217583\n",
      "Coin Name : KRW-BORA  , RSI : 56.5449778569218\n",
      "Coin Name : KRW-JST  , RSI : 63.612593996345616\n",
      "Coin Name : KRW-CRO  , RSI : 50.73622857239902\n",
      "Coin Name : KRW-TON  , RSI : 53.401044127119356\n",
      "Coin Name : KRW-SXP  , RSI : 59.52736812052318\n",
      "Coin Name : KRW-HUNT  , RSI : 57.49024681253615\n",
      "Coin Name : KRW-PLA  , RSI : 52.567524515304505\n",
      "Coin Name : KRW-DOT  , RSI : 54.946016420142506\n",
      "Coin Name : KRW-SRM  , RSI : 57.13854570898031\n",
      "Coin Name : KRW-MVL  , RSI : 56.154745667038725\n",
      "Coin Name : KRW-STRAX  , RSI : 57.64584075969478\n",
      "Coin Name : KRW-AQT  , RSI : 49.421487633011864\n",
      "Coin Name : KRW-GLM  , RSI : 47.59043448687099\n",
      "Coin Name : KRW-SSX  , RSI : 60.41846476676198\n",
      "Coin Name : KRW-META  , RSI : 54.9730344346345\n",
      "Coin Name : KRW-FCT2  , RSI : 53.33984091965541\n",
      "Coin Name : KRW-CBK  , RSI : 52.16974078273279\n",
      "Coin Name : KRW-SAND  , RSI : 57.870455279032335\n",
      "Coin Name : KRW-HUM  , RSI : 52.14901316670647\n",
      "Coin Name : KRW-DOGE  , RSI : 57.866841456203886\n",
      "Coin Name : KRW-STRK  , RSI : 53.93752668648103\n",
      "Coin Name : KRW-PUNDIX  , RSI : 49.67165937397787\n",
      "Coin Name : KRW-FLOW  , RSI : 51.54341192664718\n",
      "Coin Name : KRW-DAWN  , RSI : 47.5657291638396\n",
      "Coin Name : KRW-AXS  , RSI : 55.87646830439839\n",
      "Coin Name : KRW-STX  , RSI : 59.11002863158035\n",
      "Coin Name : KRW-XEC  , RSI : 49.1993359425836\n",
      "Coin Name : KRW-SOL  , RSI : 53.14891283528802\n",
      "Coin Name : KRW-MATIC  , RSI : 58.223945506287244\n",
      "Coin Name : KRW-NU  , RSI : 53.005323783910086\n",
      "Coin Name : KRW-AAVE  , RSI : 50.873497339477495\n",
      "Coin Name : KRW-1INCH  , RSI : 63.037840061238036\n",
      "Coin Name : KRW-ALGO  , RSI : 55.10424230769683\n",
      "Coin Name : KRW-NEAR  , RSI : 64.17693192759695\n",
      "Coin Name : KRW-WEMIX  , RSI : 52.47630346909839\n"
     ]
    }
   ],
   "source": [
    "# RSI 구하는 함수\n",
    "# ohlcv:분봉/일봉정보, period:기간(5, 14 ...), st:기준(현재,이전 ...)\n",
    "#def UpbitGetRSI라는 부분이 rsi를 가져오는 함수 정의\n",
    "def UpbitGetRSI(ohlcv, period, st):\n",
    "    ohlcv[\"close\"] = ohlcv[\"close\"]\n",
    "    delta = ohlcv[\"close\"].diff()\n",
    "    up, down = delta.copy(), delta.copy()\n",
    "    up[up < 0] = 0\n",
    "    down[down > 0] = 0\n",
    "    _gain = up.ewm(com=(period - 1), min_periods=period).mean()\n",
    "    _loss = down.abs().ewm(com=(period - 1), min_periods=period).mean()\n",
    "    RS = _gain / _loss\n",
    "    return float(pd.Series(100 - (100 / (1 + RS)), name=\"RSI\").iloc[st])\n",
    "#float타입의 현재가가 반환됨.\n",
    "# 원화 전체 코인 가져오기\n",
    "tickers = pyupbit.get_tickers(\"KRW\")\n",
    "# 전체 코인을 돌면서 현재 RSI를 출력한다\n",
    "for _ticker in tickers :\n",
    "    try :\n",
    "        # 5분봉 데이타를 가져온다.\n",
    "        df = pyupbit.get_ohlcv(_ticker, interval=\"minute5\") \n",
    "        # 현재 RSI 호출\n",
    "        _rsi = UpbitGetRSI(df,14,-1)\n",
    "\n",
    "#출력\n",
    "#for문 끝에 time.sleep(0.5)를 넣은것은 업비트에서 초당 호출할 수 있는\n",
    "#수가 정해져 있기 때문에 약간의 지연을 주어서 오류를 방지하기 위한 용도\n",
    "        print (\"Coin Name :\", _ticker, \" , RSI :\" ,_rsi)\n",
    "        time.sleep(0.5)\n",
    " \n",
    "    except Exception as e:\n",
    "        print(\"Error:\", e)"
   ]
  },
  {
   "cell_type": "code",
   "execution_count": null,
   "id": "28b322c7",
   "metadata": {},
   "outputs": [],
   "source": []
  }
 ],
 "metadata": {
  "kernelspec": {
   "display_name": "Python 3 (ipykernel)",
   "language": "python",
   "name": "python3"
  },
  "language_info": {
   "codemirror_mode": {
    "name": "ipython",
    "version": 3
   },
   "file_extension": ".py",
   "mimetype": "text/x-python",
   "name": "python",
   "nbconvert_exporter": "python",
   "pygments_lexer": "ipython3",
   "version": "3.9.7"
  }
 },
 "nbformat": 4,
 "nbformat_minor": 5
}
