{
 "cells": [
  {
   "cell_type": "markdown",
   "id": "414ccc0a",
   "metadata": {},
   "source": [
    "## < step1. 탐색 > : 데이터 기초정보 살펴보기 "
   ]
  },
  {
   "cell_type": "markdown",
   "id": "7cbea8e6",
   "metadata": {},
   "source": [
    "### .CSV\n",
    "행이 ','(쉼표)로 구분된 텍스트 파일\n",
    "\n",
    "### .TSV\n",
    "행이 Tap(탭)으로 구분된 텍스트 파일\n",
    "\n",
    "### 엑셀파일(.xlx)은 파이썬으로 불러올수 없음 따라서 내보내기로 파일형식(.csv .tsv)을 변경 해주어야함."
   ]
  },
  {
   "cell_type": "markdown",
   "id": "77d23a6a",
   "metadata": {},
   "source": [
    "### 데이터의 외형적 분석\n",
    "탐색적 데이터 분석은 데이터를 열어보는 상황에서부터 시작되며 다음과 같은 과정을 수행\n",
    "\n",
    "1. 데이터의 출처와 주제에대해 이해하기\n",
    "\n",
    "2. 데이터의 크기 알아보기\n",
    "\n",
    "샘플링 (Sampling):\n",
    "\n",
    " 어떤 자료로부터 일부의 값을 추출하는행위\n",
    " \n",
    " 분석하고자 하는 데이터가 너무 크거나 전체 데이터를 사용할 수 없는 경우 샘플링된 데이터를 분석.\n",
    " \n",
    "3. 데이터의 구성요소(피쳐) 살펴보기"
   ]
  },
  {
   "cell_type": "markdown",
   "id": "0b7f73a4",
   "metadata": {},
   "source": [
    "### 데이터의 속성 탐색\n",
    "데이터의 외형적인 힌트를 얻었다면 실제적인 내용을 탐색하는 단계\n",
    "1. 피처의 속성탐색\n",
    "2.피처간의 상관 관계 탐색"
   ]
  },
  {
   "cell_type": "markdown",
   "id": "c0fce04f",
   "metadata": {},
   "source": [
    "### 탐색한 데이터의 시각화\n",
    "수치적 자료만 가지고 파악하기 힘든 경우 효과적"
   ]
  },
  {
   "cell_type": "markdown",
   "id": "b041e3cc",
   "metadata": {},
   "source": [
    "#### 토이 데이터(분석에 용이한 형태로 만들어진 연습용 데이터 세트)를 활용한 데이터 분석 학습"
   ]
  },
  {
   "cell_type": "markdown",
   "id": "5350f91c",
   "metadata": {},
   "source": [
    "### [Chipotle 데이터셋의 기본 정보]"
   ]
  },
  {
   "cell_type": "code",
   "execution_count": 1,
   "id": "0ccc551d",
   "metadata": {},
   "outputs": [
    {
     "name": "stdout",
     "output_type": "stream",
     "text": [
      "(4622, 5)\n",
      "-----------------------------------------------\n",
      "<class 'pandas.core.frame.DataFrame'>\n",
      "RangeIndex: 4622 entries, 0 to 4621\n",
      "Data columns (total 5 columns):\n",
      " #   Column              Non-Null Count  Dtype \n",
      "---  ------              --------------  ----- \n",
      " 0   order_id            4622 non-null   int64 \n",
      " 1   quantity            4622 non-null   int64 \n",
      " 2   item_name           4622 non-null   object\n",
      " 3   choice_description  3376 non-null   object\n",
      " 4   item_price          4622 non-null   object\n",
      "dtypes: int64(2), object(3)\n",
      "memory usage: 180.7+ KB\n",
      "None\n"
     ]
    }
   ],
   "source": [
    "#pandas 모듈 import\n",
    "import pandas as pd\n",
    "\n",
    "#read_csv()함수로 데이터를 DataFrame형태로 불러옵니다.\n",
    "#read_csv(\"파일경로를 포함한 파일명\",sep=\"구분자\")\n",
    "file_path='../data/chipotle.tsv' #파일 경로 변수로 설정.\n",
    "chipo = pd.read_csv(file_path,sep='\\t')\n",
    "\n",
    "print(chipo.shape)##행 렬의 정보를 출력하는 함수.(몇행(행의 이름을 제외하고) 몇열)\n",
    "print(\"-----------------------------------------------\")\n",
    "print(chipo.info())##불러온 데이터의 DataFrame 정보"
   ]
  },
  {
   "cell_type": "code",
   "execution_count": 2,
   "id": "0078d482",
   "metadata": {
    "scrolled": true
   },
   "outputs": [
    {
     "data": {
      "text/html": [
       "<div>\n",
       "<style scoped>\n",
       "    .dataframe tbody tr th:only-of-type {\n",
       "        vertical-align: middle;\n",
       "    }\n",
       "\n",
       "    .dataframe tbody tr th {\n",
       "        vertical-align: top;\n",
       "    }\n",
       "\n",
       "    .dataframe thead th {\n",
       "        text-align: right;\n",
       "    }\n",
       "</style>\n",
       "<table border=\"1\" class=\"dataframe\">\n",
       "  <thead>\n",
       "    <tr style=\"text-align: right;\">\n",
       "      <th></th>\n",
       "      <th>order_id</th>\n",
       "      <th>quantity</th>\n",
       "      <th>item_name</th>\n",
       "      <th>choice_description</th>\n",
       "      <th>item_price</th>\n",
       "    </tr>\n",
       "  </thead>\n",
       "  <tbody>\n",
       "    <tr>\n",
       "      <th>0</th>\n",
       "      <td>1</td>\n",
       "      <td>1</td>\n",
       "      <td>Chips and Fresh Tomato Salsa</td>\n",
       "      <td>NaN</td>\n",
       "      <td>$2.39</td>\n",
       "    </tr>\n",
       "    <tr>\n",
       "      <th>1</th>\n",
       "      <td>1</td>\n",
       "      <td>1</td>\n",
       "      <td>Izze</td>\n",
       "      <td>[Clementine]</td>\n",
       "      <td>$3.39</td>\n",
       "    </tr>\n",
       "    <tr>\n",
       "      <th>2</th>\n",
       "      <td>1</td>\n",
       "      <td>1</td>\n",
       "      <td>Nantucket Nectar</td>\n",
       "      <td>[Apple]</td>\n",
       "      <td>$3.39</td>\n",
       "    </tr>\n",
       "    <tr>\n",
       "      <th>3</th>\n",
       "      <td>1</td>\n",
       "      <td>1</td>\n",
       "      <td>Chips and Tomatillo-Green Chili Salsa</td>\n",
       "      <td>NaN</td>\n",
       "      <td>$2.39</td>\n",
       "    </tr>\n",
       "    <tr>\n",
       "      <th>4</th>\n",
       "      <td>2</td>\n",
       "      <td>2</td>\n",
       "      <td>Chicken Bowl</td>\n",
       "      <td>[Tomatillo-Red Chili Salsa (Hot), [Black Beans...</td>\n",
       "      <td>$16.98</td>\n",
       "    </tr>\n",
       "    <tr>\n",
       "      <th>5</th>\n",
       "      <td>3</td>\n",
       "      <td>1</td>\n",
       "      <td>Chicken Bowl</td>\n",
       "      <td>[Fresh Tomato Salsa (Mild), [Rice, Cheese, Sou...</td>\n",
       "      <td>$10.98</td>\n",
       "    </tr>\n",
       "    <tr>\n",
       "      <th>6</th>\n",
       "      <td>3</td>\n",
       "      <td>1</td>\n",
       "      <td>Side of Chips</td>\n",
       "      <td>NaN</td>\n",
       "      <td>$1.69</td>\n",
       "    </tr>\n",
       "    <tr>\n",
       "      <th>7</th>\n",
       "      <td>4</td>\n",
       "      <td>1</td>\n",
       "      <td>Steak Burrito</td>\n",
       "      <td>[Tomatillo Red Chili Salsa, [Fajita Vegetables...</td>\n",
       "      <td>$11.75</td>\n",
       "    </tr>\n",
       "    <tr>\n",
       "      <th>8</th>\n",
       "      <td>4</td>\n",
       "      <td>1</td>\n",
       "      <td>Steak Soft Tacos</td>\n",
       "      <td>[Tomatillo Green Chili Salsa, [Pinto Beans, Ch...</td>\n",
       "      <td>$9.25</td>\n",
       "    </tr>\n",
       "    <tr>\n",
       "      <th>9</th>\n",
       "      <td>5</td>\n",
       "      <td>1</td>\n",
       "      <td>Steak Burrito</td>\n",
       "      <td>[Fresh Tomato Salsa, [Rice, Black Beans, Pinto...</td>\n",
       "      <td>$9.25</td>\n",
       "    </tr>\n",
       "  </tbody>\n",
       "</table>\n",
       "</div>"
      ],
      "text/plain": [
       "   order_id  quantity                              item_name  \\\n",
       "0         1         1           Chips and Fresh Tomato Salsa   \n",
       "1         1         1                                   Izze   \n",
       "2         1         1                       Nantucket Nectar   \n",
       "3         1         1  Chips and Tomatillo-Green Chili Salsa   \n",
       "4         2         2                           Chicken Bowl   \n",
       "5         3         1                           Chicken Bowl   \n",
       "6         3         1                          Side of Chips   \n",
       "7         4         1                          Steak Burrito   \n",
       "8         4         1                       Steak Soft Tacos   \n",
       "9         5         1                          Steak Burrito   \n",
       "\n",
       "                                  choice_description item_price  \n",
       "0                                                NaN     $2.39   \n",
       "1                                       [Clementine]     $3.39   \n",
       "2                                            [Apple]     $3.39   \n",
       "3                                                NaN     $2.39   \n",
       "4  [Tomatillo-Red Chili Salsa (Hot), [Black Beans...    $16.98   \n",
       "5  [Fresh Tomato Salsa (Mild), [Rice, Cheese, Sou...    $10.98   \n",
       "6                                                NaN     $1.69   \n",
       "7  [Tomatillo Red Chili Salsa, [Fajita Vegetables...    $11.75   \n",
       "8  [Tomatillo Green Chili Salsa, [Pinto Beans, Ch...     $9.25   \n",
       "9  [Fresh Tomato Salsa, [Rice, Black Beans, Pinto...     $9.25   "
      ]
     },
     "execution_count": 2,
     "metadata": {},
     "output_type": "execute_result"
    }
   ],
   "source": [
    "#chipo라는 데이터 프레임에서 순서대로 (행(rows)기준)10개의 데이터를 보여줍니다.\n",
    "chipo.head(10)"
   ]
  },
  {
   "cell_type": "code",
   "execution_count": 3,
   "id": "99046d25",
   "metadata": {},
   "outputs": [
    {
     "data": {
      "text/html": [
       "<div>\n",
       "<style scoped>\n",
       "    .dataframe tbody tr th:only-of-type {\n",
       "        vertical-align: middle;\n",
       "    }\n",
       "\n",
       "    .dataframe tbody tr th {\n",
       "        vertical-align: top;\n",
       "    }\n",
       "\n",
       "    .dataframe thead th {\n",
       "        text-align: right;\n",
       "    }\n",
       "</style>\n",
       "<table border=\"1\" class=\"dataframe\">\n",
       "  <thead>\n",
       "    <tr style=\"text-align: right;\">\n",
       "      <th></th>\n",
       "      <th>order_id</th>\n",
       "      <th>quantity</th>\n",
       "      <th>item_name</th>\n",
       "      <th>choice_description</th>\n",
       "      <th>item_price</th>\n",
       "    </tr>\n",
       "  </thead>\n",
       "  <tbody>\n",
       "    <tr>\n",
       "      <th>4612</th>\n",
       "      <td>1831</td>\n",
       "      <td>1</td>\n",
       "      <td>Carnitas Bowl</td>\n",
       "      <td>[Fresh Tomato Salsa, [Fajita Vegetables, Rice,...</td>\n",
       "      <td>$9.25</td>\n",
       "    </tr>\n",
       "    <tr>\n",
       "      <th>4613</th>\n",
       "      <td>1831</td>\n",
       "      <td>1</td>\n",
       "      <td>Chips</td>\n",
       "      <td>NaN</td>\n",
       "      <td>$2.15</td>\n",
       "    </tr>\n",
       "    <tr>\n",
       "      <th>4614</th>\n",
       "      <td>1831</td>\n",
       "      <td>1</td>\n",
       "      <td>Bottled Water</td>\n",
       "      <td>NaN</td>\n",
       "      <td>$1.50</td>\n",
       "    </tr>\n",
       "    <tr>\n",
       "      <th>4615</th>\n",
       "      <td>1832</td>\n",
       "      <td>1</td>\n",
       "      <td>Chicken Soft Tacos</td>\n",
       "      <td>[Fresh Tomato Salsa, [Rice, Cheese, Sour Cream]]</td>\n",
       "      <td>$8.75</td>\n",
       "    </tr>\n",
       "    <tr>\n",
       "      <th>4616</th>\n",
       "      <td>1832</td>\n",
       "      <td>1</td>\n",
       "      <td>Chips and Guacamole</td>\n",
       "      <td>NaN</td>\n",
       "      <td>$4.45</td>\n",
       "    </tr>\n",
       "    <tr>\n",
       "      <th>4617</th>\n",
       "      <td>1833</td>\n",
       "      <td>1</td>\n",
       "      <td>Steak Burrito</td>\n",
       "      <td>[Fresh Tomato Salsa, [Rice, Black Beans, Sour ...</td>\n",
       "      <td>$11.75</td>\n",
       "    </tr>\n",
       "    <tr>\n",
       "      <th>4618</th>\n",
       "      <td>1833</td>\n",
       "      <td>1</td>\n",
       "      <td>Steak Burrito</td>\n",
       "      <td>[Fresh Tomato Salsa, [Rice, Sour Cream, Cheese...</td>\n",
       "      <td>$11.75</td>\n",
       "    </tr>\n",
       "    <tr>\n",
       "      <th>4619</th>\n",
       "      <td>1834</td>\n",
       "      <td>1</td>\n",
       "      <td>Chicken Salad Bowl</td>\n",
       "      <td>[Fresh Tomato Salsa, [Fajita Vegetables, Pinto...</td>\n",
       "      <td>$11.25</td>\n",
       "    </tr>\n",
       "    <tr>\n",
       "      <th>4620</th>\n",
       "      <td>1834</td>\n",
       "      <td>1</td>\n",
       "      <td>Chicken Salad Bowl</td>\n",
       "      <td>[Fresh Tomato Salsa, [Fajita Vegetables, Lettu...</td>\n",
       "      <td>$8.75</td>\n",
       "    </tr>\n",
       "    <tr>\n",
       "      <th>4621</th>\n",
       "      <td>1834</td>\n",
       "      <td>1</td>\n",
       "      <td>Chicken Salad Bowl</td>\n",
       "      <td>[Fresh Tomato Salsa, [Fajita Vegetables, Pinto...</td>\n",
       "      <td>$8.75</td>\n",
       "    </tr>\n",
       "  </tbody>\n",
       "</table>\n",
       "</div>"
      ],
      "text/plain": [
       "      order_id  quantity            item_name  \\\n",
       "4612      1831         1        Carnitas Bowl   \n",
       "4613      1831         1                Chips   \n",
       "4614      1831         1        Bottled Water   \n",
       "4615      1832         1   Chicken Soft Tacos   \n",
       "4616      1832         1  Chips and Guacamole   \n",
       "4617      1833         1        Steak Burrito   \n",
       "4618      1833         1        Steak Burrito   \n",
       "4619      1834         1   Chicken Salad Bowl   \n",
       "4620      1834         1   Chicken Salad Bowl   \n",
       "4621      1834         1   Chicken Salad Bowl   \n",
       "\n",
       "                                     choice_description item_price  \n",
       "4612  [Fresh Tomato Salsa, [Fajita Vegetables, Rice,...     $9.25   \n",
       "4613                                                NaN     $2.15   \n",
       "4614                                                NaN     $1.50   \n",
       "4615   [Fresh Tomato Salsa, [Rice, Cheese, Sour Cream]]     $8.75   \n",
       "4616                                                NaN     $4.45   \n",
       "4617  [Fresh Tomato Salsa, [Rice, Black Beans, Sour ...    $11.75   \n",
       "4618  [Fresh Tomato Salsa, [Rice, Sour Cream, Cheese...    $11.75   \n",
       "4619  [Fresh Tomato Salsa, [Fajita Vegetables, Pinto...    $11.25   \n",
       "4620  [Fresh Tomato Salsa, [Fajita Vegetables, Lettu...     $8.75   \n",
       "4621  [Fresh Tomato Salsa, [Fajita Vegetables, Pinto...     $8.75   "
      ]
     },
     "execution_count": 3,
     "metadata": {},
     "output_type": "execute_result"
    }
   ],
   "source": [
    "#역순으로도 출력가능\n",
    "chipo.tail(10)"
   ]
  },
  {
   "cell_type": "code",
   "execution_count": 4,
   "id": "16ba81b2",
   "metadata": {},
   "outputs": [
    {
     "name": "stdout",
     "output_type": "stream",
     "text": [
      "Index(['order_id', 'quantity', 'item_name', 'choice_description',\n",
      "       'item_price'],\n",
      "      dtype='object')\n",
      "-----------------------------------------------------------------\n",
      "RangeIndex(start=0, stop=4622, step=1)\n"
     ]
    }
   ],
   "source": [
    "#행의 목록(colunms의 header)과 열의 목록(index))에 대한 정보를 함께 출력 가능.\n",
    "print(chipo.columns)\n",
    "print(\"-----------------------------------------------------------------\")\n",
    "print(chipo.index)"
   ]
  },
  {
   "cell_type": "markdown",
   "id": "30a6df9a",
   "metadata": {},
   "source": [
    "### [chipotle 데이터셋의 수치적 특성 파악]\n",
    "#### quantity와 itemp_price의 수치적 특징\n",
    "#### describe() 함수로 수치형 기초 통계량 출력하기\n",
    "#### order_id와 imtem_name의 개수 모두 수치형이다.\n",
    "order_id는 숫자의 의미를 가지지 않기때문에 str으로 변환시켜 통계에 포함되지 않게함"
   ]
  },
  {
   "cell_type": "code",
   "execution_count": 5,
   "id": "b451f563",
   "metadata": {},
   "outputs": [
    {
     "data": {
      "text/html": [
       "<div>\n",
       "<style scoped>\n",
       "    .dataframe tbody tr th:only-of-type {\n",
       "        vertical-align: middle;\n",
       "    }\n",
       "\n",
       "    .dataframe tbody tr th {\n",
       "        vertical-align: top;\n",
       "    }\n",
       "\n",
       "    .dataframe thead th {\n",
       "        text-align: right;\n",
       "    }\n",
       "</style>\n",
       "<table border=\"1\" class=\"dataframe\">\n",
       "  <thead>\n",
       "    <tr style=\"text-align: right;\">\n",
       "      <th></th>\n",
       "      <th>quantity</th>\n",
       "    </tr>\n",
       "  </thead>\n",
       "  <tbody>\n",
       "    <tr>\n",
       "      <th>count</th>\n",
       "      <td>4622.000000</td>\n",
       "    </tr>\n",
       "    <tr>\n",
       "      <th>mean</th>\n",
       "      <td>1.075725</td>\n",
       "    </tr>\n",
       "    <tr>\n",
       "      <th>std</th>\n",
       "      <td>0.410186</td>\n",
       "    </tr>\n",
       "    <tr>\n",
       "      <th>min</th>\n",
       "      <td>1.000000</td>\n",
       "    </tr>\n",
       "    <tr>\n",
       "      <th>25%</th>\n",
       "      <td>1.000000</td>\n",
       "    </tr>\n",
       "    <tr>\n",
       "      <th>50%</th>\n",
       "      <td>1.000000</td>\n",
       "    </tr>\n",
       "    <tr>\n",
       "      <th>75%</th>\n",
       "      <td>1.000000</td>\n",
       "    </tr>\n",
       "    <tr>\n",
       "      <th>max</th>\n",
       "      <td>15.000000</td>\n",
       "    </tr>\n",
       "  </tbody>\n",
       "</table>\n",
       "</div>"
      ],
      "text/plain": [
       "          quantity\n",
       "count  4622.000000\n",
       "mean      1.075725\n",
       "std       0.410186\n",
       "min       1.000000\n",
       "25%       1.000000\n",
       "50%       1.000000\n",
       "75%       1.000000\n",
       "max      15.000000"
      ]
     },
     "execution_count": 5,
     "metadata": {},
     "output_type": "execute_result"
    }
   ],
   "source": [
    "chipo['order_id']=chipo['order_id'].astype(str)\n",
    "chipo.describe() #숫자로 통계될수있는 모든 피처 정보 출력"
   ]
  },
  {
   "cell_type": "markdown",
   "id": "8eeee381",
   "metadata": {},
   "source": [
    "#### unique()함수로 범주형 피처의 개수 출력하기 \n",
    "중복되는 피처를 제외하고 몇개의 범주가 있는지 확인"
   ]
  },
  {
   "cell_type": "code",
   "execution_count": 6,
   "id": "779eaa5d",
   "metadata": {},
   "outputs": [
    {
     "data": {
      "text/plain": [
       "1834"
      ]
     },
     "execution_count": 6,
     "metadata": {},
     "output_type": "execute_result"
    }
   ],
   "source": [
    "#order_id의 개수 출력\n",
    "len(chipo['order_id'].unique())"
   ]
  },
  {
   "cell_type": "code",
   "execution_count": 7,
   "id": "ec8c68f7",
   "metadata": {},
   "outputs": [
    {
     "data": {
      "text/plain": [
       "50"
      ]
     },
     "execution_count": 7,
     "metadata": {},
     "output_type": "execute_result"
    }
   ],
   "source": [
    "#item_name의 개수 출력\n",
    "len(chipo['item_name'].unique())"
   ]
  },
  {
   "cell_type": "markdown",
   "id": "096aea81",
   "metadata": {},
   "source": [
    "### 인사이트의 발견 : 탐색과 시각화 하기.\n",
    "#### 가장 많이 주문한 아이템 top10 출력하기\n",
    "\n",
    "value_counts() >>검색하여 상위부터 출력하는 함수.\n",
    "\n",
    "value_counts()는 시리즈 객체에만 적용 (series : 복수의 행을 가진 하나의 열 구조 (세로배열이라고 생각))"
   ]
  },
  {
   "cell_type": "code",
   "execution_count": 8,
   "id": "575c17de",
   "metadata": {},
   "outputs": [
    {
     "data": {
      "text/plain": [
       "Chicken Bowl                    726\n",
       "Chicken Burrito                 553\n",
       "Chips and Guacamole             479\n",
       "Steak Burrito                   368\n",
       "Canned Soft Drink               301\n",
       "Steak Bowl                      211\n",
       "Chips                           211\n",
       "Bottled Water                   162\n",
       "Chicken Soft Tacos              115\n",
       "Chips and Fresh Tomato Salsa    110\n",
       "Name: item_name, dtype: int64"
      ]
     },
     "execution_count": 8,
     "metadata": {},
     "output_type": "execute_result"
    }
   ],
   "source": [
    "chipo['item_name'].value_counts()[:10]"
   ]
  },
  {
   "cell_type": "code",
   "execution_count": 19,
   "id": "acd2ff98",
   "metadata": {
    "scrolled": true
   },
   "outputs": [
    {
     "name": "stdout",
     "output_type": "stream",
     "text": [
      "Top 1  :  Chicken Bowl 726\n",
      "Top 2  :  Chicken Burrito 553\n",
      "Top 3  :  Chips and Guacamole 479\n",
      "Top 4  :  Steak Burrito 368\n",
      "Top 5  :  Canned Soft Drink 301\n",
      "Top 6  :  Steak Bowl 211\n",
      "Top 7  :  Chips 211\n",
      "Top 8  :  Bottled Water 162\n",
      "Top 9  :  Chicken Soft Tacos 115\n",
      "Top 10  :  Chips and Fresh Tomato Salsa 110\n"
     ]
    }
   ],
   "source": [
    "item_count=chipo['item_name'].value_counts()[:10]#0번째부터 9번째 까지10개를 뽑겠다.\n",
    "for i,(item,cnt) in enumerate(item_count.iteritems(),1):##enumerate 반복문 사용시 몇번째 반복문인지 확인가능.\n",
    "    print(\"Top\",i,\" : \",item,cnt)                    #i를 1부터 시작하겠다.\n",
    "                                                     #iteritems() : '키'와 '값'의 쌍을 iterator(반복자)로 반환한다."
   ]
  },
  {
   "cell_type": "markdown",
   "id": "3953a34c",
   "metadata": {},
   "source": [
    "#### 아이템별 주문 개수와 총량\n",
    "groupby()함수를 이용하여 아이템별 주문 개수와 총량을 구함\n",
    "\n",
    "groupby()함수는 데이터 프레임에서 특정 피처를 기준으로 그룹을생성\n",
    "\n",
    "이를 통해 그룹별 연산을 적용할 수 있음.\n",
    "\n",
    "ex)'학급'그룹의 '학급별 평균 키','학급별 평균 몸무게' 등"
   ]
  },
  {
   "cell_type": "code",
   "execution_count": 20,
   "id": "776d9219",
   "metadata": {},
   "outputs": [
    {
     "data": {
      "text/plain": [
       "item_name\n",
       "6 Pack Soft Drink                         54\n",
       "Barbacoa Bowl                             66\n",
       "Barbacoa Burrito                          91\n",
       "Barbacoa Crispy Tacos                     11\n",
       "Barbacoa Salad Bowl                       10\n",
       "Barbacoa Soft Tacos                       25\n",
       "Bottled Water                            162\n",
       "Bowl                                       2\n",
       "Burrito                                    6\n",
       "Canned Soda                              104\n",
       "Canned Soft Drink                        301\n",
       "Carnitas Bowl                             68\n",
       "Carnitas Burrito                          59\n",
       "Carnitas Crispy Tacos                      7\n",
       "Carnitas Salad                             1\n",
       "Carnitas Salad Bowl                        6\n",
       "Carnitas Soft Tacos                       40\n",
       "Chicken Bowl                             726\n",
       "Chicken Burrito                          553\n",
       "Chicken Crispy Tacos                      47\n",
       "Chicken Salad                              9\n",
       "Chicken Salad Bowl                       110\n",
       "Chicken Soft Tacos                       115\n",
       "Chips                                    211\n",
       "Chips and Fresh Tomato Salsa             110\n",
       "Chips and Guacamole                      479\n",
       "Chips and Mild Fresh Tomato Salsa          1\n",
       "Chips and Roasted Chili Corn Salsa        22\n",
       "Chips and Roasted Chili-Corn Salsa        18\n",
       "Chips and Tomatillo Green Chili Salsa     43\n",
       "Chips and Tomatillo Red Chili Salsa       48\n",
       "Chips and Tomatillo-Green Chili Salsa     31\n",
       "Chips and Tomatillo-Red Chili Salsa       20\n",
       "Crispy Tacos                               2\n",
       "Izze                                      20\n",
       "Nantucket Nectar                          27\n",
       "Salad                                      2\n",
       "Side of Chips                            101\n",
       "Steak Bowl                               211\n",
       "Steak Burrito                            368\n",
       "Steak Crispy Tacos                        35\n",
       "Steak Salad                                4\n",
       "Steak Salad Bowl                          29\n",
       "Steak Soft Tacos                          55\n",
       "Veggie Bowl                               85\n",
       "Veggie Burrito                            95\n",
       "Veggie Crispy Tacos                        1\n",
       "Veggie Salad                               6\n",
       "Veggie Salad Bowl                         18\n",
       "Veggie Soft Tacos                          7\n",
       "Name: order_id, dtype: int64"
      ]
     },
     "execution_count": 20,
     "metadata": {},
     "output_type": "execute_result"
    }
   ],
   "source": [
    "#아이템별 주문한 id 개수를 출력\n",
    "order_count = chipo.groupby('item_name')['order_id'].count() #'item_name'으로 오름차순 정렬.'order_id'를 count\n",
    "order_count"
   ]
  },
  {
   "cell_type": "code",
   "execution_count": 23,
   "id": "d81dfeec",
   "metadata": {},
   "outputs": [
    {
     "data": {
      "text/plain": [
       "item_name\n",
       "6 Pack Soft Drink                         55\n",
       "Barbacoa Bowl                             66\n",
       "Barbacoa Burrito                          91\n",
       "Barbacoa Crispy Tacos                     12\n",
       "Barbacoa Salad Bowl                       10\n",
       "Barbacoa Soft Tacos                       25\n",
       "Bottled Water                            211\n",
       "Bowl                                       4\n",
       "Burrito                                    6\n",
       "Canned Soda                              126\n",
       "Canned Soft Drink                        351\n",
       "Carnitas Bowl                             71\n",
       "Carnitas Burrito                          60\n",
       "Carnitas Crispy Tacos                      8\n",
       "Carnitas Salad                             1\n",
       "Carnitas Salad Bowl                        6\n",
       "Carnitas Soft Tacos                       40\n",
       "Chicken Bowl                             761\n",
       "Chicken Burrito                          591\n",
       "Chicken Crispy Tacos                      50\n",
       "Chicken Salad                              9\n",
       "Chicken Salad Bowl                       123\n",
       "Chicken Soft Tacos                       120\n",
       "Chips                                    230\n",
       "Chips and Fresh Tomato Salsa             130\n",
       "Chips and Guacamole                      506\n",
       "Chips and Mild Fresh Tomato Salsa          1\n",
       "Chips and Roasted Chili Corn Salsa        23\n",
       "Chips and Roasted Chili-Corn Salsa        18\n",
       "Chips and Tomatillo Green Chili Salsa     45\n",
       "Chips and Tomatillo Red Chili Salsa       50\n",
       "Chips and Tomatillo-Green Chili Salsa     33\n",
       "Chips and Tomatillo-Red Chili Salsa       25\n",
       "Crispy Tacos                               2\n",
       "Izze                                      20\n",
       "Nantucket Nectar                          29\n",
       "Salad                                      2\n",
       "Side of Chips                            110\n",
       "Steak Bowl                               221\n",
       "Steak Burrito                            386\n",
       "Steak Crispy Tacos                        36\n",
       "Steak Salad                                4\n",
       "Steak Salad Bowl                          31\n",
       "Steak Soft Tacos                          56\n",
       "Veggie Bowl                               87\n",
       "Veggie Burrito                            97\n",
       "Veggie Crispy Tacos                        1\n",
       "Veggie Salad                               6\n",
       "Veggie Salad Bowl                         18\n",
       "Veggie Soft Tacos                          8\n",
       "Name: quantity, dtype: int64"
      ]
     },
     "execution_count": 23,
     "metadata": {},
     "output_type": "execute_result"
    }
   ],
   "source": [
    "#item별 주문 총량(quantity)\n",
    "item_quantity=chipo.groupby('item_name')['quantity'].sum() #quantity의 값을 더하기.\n",
    "item_quantity                            ##한id가 2개이상 주문했을 수 있으므로 quantity와 id의 갯수가 다름."
   ]
  },
  {
   "cell_type": "markdown",
   "id": "24ac6f07",
   "metadata": {},
   "source": [
    "### 시각화로 분석결과 살펴보기"
   ]
  },
  {
   "cell_type": "code",
   "execution_count": 26,
   "id": "b6e9f840",
   "metadata": {},
   "outputs": [],
   "source": [
    "%matplotlib inline\n",
    "import numpy as np\n",
    "import matplotlib.pyplot as plt"
   ]
  },
  {
   "cell_type": "code",
   "execution_count": 52,
   "id": "d5038227",
   "metadata": {},
   "outputs": [
    {
     "name": "stdout",
     "output_type": "stream",
     "text": [
      "[ 55  66  91  12  10  25 211   4   6 126 351  71  60   8   1   6  40 761\n",
      " 591  50   9 123 120 230 130 506   1  23  18  45  50  33  25   2  20  29\n",
      "   2 110 221 386  36   4  31  56  87  97   1   6  18   8]\n",
      "[55, 66, 91, 12, 10, 25, 211, 4, 6, 126, 351, 71, 60, 8, 1, 6, 40, 761, 591, 50, 9, 123, 120, 230, 130, 506, 1, 23, 18, 45, 50, 33, 25, 2, 20, 29, 2, 110, 221, 386, 36, 4, 31, 56, 87, 97, 1, 6, 18, 8]\n"
     ]
    },
    {
     "data": {
      "image/png": "[encoded data removed]",
      "text/plain": [
       "<Figure size 432x288 with 1 Axes>"
      ]
     },
     "metadata": {
      "needs_background": "light"
     },
     "output_type": "display_data"
    }
   ],
   "source": [
    "item_name_list = item_quantity.index.tolist()\n",
    "x_pos=np.arange(len(item_name_list))#numpy.arange('시작','끝','간격') 으로 배열 만들기.\n",
    "y_pos=item_quantity.values.tolist()#tolist() 배열로 만듬.\n",
    "print(item_quantity.values) #series를\n",
    "print(item_quantity.values.tolist())#list로\n",
    "plt.bar(x_pos,y_pos,align='center',color='red',edgecolor='blue')##bar()는 막대 그래프를 출력해주는 함수\n",
    "plt.ylabel('ordered_item_count')\n",
    "plt.title('Distribution of all orederd item')\n",
    "plt.show()"
   ]
  },
  {
   "cell_type": "markdown",
   "id": "59e5b7c3",
   "metadata": {},
   "source": [
    "### bar() bar(x,y,color,edgecolor,width,align,tick_lable)\n",
    "x 좌표\n",
    "\n",
    "y 좌표\n",
    "\n",
    "color\n",
    "\n",
    "edgecolor\n",
    "\n",
    "width\n",
    "\n",
    "align : 막대와 좌표의 위치\n",
    "\n",
    "tick_lable :  리스트 또는 어레이 형태로 지정하면, 틱에 문자열을 순서대로 나타낼 수 있습니다.\n",
    "\n",
    "tick? : 한칸.한줄."
   ]
  },
  {
   "cell_type": "code",
   "execution_count": 51,
   "id": "42126a7a",
   "metadata": {},
   "outputs": [
    {
     "data": {
      "text/plain": [
       "<BarContainer object of 50 artists>"
      ]
     },
     "execution_count": 51,
     "metadata": {},
     "output_type": "execute_result"
    },
    {
     "data": {
      "image/png": "[encoded data removed]",
      "text/plain": [
       "<Figure size 432x288 with 1 Axes>"
      ]
     },
     "metadata": {
      "needs_background": "light"
     },
     "output_type": "display_data"
    }
   ],
   "source": [
    "plt.bar(x_pos,order_count) ##아이템 주문 id개수 로 막대그래프 생성"
   ]
  },
  {
   "cell_type": "code",
   "execution_count": 43,
   "id": "e18fccc8",
   "metadata": {},
   "outputs": [
    {
     "data": {
      "text/plain": [
       "Chicken Bowl                             726\n",
       "Chicken Burrito                          553\n",
       "Chips and Guacamole                      479\n",
       "Steak Burrito                            368\n",
       "Canned Soft Drink                        301\n",
       "Steak Bowl                               211\n",
       "Chips                                    211\n",
       "Bottled Water                            162\n",
       "Chicken Soft Tacos                       115\n",
       "Chips and Fresh Tomato Salsa             110\n",
       "Chicken Salad Bowl                       110\n",
       "Canned Soda                              104\n",
       "Side of Chips                            101\n",
       "Veggie Burrito                            95\n",
       "Barbacoa Burrito                          91\n",
       "Veggie Bowl                               85\n",
       "Carnitas Bowl                             68\n",
       "Barbacoa Bowl                             66\n",
       "Carnitas Burrito                          59\n",
       "Steak Soft Tacos                          55\n",
       "6 Pack Soft Drink                         54\n",
       "Chips and Tomatillo Red Chili Salsa       48\n",
       "Chicken Crispy Tacos                      47\n",
       "Chips and Tomatillo Green Chili Salsa     43\n",
       "Carnitas Soft Tacos                       40\n",
       "Steak Crispy Tacos                        35\n",
       "Chips and Tomatillo-Green Chili Salsa     31\n",
       "Steak Salad Bowl                          29\n",
       "Nantucket Nectar                          27\n",
       "Barbacoa Soft Tacos                       25\n",
       "Chips and Roasted Chili Corn Salsa        22\n",
       "Izze                                      20\n",
       "Chips and Tomatillo-Red Chili Salsa       20\n",
       "Veggie Salad Bowl                         18\n",
       "Chips and Roasted Chili-Corn Salsa        18\n",
       "Barbacoa Crispy Tacos                     11\n",
       "Barbacoa Salad Bowl                       10\n",
       "Chicken Salad                              9\n",
       "Veggie Soft Tacos                          7\n",
       "Carnitas Crispy Tacos                      7\n",
       "Veggie Salad                               6\n",
       "Carnitas Salad Bowl                        6\n",
       "Burrito                                    6\n",
       "Steak Salad                                4\n",
       "Crispy Tacos                               2\n",
       "Salad                                      2\n",
       "Bowl                                       2\n",
       "Chips and Mild Fresh Tomato Salsa          1\n",
       "Veggie Crispy Tacos                        1\n",
       "Carnitas Salad                             1\n",
       "Name: item_name, dtype: int64"
      ]
     },
     "execution_count": 43,
     "metadata": {},
     "output_type": "execute_result"
    }
   ],
   "source": [
    "item_countall=chipo['item_name'].value_counts() #판매 개수 순으로 series생성\n",
    "item_countall"
   ]
  },
  {
   "cell_type": "code",
   "execution_count": 49,
   "id": "1f56cf59",
   "metadata": {},
   "outputs": [
    {
     "name": "stdout",
     "output_type": "stream",
     "text": [
      "['Chicken Bowl', 'Chicken Burrito', 'Chips and Guacamole', 'Steak Burrito', 'Canned Soft Drink', 'Steak Bowl', 'Chips', 'Bottled Water', 'Chicken Soft Tacos', 'Chips and Fresh Tomato Salsa', 'Chicken Salad Bowl', 'Canned Soda', 'Side of Chips', 'Veggie Burrito', 'Barbacoa Burrito', 'Veggie Bowl', 'Carnitas Bowl', 'Barbacoa Bowl', 'Carnitas Burrito', 'Steak Soft Tacos', '6 Pack Soft Drink', 'Chips and Tomatillo Red Chili Salsa', 'Chicken Crispy Tacos', 'Chips and Tomatillo Green Chili Salsa', 'Carnitas Soft Tacos', 'Steak Crispy Tacos', 'Chips and Tomatillo-Green Chili Salsa', 'Steak Salad Bowl', 'Nantucket Nectar', 'Barbacoa Soft Tacos', 'Chips and Roasted Chili Corn Salsa', 'Izze', 'Chips and Tomatillo-Red Chili Salsa', 'Veggie Salad Bowl', 'Chips and Roasted Chili-Corn Salsa', 'Barbacoa Crispy Tacos', 'Barbacoa Salad Bowl', 'Chicken Salad', 'Veggie Soft Tacos', 'Carnitas Crispy Tacos', 'Veggie Salad', 'Carnitas Salad Bowl', 'Burrito', 'Steak Salad', 'Crispy Tacos', 'Salad', 'Bowl', 'Chips and Mild Fresh Tomato Salsa', 'Veggie Crispy Tacos', 'Carnitas Salad']\n"
     ]
    },
    {
     "data": {
      "image/png": "[encoded data removed]",
      "text/plain": [
       "<Figure size 432x288 with 1 Axes>"
      ]
     },
     "metadata": {
      "needs_background": "light"
     },
     "output_type": "display_data"
    }
   ],
   "source": [
    "item_name_listall = item_countall.index.tolist()\n",
    "print(item_name_listall)#불러온 item_countall의 index를 list로.\n",
    "x_pos1=np.arange(len(item_name_listall))#numpy.arange('시작','끝','간격') 으로 배열 만들기.\n",
    "y_pos2=item_countall.values.tolist()#item_countall의 avlues를 tolist() 배열로 만듬.\n",
    "plt.bar(x_pos1,y_pos2)##bar()는 막대 그래프를 출력해주는 함수\n",
    "plt.show()"
   ]
  },
  {
   "cell_type": "code",
   "execution_count": 80,
   "id": "320a8044",
   "metadata": {},
   "outputs": [
    {
     "data": {
      "text/plain": [
       "<matplotlib.legend.Legend at 0x19bdae598e0>"
      ]
     },
     "execution_count": 80,
     "metadata": {},
     "output_type": "execute_result"
    },
    {
     "data": {
      "image/png": "[encoded data removed]",
      "text/plain": [
       "<Figure size 432x288 with 1 Axes>"
      ]
     },
     "metadata": {
      "needs_background": "light"
     },
     "output_type": "display_data"
    }
   ],
   "source": [
    "plt.scatter(x_pos, y_pos, s=y_pos,c=\"b\",alpha=1.0, label=\"order_quantity\",marker=\"*\")\n",
    "plt.scatter(x_pos,order_count, s=order_count,c=\"r\", alpha=0.5, label=\"order_count\",marker=\"*\")\n",
    "plt.legend(loc='upper left')"
   ]
  },
  {
   "cell_type": "code",
   "execution_count": 85,
   "id": "7acb693d",
   "metadata": {},
   "outputs": [
    {
     "name": "stdout",
     "output_type": "stream",
     "text": [
      "<class 'pandas.core.series.Series'>\n"
     ]
    }
   ],
   "source": [
    "chipoitem=chipo['item_name']\n",
    "chipoitem.value_counts()"
   ]
  },
  {
   "cell_type": "code",
   "execution_count": 86,
   "id": "dc12906a",
   "metadata": {},
   "outputs": [
    {
     "data": {
      "text/plain": [
       "pandas.core.series.Series"
      ]
     },
     "execution_count": 86,
     "metadata": {},
     "output_type": "execute_result"
    }
   ],
   "source": [
    "type(chipoitem.value_counts())"
   ]
  },
  {
   "cell_type": "code",
   "execution_count": 83,
   "id": "f26ceb20",
   "metadata": {},
   "outputs": [
    {
     "data": {
      "text/plain": [
       "array(['Chips and Fresh Tomato Salsa', 'Izze', 'Nantucket Nectar',\n",
       "       'Chips and Tomatillo-Green Chili Salsa', 'Chicken Bowl',\n",
       "       'Side of Chips', 'Steak Burrito', 'Steak Soft Tacos',\n",
       "       'Chips and Guacamole', 'Chicken Crispy Tacos',\n",
       "       'Chicken Soft Tacos', 'Chicken Burrito', 'Canned Soda',\n",
       "       'Barbacoa Burrito', 'Carnitas Burrito', 'Carnitas Bowl',\n",
       "       'Bottled Water', 'Chips and Tomatillo Green Chili Salsa',\n",
       "       'Barbacoa Bowl', 'Chips', 'Chicken Salad Bowl', 'Steak Bowl',\n",
       "       'Barbacoa Soft Tacos', 'Veggie Burrito', 'Veggie Bowl',\n",
       "       'Steak Crispy Tacos', 'Chips and Tomatillo Red Chili Salsa',\n",
       "       'Barbacoa Crispy Tacos', 'Veggie Salad Bowl',\n",
       "       'Chips and Roasted Chili-Corn Salsa',\n",
       "       'Chips and Roasted Chili Corn Salsa', 'Carnitas Soft Tacos',\n",
       "       'Chicken Salad', 'Canned Soft Drink', 'Steak Salad Bowl',\n",
       "       '6 Pack Soft Drink', 'Chips and Tomatillo-Red Chili Salsa', 'Bowl',\n",
       "       'Burrito', 'Crispy Tacos', 'Carnitas Crispy Tacos', 'Steak Salad',\n",
       "       'Chips and Mild Fresh Tomato Salsa', 'Veggie Soft Tacos',\n",
       "       'Carnitas Salad Bowl', 'Barbacoa Salad Bowl', 'Salad',\n",
       "       'Veggie Crispy Tacos', 'Veggie Salad', 'Carnitas Salad'],\n",
       "      dtype=object)"
      ]
     },
     "execution_count": 83,
     "metadata": {},
     "output_type": "execute_result"
    }
   ],
   "source": [
    "chipoitem.unique()"
   ]
  },
  {
   "cell_type": "code",
   "execution_count": 87,
   "id": "3ed7518f",
   "metadata": {},
   "outputs": [
    {
     "data": {
      "text/plain": [
       "numpy.ndarray"
      ]
     },
     "execution_count": 87,
     "metadata": {},
     "output_type": "execute_result"
    }
   ],
   "source": [
    "type(chipoitem.unique())"
   ]
  },
  {
   "cell_type": "code",
   "execution_count": 88,
   "id": "4a54d55b",
   "metadata": {},
   "outputs": [
    {
     "data": {
      "text/plain": [
       "['Chips and Fresh Tomato Salsa',\n",
       " 'Izze',\n",
       " 'Nantucket Nectar',\n",
       " 'Chips and Tomatillo-Green Chili Salsa',\n",
       " 'Chicken Bowl',\n",
       " 'Side of Chips',\n",
       " 'Steak Burrito',\n",
       " 'Steak Soft Tacos',\n",
       " 'Chips and Guacamole',\n",
       " 'Chicken Crispy Tacos',\n",
       " 'Chicken Soft Tacos',\n",
       " 'Chicken Burrito',\n",
       " 'Canned Soda',\n",
       " 'Barbacoa Burrito',\n",
       " 'Carnitas Burrito',\n",
       " 'Carnitas Bowl',\n",
       " 'Bottled Water',\n",
       " 'Chips and Tomatillo Green Chili Salsa',\n",
       " 'Barbacoa Bowl',\n",
       " 'Chips',\n",
       " 'Chicken Salad Bowl',\n",
       " 'Steak Bowl',\n",
       " 'Barbacoa Soft Tacos',\n",
       " 'Veggie Burrito',\n",
       " 'Veggie Bowl',\n",
       " 'Steak Crispy Tacos',\n",
       " 'Chips and Tomatillo Red Chili Salsa',\n",
       " 'Barbacoa Crispy Tacos',\n",
       " 'Veggie Salad Bowl',\n",
       " 'Chips and Roasted Chili-Corn Salsa',\n",
       " 'Chips and Roasted Chili Corn Salsa',\n",
       " 'Carnitas Soft Tacos',\n",
       " 'Chicken Salad',\n",
       " 'Canned Soft Drink',\n",
       " 'Steak Salad Bowl',\n",
       " '6 Pack Soft Drink',\n",
       " 'Chips and Tomatillo-Red Chili Salsa',\n",
       " 'Bowl',\n",
       " 'Burrito',\n",
       " 'Crispy Tacos',\n",
       " 'Carnitas Crispy Tacos',\n",
       " 'Steak Salad',\n",
       " 'Chips and Mild Fresh Tomato Salsa',\n",
       " 'Veggie Soft Tacos',\n",
       " 'Carnitas Salad Bowl',\n",
       " 'Barbacoa Salad Bowl',\n",
       " 'Salad',\n",
       " 'Veggie Crispy Tacos',\n",
       " 'Veggie Salad',\n",
       " 'Carnitas Salad']"
      ]
     },
     "execution_count": 88,
     "metadata": {},
     "output_type": "execute_result"
    }
   ],
   "source": [
    "chipoitem.unique().tolist()"
   ]
  },
  {
   "cell_type": "code",
   "execution_count": 89,
   "id": "000dc84b",
   "metadata": {},
   "outputs": [
    {
     "data": {
      "text/plain": [
       "list"
      ]
     },
     "execution_count": 89,
     "metadata": {},
     "output_type": "execute_result"
    }
   ],
   "source": [
    "type(chipoitem.unique().tolist())"
   ]
  },
  {
   "cell_type": "code",
   "execution_count": null,
   "id": "39230b0c",
   "metadata": {},
   "outputs": [],
   "source": []
  }
 ],
 "metadata": {
  "kernelspec": {
   "display_name": "Python 3 (ipykernel)",
   "language": "python",
   "name": "python3"
  },
  "language_info": {
   "codemirror_mode": {
    "name": "ipython",
    "version": 3
   },
   "file_extension": ".py",
   "mimetype": "text/x-python",
   "name": "python",
   "nbconvert_exporter": "python",
   "pygments_lexer": "ipython3",
   "version": "3.9.7"
  }
 },
 "nbformat": 4,
 "nbformat_minor": 5
}
