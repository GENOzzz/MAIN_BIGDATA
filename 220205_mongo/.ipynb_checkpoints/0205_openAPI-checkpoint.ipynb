{
 "cells": [
  {
   "cell_type": "markdown",
   "id": "10cab81e",
   "metadata": {},
   "source": [
    "## 시도별 실시간 측정 정보 조회\n",
    "#### 웹브라우저 test\n",
    "- link http://apis.data.go.kr/B552584/ArpltnInforInqireSvc\n",
    "- key dx787IZ9fd2MlLGJtSAHZ1JhN4mHOCq%2FH8MUynMuKpY6T6cqlUkXMgUtpRCsNXtRkM9TfvjrZw%2FS6ZFQeE%2F69g%3D%3D\n",
    "- http://apis.data.go.kr/B552584/ArpltnInforInqireSvc/getCtprvnRltmMesureDnsty?sidoName=대구&pageNo=1&numOfRows=1000&returnType=json&serviceKey=서비스키&ver=1.0\n",
    "    - numOfRows : 1000/return Type : json/sidoName : 대구/serviceKey=자신의 서비스키\n",
    "- link+key \n",
    "http://apis.data.go.kr/B552584/ArpltnInforInqireSvc/getCtprvnRltmMesureDnsty?sidoName=대구&pageNo=1&numOfRows=1000&returnType=json&serviceKey=dx787IZ9fd2MlLGJtSAHZ1JhN4mHOCq%2FH8MUynMuKpY6T6cqlUkXMgUtpRCsNXtRkM9TfvjrZw%2FS6ZFQeE%2F69g%3D%3D&ver=1.0"
   ]
  },
  {
   "cell_type": "code",
   "execution_count": 1,
   "id": "54d20cde",
   "metadata": {},
   "outputs": [],
   "source": [
    "import requests\n",
    "from bs4 import BeautifulSoup"
   ]
  },
  {
   "cell_type": "code",
   "execution_count": 13,
   "id": "5fd4dc15",
   "metadata": {},
   "outputs": [],
   "source": [
    "url=\"http://apis.data.go.kr/B552584/ArpltnInforInqireSvc/getCtprvnRltmMesureDnsty\"\n",
    "param_data={\n",
    "    'sidoName':'대구',#요청할 시 도\n",
    "    'pageNo':'1',#페이지 번호\n",
    "    'numOfRows':'1000',\n",
    "    'returnType':'json',#리턴타입\n",
    "    #디코딩된 serviceKey. => param으로 요청시 python에서 인코딩하여 요청\n",
    "    'serviceKey':'dx787IZ9fd2MlLGJtSAHZ1JhN4mHOCq/H8MUynMuKpY6T6cqlUkXMgUtpRCsNXtRkM9TfvjrZw/S6ZFQeE/69g==',\n",
    "    'ver':'1.0'\n",
    "}\n",
    "res=requests.get(url,params=param_data)"
   ]
  },
  {
   "cell_type": "code",
   "execution_count": 14,
   "id": "d87b5ca6",
   "metadata": {},
   "outputs": [
    {
     "name": "stdout",
     "output_type": "stream",
     "text": [
      "http://apis.data.go.kr/B552584/ArpltnInforInqireSvc/getCtprvnRltmMesureDnsty?sidoName=%EB%8C%80%EA%B5%AC&pageNo=1&numOfRows=1000&returnType=json&serviceKey=dx787IZ9fd2MlLGJtSAHZ1JhN4mHOCq%2FH8MUynMuKpY6T6cqlUkXMgUtpRCsNXtRkM9TfvjrZw%2FS6ZFQeE%2F69g%3D%3D&ver=1.0\n"
     ]
    }
   ],
   "source": [
    "print(res.url)"
   ]
  },
  {
   "cell_type": "code",
   "execution_count": null,
   "id": "4268292f",
   "metadata": {},
   "outputs": [],
   "source": []
  }
 ],
 "metadata": {
  "kernelspec": {
   "display_name": "Python 3 (ipykernel)",
   "language": "python",
   "name": "python3"
  },
  "language_info": {
   "codemirror_mode": {
    "name": "ipython",
    "version": 3
   },
   "file_extension": ".py",
   "mimetype": "text/x-python",
   "name": "python",
   "nbconvert_exporter": "python",
   "pygments_lexer": "ipython3",
   "version": "3.9.7"
  }
 },
 "nbformat": 4,
 "nbformat_minor": 5
}
