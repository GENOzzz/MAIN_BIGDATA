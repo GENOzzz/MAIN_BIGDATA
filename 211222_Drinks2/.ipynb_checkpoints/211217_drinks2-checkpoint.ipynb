{
 "cells": [
  {
   "cell_type": "code",
   "execution_count": 1,
   "id": "24e04b9d",
   "metadata": {},
   "outputs": [],
   "source": [
    "import pandas as pd\n",
    "import numpy as np\n",
    "import matplotlib.pyplot as plt"
   ]
  },
  {
   "cell_type": "code",
   "execution_count": 2,
   "id": "c7fb9326",
   "metadata": {},
   "outputs": [
    {
     "name": "stdout",
     "output_type": "stream",
     "text": [
      "<class 'pandas.core.frame.DataFrame'>\n",
      "RangeIndex: 193 entries, 0 to 192\n",
      "Data columns (total 6 columns):\n",
      " #   Column                        Non-Null Count  Dtype  \n",
      "---  ------                        --------------  -----  \n",
      " 0   country                       193 non-null    object \n",
      " 1   beer_servings                 193 non-null    int64  \n",
      " 2   spirit_servings               193 non-null    int64  \n",
      " 3   wine_servings                 193 non-null    int64  \n",
      " 4   total_litres_of_pure_alcohol  193 non-null    float64\n",
      " 5   continent                     170 non-null    object \n",
      "dtypes: float64(1), int64(3), object(2)\n",
      "memory usage: 9.2+ KB\n"
     ]
    }
   ],
   "source": [
    "file_path='../data/drinksdata.csv'\n",
    "drinks=pd.read_csv(file_path)#read_csv() : 데이터를 데이터 프레임 형태로 불러옴\n",
    "drinks.info()"
   ]
  },
  {
   "cell_type": "code",
   "execution_count": 3,
   "id": "377a663b",
   "metadata": {},
   "outputs": [
    {
     "data": {
      "text/html": [
       "<div>\n",
       "<style scoped>\n",
       "    .dataframe tbody tr th:only-of-type {\n",
       "        vertical-align: middle;\n",
       "    }\n",
       "\n",
       "    .dataframe tbody tr th {\n",
       "        vertical-align: top;\n",
       "    }\n",
       "\n",
       "    .dataframe thead th {\n",
       "        text-align: right;\n",
       "    }\n",
       "</style>\n",
       "<table border=\"1\" class=\"dataframe\">\n",
       "  <thead>\n",
       "    <tr style=\"text-align: right;\">\n",
       "      <th></th>\n",
       "      <th>country</th>\n",
       "      <th>beer_servings</th>\n",
       "      <th>spirit_servings</th>\n",
       "      <th>wine_servings</th>\n",
       "      <th>total_litres_of_pure_alcohol</th>\n",
       "      <th>continent</th>\n",
       "    </tr>\n",
       "  </thead>\n",
       "  <tbody>\n",
       "    <tr>\n",
       "      <th>0</th>\n",
       "      <td>Afghanistan</td>\n",
       "      <td>0</td>\n",
       "      <td>0</td>\n",
       "      <td>0</td>\n",
       "      <td>0.0</td>\n",
       "      <td>AS</td>\n",
       "    </tr>\n",
       "    <tr>\n",
       "      <th>1</th>\n",
       "      <td>Albania</td>\n",
       "      <td>89</td>\n",
       "      <td>132</td>\n",
       "      <td>54</td>\n",
       "      <td>4.9</td>\n",
       "      <td>EU</td>\n",
       "    </tr>\n",
       "    <tr>\n",
       "      <th>2</th>\n",
       "      <td>Algeria</td>\n",
       "      <td>25</td>\n",
       "      <td>0</td>\n",
       "      <td>14</td>\n",
       "      <td>0.7</td>\n",
       "      <td>AF</td>\n",
       "    </tr>\n",
       "    <tr>\n",
       "      <th>3</th>\n",
       "      <td>Andorra</td>\n",
       "      <td>245</td>\n",
       "      <td>138</td>\n",
       "      <td>312</td>\n",
       "      <td>12.4</td>\n",
       "      <td>EU</td>\n",
       "    </tr>\n",
       "    <tr>\n",
       "      <th>4</th>\n",
       "      <td>Angola</td>\n",
       "      <td>217</td>\n",
       "      <td>57</td>\n",
       "      <td>45</td>\n",
       "      <td>5.9</td>\n",
       "      <td>AF</td>\n",
       "    </tr>\n",
       "    <tr>\n",
       "      <th>5</th>\n",
       "      <td>Antigua &amp; Barbuda</td>\n",
       "      <td>102</td>\n",
       "      <td>128</td>\n",
       "      <td>45</td>\n",
       "      <td>4.9</td>\n",
       "      <td>NaN</td>\n",
       "    </tr>\n",
       "    <tr>\n",
       "      <th>6</th>\n",
       "      <td>Argentina</td>\n",
       "      <td>193</td>\n",
       "      <td>25</td>\n",
       "      <td>221</td>\n",
       "      <td>8.3</td>\n",
       "      <td>SA</td>\n",
       "    </tr>\n",
       "    <tr>\n",
       "      <th>7</th>\n",
       "      <td>Armenia</td>\n",
       "      <td>21</td>\n",
       "      <td>179</td>\n",
       "      <td>11</td>\n",
       "      <td>3.8</td>\n",
       "      <td>EU</td>\n",
       "    </tr>\n",
       "    <tr>\n",
       "      <th>8</th>\n",
       "      <td>Australia</td>\n",
       "      <td>261</td>\n",
       "      <td>72</td>\n",
       "      <td>212</td>\n",
       "      <td>10.4</td>\n",
       "      <td>OC</td>\n",
       "    </tr>\n",
       "    <tr>\n",
       "      <th>9</th>\n",
       "      <td>Austria</td>\n",
       "      <td>279</td>\n",
       "      <td>75</td>\n",
       "      <td>191</td>\n",
       "      <td>9.7</td>\n",
       "      <td>EU</td>\n",
       "    </tr>\n",
       "  </tbody>\n",
       "</table>\n",
       "</div>"
      ],
      "text/plain": [
       "             country  beer_servings  spirit_servings  wine_servings  \\\n",
       "0        Afghanistan              0                0              0   \n",
       "1            Albania             89              132             54   \n",
       "2            Algeria             25                0             14   \n",
       "3            Andorra            245              138            312   \n",
       "4             Angola            217               57             45   \n",
       "5  Antigua & Barbuda            102              128             45   \n",
       "6          Argentina            193               25            221   \n",
       "7            Armenia             21              179             11   \n",
       "8          Australia            261               72            212   \n",
       "9            Austria            279               75            191   \n",
       "\n",
       "   total_litres_of_pure_alcohol continent  \n",
       "0                           0.0        AS  \n",
       "1                           4.9        EU  \n",
       "2                           0.7        AF  \n",
       "3                          12.4        EU  \n",
       "4                           5.9        AF  \n",
       "5                           4.9       NaN  \n",
       "6                           8.3        SA  \n",
       "7                           3.8        EU  \n",
       "8                          10.4        OC  \n",
       "9                           9.7        EU  "
      ]
     },
     "execution_count": 3,
     "metadata": {},
     "output_type": "execute_result"
    }
   ],
   "source": [
    "drinks.head(10)"
   ]
  },
  {
   "cell_type": "code",
   "execution_count": 4,
   "id": "33130e40",
   "metadata": {},
   "outputs": [
    {
     "data": {
      "text/html": [
       "<div>\n",
       "<style scoped>\n",
       "    .dataframe tbody tr th:only-of-type {\n",
       "        vertical-align: middle;\n",
       "    }\n",
       "\n",
       "    .dataframe tbody tr th {\n",
       "        vertical-align: top;\n",
       "    }\n",
       "\n",
       "    .dataframe thead th {\n",
       "        text-align: right;\n",
       "    }\n",
       "</style>\n",
       "<table border=\"1\" class=\"dataframe\">\n",
       "  <thead>\n",
       "    <tr style=\"text-align: right;\">\n",
       "      <th></th>\n",
       "      <th>beer_servings</th>\n",
       "      <th>spirit_servings</th>\n",
       "      <th>wine_servings</th>\n",
       "      <th>total_litres_of_pure_alcohol</th>\n",
       "    </tr>\n",
       "  </thead>\n",
       "  <tbody>\n",
       "    <tr>\n",
       "      <th>count</th>\n",
       "      <td>193.000000</td>\n",
       "      <td>193.000000</td>\n",
       "      <td>193.000000</td>\n",
       "      <td>193.000000</td>\n",
       "    </tr>\n",
       "    <tr>\n",
       "      <th>mean</th>\n",
       "      <td>106.160622</td>\n",
       "      <td>80.994819</td>\n",
       "      <td>49.450777</td>\n",
       "      <td>4.717098</td>\n",
       "    </tr>\n",
       "    <tr>\n",
       "      <th>std</th>\n",
       "      <td>101.143103</td>\n",
       "      <td>88.284312</td>\n",
       "      <td>79.697598</td>\n",
       "      <td>3.773298</td>\n",
       "    </tr>\n",
       "    <tr>\n",
       "      <th>min</th>\n",
       "      <td>0.000000</td>\n",
       "      <td>0.000000</td>\n",
       "      <td>0.000000</td>\n",
       "      <td>0.000000</td>\n",
       "    </tr>\n",
       "    <tr>\n",
       "      <th>25%</th>\n",
       "      <td>20.000000</td>\n",
       "      <td>4.000000</td>\n",
       "      <td>1.000000</td>\n",
       "      <td>1.300000</td>\n",
       "    </tr>\n",
       "    <tr>\n",
       "      <th>50%</th>\n",
       "      <td>76.000000</td>\n",
       "      <td>56.000000</td>\n",
       "      <td>8.000000</td>\n",
       "      <td>4.200000</td>\n",
       "    </tr>\n",
       "    <tr>\n",
       "      <th>75%</th>\n",
       "      <td>188.000000</td>\n",
       "      <td>128.000000</td>\n",
       "      <td>59.000000</td>\n",
       "      <td>7.200000</td>\n",
       "    </tr>\n",
       "    <tr>\n",
       "      <th>max</th>\n",
       "      <td>376.000000</td>\n",
       "      <td>438.000000</td>\n",
       "      <td>370.000000</td>\n",
       "      <td>14.400000</td>\n",
       "    </tr>\n",
       "  </tbody>\n",
       "</table>\n",
       "</div>"
      ],
      "text/plain": [
       "       beer_servings  spirit_servings  wine_servings  \\\n",
       "count     193.000000       193.000000     193.000000   \n",
       "mean      106.160622        80.994819      49.450777   \n",
       "std       101.143103        88.284312      79.697598   \n",
       "min         0.000000         0.000000       0.000000   \n",
       "25%        20.000000         4.000000       1.000000   \n",
       "50%        76.000000        56.000000       8.000000   \n",
       "75%       188.000000       128.000000      59.000000   \n",
       "max       376.000000       438.000000     370.000000   \n",
       "\n",
       "       total_litres_of_pure_alcohol  \n",
       "count                    193.000000  \n",
       "mean                       4.717098  \n",
       "std                        3.773298  \n",
       "min                        0.000000  \n",
       "25%                        1.300000  \n",
       "50%                        4.200000  \n",
       "75%                        7.200000  \n",
       "max                       14.400000  "
      ]
     },
     "execution_count": 4,
     "metadata": {},
     "output_type": "execute_result"
    }
   ],
   "source": [
    "drinks.describe()"
   ]
  },
  {
   "cell_type": "markdown",
   "id": "21eecbf9",
   "metadata": {},
   "source": [
    "##### [피쳐간의 상관관계 탐색]\n",
    "##### [두 피처간의 상관계수 구하기]\n",
    "\n",
    "여러 개의 피처들의 서로간의 상관계수를 구하기 앞서, 두 피처간의 상관계수를 구하는 실습\n",
    "- 상관 분석 : 두 변수 간의 선형적 관계를 상관 계수로 표현하는 것\n",
    "\n",
    "- 상관 계수 : 두 변수 사이의 통계적 관계를 표현하기 위해 특정한 상관 관계의 정도를 수치적으로 나타낸 계수\n",
    "\n",
    "- 상관 계수를 구하는 것은 공분산의 개념을 포함 여러 유형의 상관계수가 존재하지만 제각기 자신들만의 정의와 특징이 있음 \n",
    "- 값의 범위는 -1에서 +1 사이에 속하며 여기서 ±1은 정도가 가장 센 잠재적 일치를 나타내고 0은 정도가 가장 센 불일치를 나타냄 \n",
    "- 1에 가까울 수록 서로 강한 양의 상관 관계가 있다는 것\n",
    "\n",
    "- 피어슨 상관 계수(Pearson Correlation Coefficient ,PCC): 두 변수 X 와 Y 간의 선형 상관 관계를 계량화한 수치 스- 피어먼 상관 계수(Spearman Correlation Coefficient ,SCC):두 변수의 순위 사이의 통계적 의존성을 측정하는 비모수적인 척도\n",
    "\n",
    "<피처간의 상관 관계를 통계적으로 탐색하는 방법>\n",
    "- 단순 상관 분석 방법: 피처가 2개일 때 상관 계수를 계산하는 방법\n",
    "- 다중 상관 분석 방법: 피처가 여러 개일 때 상호간의 연관성을 분석하는 방법 "
   ]
  },
  {
   "cell_type": "code",
   "execution_count": 5,
   "id": "953bf802",
   "metadata": {
    "scrolled": true
   },
   "outputs": [
    {
     "data": {
      "text/html": [
       "<div>\n",
       "<style scoped>\n",
       "    .dataframe tbody tr th:only-of-type {\n",
       "        vertical-align: middle;\n",
       "    }\n",
       "\n",
       "    .dataframe tbody tr th {\n",
       "        vertical-align: top;\n",
       "    }\n",
       "\n",
       "    .dataframe thead th {\n",
       "        text-align: right;\n",
       "    }\n",
       "</style>\n",
       "<table border=\"1\" class=\"dataframe\">\n",
       "  <thead>\n",
       "    <tr style=\"text-align: right;\">\n",
       "      <th></th>\n",
       "      <th>beer_servings</th>\n",
       "      <th>wine_servings</th>\n",
       "      <th>spirit_servings</th>\n",
       "      <th>total_litres_of_pure_alcohol</th>\n",
       "    </tr>\n",
       "  </thead>\n",
       "  <tbody>\n",
       "    <tr>\n",
       "      <th>beer_servings</th>\n",
       "      <td>1.000000</td>\n",
       "      <td>0.527172</td>\n",
       "      <td>0.458819</td>\n",
       "      <td>0.835839</td>\n",
       "    </tr>\n",
       "    <tr>\n",
       "      <th>wine_servings</th>\n",
       "      <td>0.527172</td>\n",
       "      <td>1.000000</td>\n",
       "      <td>0.194797</td>\n",
       "      <td>0.667598</td>\n",
       "    </tr>\n",
       "    <tr>\n",
       "      <th>spirit_servings</th>\n",
       "      <td>0.458819</td>\n",
       "      <td>0.194797</td>\n",
       "      <td>1.000000</td>\n",
       "      <td>0.654968</td>\n",
       "    </tr>\n",
       "    <tr>\n",
       "      <th>total_litres_of_pure_alcohol</th>\n",
       "      <td>0.835839</td>\n",
       "      <td>0.667598</td>\n",
       "      <td>0.654968</td>\n",
       "      <td>1.000000</td>\n",
       "    </tr>\n",
       "  </tbody>\n",
       "</table>\n",
       "</div>"
      ],
      "text/plain": [
       "                              beer_servings  wine_servings  spirit_servings  \\\n",
       "beer_servings                      1.000000       0.527172         0.458819   \n",
       "wine_servings                      0.527172       1.000000         0.194797   \n",
       "spirit_servings                    0.458819       0.194797         1.000000   \n",
       "total_litres_of_pure_alcohol       0.835839       0.667598         0.654968   \n",
       "\n",
       "                              total_litres_of_pure_alcohol  \n",
       "beer_servings                                     0.835839  \n",
       "wine_servings                                     0.667598  \n",
       "spirit_servings                                   0.654968  \n",
       "total_litres_of_pure_alcohol                      1.000000  "
      ]
     },
     "execution_count": 5,
     "metadata": {},
     "output_type": "execute_result"
    }
   ],
   "source": [
    "# 맥주와 와인 소비량의 상관 관계 알아보기\n",
    "#'bear_serving','wine_serving' 두 피처간의 상관관계를 계산\n",
    "# 피어슨 상관계수(Pearson Correfficient,PCC): 두 변수 X와Y간의 선형 상관 관계를 계량화한 수치\n",
    "# corr() 함수로 피처간의 상관 계수를 매트릭스(matrix,행렬, 숫자*기호 등을 가로, 세로로 나열)형태로 출력\n",
    "\n",
    "# 단순 상관 분석 방법\n",
    "# corr = drinks[['beer_servings','wine_servings' ]].corr(method = 'pearson')\n",
    "\n",
    "# 다중 상관 분석 방법\n",
    "#corr = drinks.corr(method = 'pearson')\n",
    "corr = drinks[['beer_servings','wine_servings' ,'spirit_servings', 'total_litres_of_pure_alcohol']].corr(method = 'pearson')\n",
    "\n",
    "corr"
   ]
  },
  {
   "cell_type": "markdown",
   "id": "e082530f",
   "metadata": {},
   "source": [
    "######  [seaborn 시각화 라이브러리 활용]\n",
    "\n",
    " -히트맵(heatmap),페어플롯(pairplot) 기법 사용하기\n",
    "\n",
    "\n",
    " -히트맵(heatmap): 히트(heat)와 지도를 뜻하는 맵(map)을 결합시킨 단어로 색상으로 표현할 수 있는 다양한 \n",
    "\n",
    "    정보를 일정한 이미지 위에 열분표 형태의 그래픽으로 출력"
   ]
  },
  {
   "cell_type": "code",
   "execution_count": 6,
   "id": "cf611e13",
   "metadata": {},
   "outputs": [],
   "source": [
    "import seaborn as sns"
   ]
  },
  {
   "cell_type": "code",
   "execution_count": 7,
   "id": "4ac418f2",
   "metadata": {},
   "outputs": [
    {
     "data": {
      "image/png": "[encoded data removed]",
      "text/plain": [
       "<Figure size 432x288 with 2 Axes>"
      ]
     },
     "metadata": {},
     "output_type": "display_data"
    },
    {
     "data": {
      "image/png": "[encoded data removed]",
      "text/plain": [
       "<Figure size 720x720 with 20 Axes>"
      ]
     },
     "metadata": {},
     "output_type": "display_data"
    }
   ],
   "source": [
    "# corr 행렬 히트맵(heatmap)을 시각화합니다.\n",
    "# 히트맵(heatmap)을 통해 corr.values 를 파라미터로 넣어줌\n",
    "# 그래프 출력을 위한 cols 이름을 축약합니다.\n",
    "cols_view = ['bear','spirit','wine','alcohol']\n",
    "\n",
    "sns.set(font_scale=1.5)\n",
    "\n",
    "hm = sns.heatmap(\n",
    "    corr.values,\n",
    "    cbar = True, #히트맵 바 출력여부\n",
    "    annot = True,#상관계수 출력여부\n",
    "    square = True,#사각형 형태\n",
    "    fmt = '.2f',#소수점 자리수\n",
    "    annot_kws = {'size':15},#상관계수 폰트크기\n",
    "    cmap= 'PiYG',\n",
    "    linewidth = 1,\n",
    "    yticklabels = cols_view,#Y레이블명\n",
    "    xticklabels = cols_view,#X레이블명\n",
    ")\n",
    "\n",
    "plt.tight_layout()\n",
    "plt.show()\n",
    "\n",
    "# 시각화 라이브러리를 이용한 피처간의 scatter plot을 출력\n",
    "# 페어플롯(pairplot)은 데이터 프레임을 파타미터로 넣어 줌\n",
    "\n",
    "# style : darkgrid, whitegrid, dark, white, ticks, 이미지의 전반적인 모양을 스타일링, 5가지 스타일 지원\n",
    "# context : notebook, paper, talk, poster,  어떤 상황에서 보여줄 것인가에 따라 4종류의 텍스트 스케일 지원\n",
    "\n",
    "sns.set(style='darkgrid', context = 'notebook', palette = 'Set2')\n",
    "\n",
    "# sns.pairplot(drinks[['beer_servings', 'spirit_servings', \n",
    "#                     'wine_servings', 'total_litres_of_pure_alcohol']], height=2.5)\n",
    "# kind=\"hist\", kind=\"kde\"\n",
    "# corner=True, Set corner=True to plot only the lower triangle:\n",
    "sns.pairplot(drinks[['beer_servings','wine_servings' ,'spirit_servings', 'total_litres_of_pure_alcohol']], height = 2.5,kind='reg')\n",
    "\n",
    "plt.show()"
   ]
  },
  {
   "cell_type": "markdown",
   "id": "3eaec29e",
   "metadata": {},
   "source": [
    "1.인사이트 도출 : 대륙별 wine_servings 탐색"
   ]
  },
  {
   "cell_type": "code",
   "execution_count": 8,
   "id": "9a8d48a2",
   "metadata": {},
   "outputs": [
    {
     "data": {
      "text/plain": [
       "continent\n",
       "AF     16.264151\n",
       "AS      9.068182\n",
       "EU    142.222222\n",
       "OC     35.625000\n",
       "SA     62.416667\n",
       "Name: wine_servings, dtype: float64"
      ]
     },
     "execution_count": 8,
     "metadata": {},
     "output_type": "execute_result"
    }
   ],
   "source": [
    "wine_mean = drinks.groupby('continent')['wine_servings'].mean()\n",
    "\n",
    "wine_mean"
   ]
  },
  {
   "cell_type": "markdown",
   "id": "67922c5d",
   "metadata": {},
   "source": [
    "2.인사이트 도출:전체 평균보다 적은 알콜을 섭취하는 대륙"
   ]
  },
  {
   "cell_type": "code",
   "execution_count": 9,
   "id": "c03b8655",
   "metadata": {},
   "outputs": [
    {
     "data": {
      "text/plain": [
       "continent\n",
       "AF    3.007547\n",
       "AS    2.170455\n",
       "OC    3.381250\n",
       "Name: total_litres_of_pure_alcohol, dtype: float64"
      ]
     },
     "execution_count": 9,
     "metadata": {},
     "output_type": "execute_result"
    }
   ],
   "source": [
    "total_mean = drinks.total_litres_of_pure_alcohol.mean()\n",
    "continent_mean = drinks.groupby('continent')['total_litres_of_pure_alcohol'].mean()\n",
    "continent_few_mean = continent_mean[continent_mean <= total_mean]\n",
    "\n",
    "continent_few_mean"
   ]
  },
  {
   "cell_type": "markdown",
   "id": "5c145372",
   "metadata": {},
   "source": [
    "### 탐색적 분석\n",
    "결측 데이터 전처리하기"
   ]
  },
  {
   "cell_type": "code",
   "execution_count": 10,
   "id": "437a3603",
   "metadata": {},
   "outputs": [
    {
     "data": {
      "text/html": [
       "<div>\n",
       "<style scoped>\n",
       "    .dataframe tbody tr th:only-of-type {\n",
       "        vertical-align: middle;\n",
       "    }\n",
       "\n",
       "    .dataframe tbody tr th {\n",
       "        vertical-align: top;\n",
       "    }\n",
       "\n",
       "    .dataframe thead th {\n",
       "        text-align: right;\n",
       "    }\n",
       "</style>\n",
       "<table border=\"1\" class=\"dataframe\">\n",
       "  <thead>\n",
       "    <tr style=\"text-align: right;\">\n",
       "      <th></th>\n",
       "      <th>country</th>\n",
       "      <th>beer_servings</th>\n",
       "      <th>spirit_servings</th>\n",
       "      <th>wine_servings</th>\n",
       "      <th>total_litres_of_pure_alcohol</th>\n",
       "      <th>continent</th>\n",
       "    </tr>\n",
       "  </thead>\n",
       "  <tbody>\n",
       "    <tr>\n",
       "      <th>0</th>\n",
       "      <td>Afghanistan</td>\n",
       "      <td>0</td>\n",
       "      <td>0</td>\n",
       "      <td>0</td>\n",
       "      <td>0.0</td>\n",
       "      <td>AS</td>\n",
       "    </tr>\n",
       "    <tr>\n",
       "      <th>1</th>\n",
       "      <td>Albania</td>\n",
       "      <td>89</td>\n",
       "      <td>132</td>\n",
       "      <td>54</td>\n",
       "      <td>4.9</td>\n",
       "      <td>EU</td>\n",
       "    </tr>\n",
       "    <tr>\n",
       "      <th>2</th>\n",
       "      <td>Algeria</td>\n",
       "      <td>25</td>\n",
       "      <td>0</td>\n",
       "      <td>14</td>\n",
       "      <td>0.7</td>\n",
       "      <td>AF</td>\n",
       "    </tr>\n",
       "    <tr>\n",
       "      <th>3</th>\n",
       "      <td>Andorra</td>\n",
       "      <td>245</td>\n",
       "      <td>138</td>\n",
       "      <td>312</td>\n",
       "      <td>12.4</td>\n",
       "      <td>EU</td>\n",
       "    </tr>\n",
       "    <tr>\n",
       "      <th>4</th>\n",
       "      <td>Angola</td>\n",
       "      <td>217</td>\n",
       "      <td>57</td>\n",
       "      <td>45</td>\n",
       "      <td>5.9</td>\n",
       "      <td>AF</td>\n",
       "    </tr>\n",
       "    <tr>\n",
       "      <th>5</th>\n",
       "      <td>Antigua &amp; Barbuda</td>\n",
       "      <td>102</td>\n",
       "      <td>128</td>\n",
       "      <td>45</td>\n",
       "      <td>4.9</td>\n",
       "      <td>OT</td>\n",
       "    </tr>\n",
       "    <tr>\n",
       "      <th>6</th>\n",
       "      <td>Argentina</td>\n",
       "      <td>193</td>\n",
       "      <td>25</td>\n",
       "      <td>221</td>\n",
       "      <td>8.3</td>\n",
       "      <td>SA</td>\n",
       "    </tr>\n",
       "    <tr>\n",
       "      <th>7</th>\n",
       "      <td>Armenia</td>\n",
       "      <td>21</td>\n",
       "      <td>179</td>\n",
       "      <td>11</td>\n",
       "      <td>3.8</td>\n",
       "      <td>EU</td>\n",
       "    </tr>\n",
       "    <tr>\n",
       "      <th>8</th>\n",
       "      <td>Australia</td>\n",
       "      <td>261</td>\n",
       "      <td>72</td>\n",
       "      <td>212</td>\n",
       "      <td>10.4</td>\n",
       "      <td>OC</td>\n",
       "    </tr>\n",
       "    <tr>\n",
       "      <th>9</th>\n",
       "      <td>Austria</td>\n",
       "      <td>279</td>\n",
       "      <td>75</td>\n",
       "      <td>191</td>\n",
       "      <td>9.7</td>\n",
       "      <td>EU</td>\n",
       "    </tr>\n",
       "  </tbody>\n",
       "</table>\n",
       "</div>"
      ],
      "text/plain": [
       "             country  beer_servings  spirit_servings  wine_servings  \\\n",
       "0        Afghanistan              0                0              0   \n",
       "1            Albania             89              132             54   \n",
       "2            Algeria             25                0             14   \n",
       "3            Andorra            245              138            312   \n",
       "4             Angola            217               57             45   \n",
       "5  Antigua & Barbuda            102              128             45   \n",
       "6          Argentina            193               25            221   \n",
       "7            Armenia             21              179             11   \n",
       "8          Australia            261               72            212   \n",
       "9            Austria            279               75            191   \n",
       "\n",
       "   total_litres_of_pure_alcohol continent  \n",
       "0                           0.0        AS  \n",
       "1                           4.9        EU  \n",
       "2                           0.7        AF  \n",
       "3                          12.4        EU  \n",
       "4                           5.9        AF  \n",
       "5                           4.9        OT  \n",
       "6                           8.3        SA  \n",
       "7                           3.8        EU  \n",
       "8                          10.4        OC  \n",
       "9                           9.7        EU  "
      ]
     },
     "execution_count": 10,
     "metadata": {},
     "output_type": "execute_result"
    }
   ],
   "source": [
    "#결측 데이터를 처리합니다 : 기타 대륙으로 통합 ->'OT'\n",
    "drinks['continent']=drinks['continent'].fillna('OT')##fillna()=>NaN값을 채워넣음.\n",
    "drinks.head(10)"
   ]
  },
  {
   "cell_type": "markdown",
   "id": "a9c2f0b6",
   "metadata": {},
   "source": [
    "#### OT가 차지하는 비율이 얼마나 되는지 파이차트로 확인."
   ]
  },
  {
   "cell_type": "code",
   "execution_count": 11,
   "id": "95e576cb",
   "metadata": {},
   "outputs": [
    {
     "data": {
      "image/png": "[encoded data removed]",
      "text/plain": [
       "<Figure size 432x288 with 1 Axes>"
      ]
     },
     "metadata": {},
     "output_type": "display_data"
    }
   ],
   "source": [
    "labels = drinks['continent'].value_counts().index.tolist()\n",
    "fracs1=drinks['continent'].value_counts().values.tolist()\n",
    "explode=(0,0,0,0.25,0,0)#각 요소가 중심에서 얼마나 떨어질지 정하는 속성값.\n",
    "\n",
    "plt.pie(fracs1,explode=explode,labels=labels, autopct='%.0f%%', shadow=True)\n",
    "plt.title('null data to \\'OT\\'')\n",
    "plt.show()"
   ]
  },
  {
   "cell_type": "markdown",
   "id": "3a199c3c",
   "metadata": {},
   "source": [
    "#### 파이차트 (Pie chart, 원 그래프)는 범주별 구성 비율을 원형으로 표현한 그래프.\n",
    "위 그림과 같이 부채꼴의 중심각을 구성 비율에 비례하도록 표현\n",
    "pie()함수를 이용해 그림\n",
    "\n",
    "#### pie(ratio,labelse,autopct)\n",
    "ratio : 각 영역의 비율\n",
    "\n",
    "labels : 이름\n",
    "\n",
    "autopct : 부채꼴 안에 표시될 숫자의 형식을 지정."
   ]
  },
  {
   "cell_type": "code",
   "execution_count": 12,
   "id": "351a8344",
   "metadata": {},
   "outputs": [
    {
     "data": {
      "image/png": "[encoded data removed]",
      "text/plain": [
       "<Figure size 432x288 with 1 Axes>"
      ]
     },
     "metadata": {},
     "output_type": "display_data"
    }
   ],
   "source": [
    "plt.pie(fracs1,labels=labels,autopct='%0.f%%',startangle=260,counterclock=False)\n",
    "plt.show()"
   ]
  },
  {
   "cell_type": "markdown",
   "id": "9e80d9a8",
   "metadata": {},
   "source": [
    "startangle : 부채꼴이 그려지는 시작 각도를 설정합니다.\n",
    "\n",
    "디폴트는 0도(양의 뱡향x축)로 설정되어 있습니다.\n",
    "\n",
    "counterclock=False로 설정하면 시계방향 순서로 부채꼴 영역이 표시된다.(True=반시계방향)"
   ]
  },
  {
   "cell_type": "markdown",
   "id": "70032a76",
   "metadata": {},
   "source": [
    "#### 간단 Quiz\n",
    "\n",
    "[그룹 단위의 데이터 분석: 대륙별 분석]\n",
    "\n",
    "apply,agg 함수를 이용한 대륙별 분석\n",
    "\n",
    "대륙별 spirit_servings의 평균,최소,최대,합계를 계산"
   ]
  },
  {
   "cell_type": "code",
   "execution_count": 13,
   "id": "ce3f0e37",
   "metadata": {},
   "outputs": [
    {
     "data": {
      "text/html": [
       "<div>\n",
       "<style scoped>\n",
       "    .dataframe tbody tr th:only-of-type {\n",
       "        vertical-align: middle;\n",
       "    }\n",
       "\n",
       "    .dataframe tbody tr th {\n",
       "        vertical-align: top;\n",
       "    }\n",
       "\n",
       "    .dataframe thead th {\n",
       "        text-align: right;\n",
       "    }\n",
       "</style>\n",
       "<table border=\"1\" class=\"dataframe\">\n",
       "  <thead>\n",
       "    <tr style=\"text-align: right;\">\n",
       "      <th></th>\n",
       "      <th>count</th>\n",
       "      <th>mean</th>\n",
       "      <th>std</th>\n",
       "      <th>min</th>\n",
       "      <th>25%</th>\n",
       "      <th>50%</th>\n",
       "      <th>75%</th>\n",
       "      <th>max</th>\n",
       "    </tr>\n",
       "    <tr>\n",
       "      <th>continent</th>\n",
       "      <th></th>\n",
       "      <th></th>\n",
       "      <th></th>\n",
       "      <th></th>\n",
       "      <th></th>\n",
       "      <th></th>\n",
       "      <th></th>\n",
       "      <th></th>\n",
       "    </tr>\n",
       "  </thead>\n",
       "  <tbody>\n",
       "    <tr>\n",
       "      <th>AF</th>\n",
       "      <td>53.0</td>\n",
       "      <td>16.339623</td>\n",
       "      <td>28.102794</td>\n",
       "      <td>0.0</td>\n",
       "      <td>1.00</td>\n",
       "      <td>3.0</td>\n",
       "      <td>19.00</td>\n",
       "      <td>152.0</td>\n",
       "    </tr>\n",
       "    <tr>\n",
       "      <th>AS</th>\n",
       "      <td>44.0</td>\n",
       "      <td>60.840909</td>\n",
       "      <td>84.362160</td>\n",
       "      <td>0.0</td>\n",
       "      <td>1.00</td>\n",
       "      <td>16.0</td>\n",
       "      <td>98.00</td>\n",
       "      <td>326.0</td>\n",
       "    </tr>\n",
       "    <tr>\n",
       "      <th>EU</th>\n",
       "      <td>45.0</td>\n",
       "      <td>132.555556</td>\n",
       "      <td>77.589115</td>\n",
       "      <td>0.0</td>\n",
       "      <td>81.00</td>\n",
       "      <td>122.0</td>\n",
       "      <td>173.00</td>\n",
       "      <td>373.0</td>\n",
       "    </tr>\n",
       "    <tr>\n",
       "      <th>OC</th>\n",
       "      <td>16.0</td>\n",
       "      <td>58.437500</td>\n",
       "      <td>70.504817</td>\n",
       "      <td>0.0</td>\n",
       "      <td>18.00</td>\n",
       "      <td>37.0</td>\n",
       "      <td>65.25</td>\n",
       "      <td>254.0</td>\n",
       "    </tr>\n",
       "    <tr>\n",
       "      <th>OT</th>\n",
       "      <td>23.0</td>\n",
       "      <td>165.739130</td>\n",
       "      <td>94.993884</td>\n",
       "      <td>68.0</td>\n",
       "      <td>101.00</td>\n",
       "      <td>137.0</td>\n",
       "      <td>190.50</td>\n",
       "      <td>438.0</td>\n",
       "    </tr>\n",
       "    <tr>\n",
       "      <th>SA</th>\n",
       "      <td>12.0</td>\n",
       "      <td>114.750000</td>\n",
       "      <td>77.077440</td>\n",
       "      <td>25.0</td>\n",
       "      <td>65.75</td>\n",
       "      <td>108.5</td>\n",
       "      <td>148.75</td>\n",
       "      <td>302.0</td>\n",
       "    </tr>\n",
       "  </tbody>\n",
       "</table>\n",
       "</div>"
      ],
      "text/plain": [
       "           count        mean        std   min     25%    50%     75%    max\n",
       "continent                                                                  \n",
       "AF          53.0   16.339623  28.102794   0.0    1.00    3.0   19.00  152.0\n",
       "AS          44.0   60.840909  84.362160   0.0    1.00   16.0   98.00  326.0\n",
       "EU          45.0  132.555556  77.589115   0.0   81.00  122.0  173.00  373.0\n",
       "OC          16.0   58.437500  70.504817   0.0   18.00   37.0   65.25  254.0\n",
       "OT          23.0  165.739130  94.993884  68.0  101.00  137.0  190.50  438.0\n",
       "SA          12.0  114.750000  77.077440  25.0   65.75  108.5  148.75  302.0"
      ]
     },
     "execution_count": 13,
     "metadata": {},
     "output_type": "execute_result"
    }
   ],
   "source": [
    "drinks.groupby('continent').spirit_servings.describe()"
   ]
  },
  {
   "cell_type": "markdown",
   "id": "7bbf1d3b",
   "metadata": {},
   "source": [
    "-agg() 함수는 apply()함수와 거의 동일하게 함수 파라미터를 받음\n",
    "\n",
    "-agg() 함수는 파라미터를 병렬로 설정하여 그룹에 대한 여러가지 연산 결과를 동시에 얻을 수 있는 함수.\n",
    "\n",
    "#### 각 요소들을 agg안에 배열형태로 삽입하면 된다."
   ]
  },
  {
   "cell_type": "code",
   "execution_count": 14,
   "id": "e952ee1c",
   "metadata": {},
   "outputs": [
    {
     "data": {
      "text/html": [
       "<div>\n",
       "<style scoped>\n",
       "    .dataframe tbody tr th:only-of-type {\n",
       "        vertical-align: middle;\n",
       "    }\n",
       "\n",
       "    .dataframe tbody tr th {\n",
       "        vertical-align: top;\n",
       "    }\n",
       "\n",
       "    .dataframe thead th {\n",
       "        text-align: right;\n",
       "    }\n",
       "</style>\n",
       "<table border=\"1\" class=\"dataframe\">\n",
       "  <thead>\n",
       "    <tr style=\"text-align: right;\">\n",
       "      <th></th>\n",
       "      <th>mean</th>\n",
       "      <th>min</th>\n",
       "      <th>max</th>\n",
       "      <th>sum</th>\n",
       "    </tr>\n",
       "    <tr>\n",
       "      <th>continent</th>\n",
       "      <th></th>\n",
       "      <th></th>\n",
       "      <th></th>\n",
       "      <th></th>\n",
       "    </tr>\n",
       "  </thead>\n",
       "  <tbody>\n",
       "    <tr>\n",
       "      <th>AF</th>\n",
       "      <td>16.339623</td>\n",
       "      <td>0</td>\n",
       "      <td>152</td>\n",
       "      <td>866</td>\n",
       "    </tr>\n",
       "    <tr>\n",
       "      <th>AS</th>\n",
       "      <td>60.840909</td>\n",
       "      <td>0</td>\n",
       "      <td>326</td>\n",
       "      <td>2677</td>\n",
       "    </tr>\n",
       "    <tr>\n",
       "      <th>EU</th>\n",
       "      <td>132.555556</td>\n",
       "      <td>0</td>\n",
       "      <td>373</td>\n",
       "      <td>5965</td>\n",
       "    </tr>\n",
       "    <tr>\n",
       "      <th>OC</th>\n",
       "      <td>58.437500</td>\n",
       "      <td>0</td>\n",
       "      <td>254</td>\n",
       "      <td>935</td>\n",
       "    </tr>\n",
       "    <tr>\n",
       "      <th>OT</th>\n",
       "      <td>165.739130</td>\n",
       "      <td>68</td>\n",
       "      <td>438</td>\n",
       "      <td>3812</td>\n",
       "    </tr>\n",
       "    <tr>\n",
       "      <th>SA</th>\n",
       "      <td>114.750000</td>\n",
       "      <td>25</td>\n",
       "      <td>302</td>\n",
       "      <td>1377</td>\n",
       "    </tr>\n",
       "  </tbody>\n",
       "</table>\n",
       "</div>"
      ],
      "text/plain": [
       "                 mean  min  max   sum\n",
       "continent                            \n",
       "AF          16.339623    0  152   866\n",
       "AS          60.840909    0  326  2677\n",
       "EU         132.555556    0  373  5965\n",
       "OC          58.437500    0  254   935\n",
       "OT         165.739130   68  438  3812\n",
       "SA         114.750000   25  302  1377"
      ]
     },
     "execution_count": 14,
     "metadata": {},
     "output_type": "execute_result"
    }
   ],
   "source": [
    "drinks.groupby('continent').spirit_servings.agg(['mean','min','max','sum'])"
   ]
  },
  {
   "cell_type": "markdown",
   "id": "5a57b53b",
   "metadata": {},
   "source": [
    "#### 전체 평균보다 많은 알코올을 섭취하는 대륙은 어디일까?\n",
    "\n",
    "1.전체 알코올 섭취 평균\n",
    "\n",
    "2.대륙별 알코올 섭취 평균\n",
    "\n",
    "3.대륙별 알코올 섭취 평균이 전체 알코올 섭취 평균보다 많은 대륙을 구하기"
   ]
  },
  {
   "cell_type": "code",
   "execution_count": 15,
   "id": "a4f4d714",
   "metadata": {},
   "outputs": [
    {
     "data": {
      "text/plain": [
       "continent\n",
       "EU    8.617778\n",
       "OT    5.995652\n",
       "SA    6.308333\n",
       "Name: total_litres_of_pure_alcohol, dtype: float64"
      ]
     },
     "execution_count": 15,
     "metadata": {},
     "output_type": "execute_result"
    }
   ],
   "source": [
    "#전체 알코올 섭취 평균\n",
    "total_mean=drinks.total_litres_of_pure_alcohol.mean()\n",
    "#대륙별 알코올 섭취 평균\n",
    "continent_mean=drinks.groupby('continent')['total_litres_of_pure_alcohol'].mean()\n",
    "#대륙별 알코올 섭취평균이 전체 알코올 섭취평균보다 큰 경우.(조건)\n",
    "continent_over_mean=continent_mean[continent_mean>=total_mean]\n",
    "continent_over_mean"
   ]
  },
  {
   "cell_type": "markdown",
   "id": "21738bc4",
   "metadata": {},
   "source": [
    "#### 평균 beer_servings가 가장 높은 대륙은 어디일까?\n",
    "-idxmin() : 전체 인덱스중 최소값 반환\n",
    "\n",
    "-idxmax() : 전체 인덱스중 최대값 반환\n",
    "\n",
    "1.대륙별 평균 beer_servings 구하기\n",
    "\n",
    "2.그중 값이 가장 높은 값 찾기"
   ]
  },
  {
   "cell_type": "code",
   "execution_count": 16,
   "id": "b9c6113b",
   "metadata": {},
   "outputs": [
    {
     "name": "stdout",
     "output_type": "stream",
     "text": [
      "continent\n",
      "AF    61.47\n",
      "AS    37.05\n",
      "EU   193.78\n",
      "OC    89.69\n",
      "OT   145.43\n",
      "SA   175.08\n",
      "Name: beer_servings, dtype: float64\n",
      "EU\n",
      "AS\n"
     ]
    }
   ],
   "source": [
    "# 데이터 값 실수. 소수점 두째자리까지 표시(프린트 서식.)\n",
    "pd.options.display.float_format = '{:.2f}'.format\n",
    "beer_continent=drinks.groupby('continent').beer_servings.mean()\n",
    "print(beer_continent)\n",
    "print(beer_continent.idxmax())#최대값\n",
    "print(beer_continent.idxmin())#최소값"
   ]
  },
  {
   "cell_type": "markdown",
   "id": "a9811167",
   "metadata": {},
   "source": [
    "#### 시각화"
   ]
  },
  {
   "cell_type": "code",
   "execution_count": 17,
   "id": "b534b6b6",
   "metadata": {},
   "outputs": [
    {
     "data": {
      "text/html": [
       "<div>\n",
       "<style scoped>\n",
       "    .dataframe tbody tr th:only-of-type {\n",
       "        vertical-align: middle;\n",
       "    }\n",
       "\n",
       "    .dataframe tbody tr th {\n",
       "        vertical-align: top;\n",
       "    }\n",
       "\n",
       "    .dataframe thead th {\n",
       "        text-align: right;\n",
       "    }\n",
       "</style>\n",
       "<table border=\"1\" class=\"dataframe\">\n",
       "  <thead>\n",
       "    <tr style=\"text-align: right;\">\n",
       "      <th></th>\n",
       "      <th>mean</th>\n",
       "      <th>min</th>\n",
       "      <th>max</th>\n",
       "      <th>sum</th>\n",
       "    </tr>\n",
       "    <tr>\n",
       "      <th>continent</th>\n",
       "      <th></th>\n",
       "      <th></th>\n",
       "      <th></th>\n",
       "      <th></th>\n",
       "    </tr>\n",
       "  </thead>\n",
       "  <tbody>\n",
       "    <tr>\n",
       "      <th>AF</th>\n",
       "      <td>16.34</td>\n",
       "      <td>0</td>\n",
       "      <td>152</td>\n",
       "      <td>866</td>\n",
       "    </tr>\n",
       "    <tr>\n",
       "      <th>AS</th>\n",
       "      <td>60.84</td>\n",
       "      <td>0</td>\n",
       "      <td>326</td>\n",
       "      <td>2677</td>\n",
       "    </tr>\n",
       "    <tr>\n",
       "      <th>EU</th>\n",
       "      <td>132.56</td>\n",
       "      <td>0</td>\n",
       "      <td>373</td>\n",
       "      <td>5965</td>\n",
       "    </tr>\n",
       "    <tr>\n",
       "      <th>OC</th>\n",
       "      <td>58.44</td>\n",
       "      <td>0</td>\n",
       "      <td>254</td>\n",
       "      <td>935</td>\n",
       "    </tr>\n",
       "    <tr>\n",
       "      <th>OT</th>\n",
       "      <td>165.74</td>\n",
       "      <td>68</td>\n",
       "      <td>438</td>\n",
       "      <td>3812</td>\n",
       "    </tr>\n",
       "    <tr>\n",
       "      <th>SA</th>\n",
       "      <td>114.75</td>\n",
       "      <td>25</td>\n",
       "      <td>302</td>\n",
       "      <td>1377</td>\n",
       "    </tr>\n",
       "  </tbody>\n",
       "</table>\n",
       "</div>"
      ],
      "text/plain": [
       "            mean  min  max   sum\n",
       "continent                       \n",
       "AF         16.34    0  152   866\n",
       "AS         60.84    0  326  2677\n",
       "EU        132.56    0  373  5965\n",
       "OC         58.44    0  254   935\n",
       "OT        165.74   68  438  3812\n",
       "SA        114.75   25  302  1377"
      ]
     },
     "execution_count": 17,
     "metadata": {},
     "output_type": "execute_result"
    }
   ],
   "source": [
    "result=drinks.groupby('continent').spirit_servings.agg(['mean','min','max','sum'])\n",
    "result"
   ]
  },
  {
   "cell_type": "code",
   "execution_count": 18,
   "id": "d6753389",
   "metadata": {},
   "outputs": [
    {
     "name": "stdout",
     "output_type": "stream",
     "text": [
      "[16.339622641509433, 60.84090909090909, 132.55555555555554, 58.4375, 165.7391304347826, 114.75]\n",
      "[0, 0, 0, 0, 68, 25]\n",
      "[152, 326, 373, 254, 438, 302]\n",
      "[866, 2677, 5965, 935, 3812, 1377]\n"
     ]
    }
   ],
   "source": [
    "n_groups=len(result.index)\n",
    "means=result['mean'].tolist()\n",
    "mins=result['min'].tolist()\n",
    "maxs=result['max'].tolist()\n",
    "sums=result['sum'].tolist()\n",
    "print(means)\n",
    "print(mins)\n",
    "print(maxs)\n",
    "print(sums)"
   ]
  },
  {
   "cell_type": "code",
   "execution_count": 19,
   "id": "37ec2548",
   "metadata": {},
   "outputs": [
    {
     "data": {
      "image/png": "[encoded data removed]",
      "text/plain": [
       "<Figure size 432x288 with 1 Axes>"
      ]
     },
     "metadata": {},
     "output_type": "display_data"
    }
   ],
   "source": [
    "index=np.arange(n_groups) #n_groups 크기 만큼(6) 배열생성하여 index에 저장\n",
    "bar_width=0.1\n",
    "#평균값에 대한 그래프 생성\n",
    "rects1=plt.bar(index,means,bar_width,color='r',label='Mean') #각 bar를 설정함.\n",
    "rects2=plt.bar(index+bar_width,mins,bar_width,color='g',label='Min')\n",
    "rects3=plt.bar(index+bar_width*2,maxs,bar_width,color='b',label='Max')\n",
    "rects3=plt.bar(index+bar_width*3,sums,bar_width,color='y',label='Sum')\n",
    "\n",
    "plt.xticks(index,result.index.tolist())\n",
    "plt.axis([0,6,0,4000])#axis([xmin,xmax,ymin,ymax])\n",
    "plt.legend() ##범례표시(범례 : 참고사항)\n",
    "plt.show()"
   ]
  },
  {
   "cell_type": "code",
   "execution_count": 20,
   "id": "754afede",
   "metadata": {},
   "outputs": [
    {
     "data": {
      "text/plain": [
       "['AF', 'AS', 'EU', 'OC', 'OT', 'SA', 'mean']"
      ]
     },
     "execution_count": 20,
     "metadata": {},
     "output_type": "execute_result"
    }
   ],
   "source": [
    "#대륙별 total_litres_of_pure_alcohol을 시각화 합니다.\n",
    "continents=continent_mean.index.tolist() #대륙별 평균의 index를 list로 -> index가 각 대륙의 이름임.\n",
    "continents.append('mean')#index로 쓸 list에 mean항목 추가\n",
    "continents"
   ]
  },
  {
   "cell_type": "code",
   "execution_count": 21,
   "id": "ef452c85",
   "metadata": {},
   "outputs": [
    {
     "data": {
      "text/plain": [
       "[3.0075471698113208,\n",
       " 2.1704545454545454,\n",
       " 8.617777777777778,\n",
       " 3.38125,\n",
       " 5.995652173913044,\n",
       " 6.308333333333334,\n",
       " 4.717098445595855]"
      ]
     },
     "execution_count": 21,
     "metadata": {},
     "output_type": "execute_result"
    }
   ],
   "source": [
    "x_pos=np.arange(len(continents))#만들어놓은 continents길이만큼 x좌포료 쓸 x_pos변수 추가.\n",
    "alcohol = continent_mean.tolist()#대륙별 평균을 alcohol 리스트에 저장\n",
    "alcohol.append(total_mean)#전체 평균을 alcohol리스트에 추가\n",
    "alcohol"
   ]
  },
  {
   "cell_type": "code",
   "execution_count": 22,
   "id": "b631b498",
   "metadata": {},
   "outputs": [
    {
     "data": {
      "image/png": "[encoded data removed]",
      "text/plain": [
       "<Figure size 432x288 with 1 Axes>"
      ]
     },
     "metadata": {},
     "output_type": "display_data"
    }
   ],
   "source": [
    "bar_list = plt.bar(x_pos,alcohol,align='center',alpha=0.5)\n",
    "bar_list[len(continents)-1].set_color('r')\n",
    "plt.plot([0,6],[total_mean, total_mean],\"k--\")#0번째~6번째 까지 점선표시\n",
    "plt.xticks(x_pos,continents)\n",
    "\n",
    "plt.ylabel('total_litres_of_pure_alcohol')\n",
    "plt.title('total_litres_of_pure_alcohol by Continents')\n",
    "\n",
    "plt.show()"
   ]
  },
  {
   "cell_type": "code",
   "execution_count": 23,
   "id": "ca3e8db9",
   "metadata": {},
   "outputs": [],
   "source": [
    "#대륙별 beer_servings를 시각화\n",
    "\n",
    "beer_group=drinks.groupby('continent')['beer_servings'].sum()\n",
    "continents=beer_group.index.tolist()\n",
    "x2_pos=np.arange(len(continents))\n",
    "alcohol=beer_group.tolist()"
   ]
  },
  {
   "cell_type": "code",
   "execution_count": 24,
   "id": "7e097888",
   "metadata": {},
   "outputs": [
    {
     "data": {
      "text/plain": [
       "continent\n",
       "AF    3258\n",
       "AS    1630\n",
       "EU    8720\n",
       "OC    1435\n",
       "OT    3345\n",
       "SA    2101\n",
       "Name: beer_servings, dtype: int64"
      ]
     },
     "execution_count": 24,
     "metadata": {},
     "output_type": "execute_result"
    }
   ],
   "source": [
    "beer_group"
   ]
  },
  {
   "cell_type": "code",
   "execution_count": 25,
   "id": "6758c677",
   "metadata": {},
   "outputs": [
    {
     "data": {
      "text/plain": [
       "['AF', 'AS', 'EU', 'OC', 'OT', 'SA']"
      ]
     },
     "execution_count": 25,
     "metadata": {},
     "output_type": "execute_result"
    }
   ],
   "source": [
    "continents"
   ]
  },
  {
   "cell_type": "code",
   "execution_count": 26,
   "id": "7fe4e67a",
   "metadata": {},
   "outputs": [
    {
     "data": {
      "text/plain": [
       "[3258, 1630, 8720, 1435, 3345, 2101]"
      ]
     },
     "execution_count": 26,
     "metadata": {},
     "output_type": "execute_result"
    }
   ],
   "source": [
    "alcohol"
   ]
  },
  {
   "cell_type": "code",
   "execution_count": 40,
   "id": "a03275ad",
   "metadata": {},
   "outputs": [
    {
     "data": {
      "image/png": "[encoded data removed]",
      "text/plain": [
       "<Figure size 432x288 with 1 Axes>"
      ]
     },
     "metadata": {},
     "output_type": "display_data"
    }
   ],
   "source": [
    "bar_list=plt.bar(x2_pos, alcohol,align='center', alpha=0.5) #bar가 막대를 그리는 함수.\n",
    "bar_list[continents.index('EU')].set_color('r')\n",
    "bar_list[continents.index('OC')].set_color('b')\n",
    "\n",
    "plt.rc('font',family='Malgun Gothic')\n",
    "plt.xticks(x2_pos,continents)\n",
    "plt.ylabel(\"맥주 소비량\")\n",
    "plt.title(\"대륙별 맥주 소비량\")\n",
    "plt.show()"
   ]
  },
  {
   "cell_type": "markdown",
   "id": "fac4d098",
   "metadata": {},
   "source": [
    "### 대륙별 표준편차와 전체 표준편차"
   ]
  },
  {
   "cell_type": "code",
   "execution_count": 41,
   "id": "154eb6ab",
   "metadata": {},
   "outputs": [
    {
     "data": {
      "text/plain": [
       "continent\n",
       "AF   2.65\n",
       "AS   2.77\n",
       "EU   3.36\n",
       "OC   3.35\n",
       "OT   2.41\n",
       "SA   1.53\n",
       "Name: total_litres_of_pure_alcohol, dtype: float64"
      ]
     },
     "execution_count": 41,
     "metadata": {},
     "output_type": "execute_result"
    }
   ],
   "source": [
    "std_group=drinks.groupby('continent')['total_litres_of_pure_alcohol'].std()#대륙별 표준편차\n",
    "std_group"
   ]
  },
  {
   "cell_type": "code",
   "execution_count": 42,
   "id": "be636bb2",
   "metadata": {},
   "outputs": [
    {
     "data": {
      "text/plain": [
       "3.773298164356083"
      ]
     },
     "execution_count": 42,
     "metadata": {},
     "output_type": "execute_result"
    }
   ],
   "source": [
    "std_total=drinks['total_litres_of_pure_alcohol'].std()#전체 알콜소비량 표준편차\n",
    "std_total"
   ]
  },
  {
   "cell_type": "code",
   "execution_count": 43,
   "id": "5578f9d6",
   "metadata": {
    "scrolled": false
   },
   "outputs": [
    {
     "data": {
      "text/plain": [
       "[2.647556860477786,\n",
       " 2.7702388063842913,\n",
       " 3.3584553327716336,\n",
       " 3.345687522767182,\n",
       " 2.4093526593577264,\n",
       " 1.5311661232438816,\n",
       " 3.773298164356083]"
      ]
     },
     "execution_count": 43,
     "metadata": {},
     "output_type": "execute_result"
    }
   ],
   "source": [
    "std_values=std_group.tolist()#대륙별 표준편차 값에\n",
    "std_values.append(std_total)#전체 표준편차 추가.\n",
    "std_values"
   ]
  },
  {
   "cell_type": "code",
   "execution_count": 44,
   "id": "50af3a6a",
   "metadata": {},
   "outputs": [
    {
     "data": {
      "text/plain": [
       "['AF', 'AS', 'EU', 'OC', 'OT', 'SA', 'total_std']"
      ]
     },
     "execution_count": 44,
     "metadata": {},
     "output_type": "execute_result"
    }
   ],
   "source": [
    "xpos=std_group.index.tolist()#x좌표로 쓸 리스트 생성\n",
    "xpos.append('total_std')#x좌표로 쓸리스트에 total_std추가\n",
    "xpos"
   ]
  },
  {
   "cell_type": "code",
   "execution_count": 45,
   "id": "3f65fc5f",
   "metadata": {},
   "outputs": [
    {
     "data": {
      "text/plain": [
       "array([0, 1, 2, 3, 4, 5, 6])"
      ]
     },
     "execution_count": 45,
     "metadata": {},
     "output_type": "execute_result"
    }
   ],
   "source": [
    "pltlen=np.arange(len(xpos))#위치값으로 쓸 pltlen선언 크기는 xpos만큼\n",
    "pltlen"
   ]
  },
  {
   "cell_type": "code",
   "execution_count": 46,
   "id": "45252dad",
   "metadata": {},
   "outputs": [
    {
     "data": {
      "image/png": "[encoded data removed]",
      "text/plain": [
       "<Figure size 432x288 with 1 Axes>"
      ]
     },
     "metadata": {},
     "output_type": "display_data"
    }
   ],
   "source": [
    "bar_list=plt.bar(pltlen,std_values,align='center',alpha=1)\n",
    "plt.xticks(pltlen,xpos)\n",
    "bar_list[xpos.index('total_std')].set_color('#a9a9a9')\n",
    "\n",
    "plt.plot([0,6],[std_total,std_total],\"k-\")#선을 그리는 함수 plot([위치설정],[값설정],선모양설정)\n",
    "plt.title(\"대륙별 표준편차와 전체 표준편차\")\n",
    "plt.ylabel(\"표준편차 값\")\n",
    "plt.show()"
   ]
  },
  {
   "cell_type": "code",
   "execution_count": 48,
   "id": "79cb3d97",
   "metadata": {},
   "outputs": [],
   "source": [
    "age=[23,24,28,24,30,27,30,40,50]\n",
    "name=['현호','현호2','현호3','현호4','현호5','현호6','현호7','현호8','현호9']\n",
    "pos=np.arange(len(name))"
   ]
  },
  {
   "cell_type": "code",
   "execution_count": 49,
   "id": "2705add1",
   "metadata": {
    "scrolled": true
   },
   "outputs": [
    {
     "data": {
      "image/png": "[encoded data removed]",
      "text/plain": [
       "<Figure size 432x288 with 1 Axes>"
      ]
     },
     "metadata": {},
     "output_type": "display_data"
    }
   ],
   "source": [
    "plt.bar(pos,age,align='center',alpha=0.5)\n",
    "plt.xticks(pos,name)\n",
    "plt.show()"
   ]
  },
  {
   "cell_type": "code",
   "execution_count": null,
   "id": "66af4020",
   "metadata": {},
   "outputs": [],
   "source": []
  }
 ],
 "metadata": {
  "kernelspec": {
   "display_name": "Python 3 (ipykernel)",
   "language": "python",
   "name": "python3"
  },
  "language_info": {
   "codemirror_mode": {
    "name": "ipython",
    "version": 3
   },
   "file_extension": ".py",
   "mimetype": "text/x-python",
   "name": "python",
   "nbconvert_exporter": "python",
   "pygments_lexer": "ipython3",
   "version": "3.9.7"
  }
 },
 "nbformat": 4,
 "nbformat_minor": 5
}
