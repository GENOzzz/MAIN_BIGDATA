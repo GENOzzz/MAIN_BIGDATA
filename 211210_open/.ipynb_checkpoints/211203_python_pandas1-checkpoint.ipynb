{
 "cells": [
  {
   "cell_type": "markdown",
   "id": "e6453e1c",
   "metadata": {},
   "source": [
    "# 판다스(Pandas) 사용법\n",
    "판다스는 파이썬에서 사용하는 데이터 분석 라이브러리.\n",
    "\n",
    " 행과 열로 이루어진 데이터 객체를 만들어 다룰수 있음.\n",
    " \n",
    " 보다 안정적으로 대용량의 데이터들을 처리하는데 매우 편리함."
   ]
  },
  {
   "cell_type": "code",
   "execution_count": 1,
   "id": "a2800e75",
   "metadata": {},
   "outputs": [],
   "source": [
    "import pandas as pd\n",
    "import numpy as np"
   ]
  },
  {
   "cell_type": "markdown",
   "id": "4ee96363",
   "metadata": {},
   "source": [
    "## Pandas자료구조\n",
    "기본적으로 정의되는 자료구조인 Series와 DataFrame을 사용"
   ]
  },
  {
   "cell_type": "markdown",
   "id": "6215c53f",
   "metadata": {},
   "source": [
    "### 2-1.Seires\n",
    "복수의 행으로 이루어진 하나의 열 구조"
   ]
  },
  {
   "cell_type": "code",
   "execution_count": 2,
   "id": "2c00587f",
   "metadata": {},
   "outputs": [
    {
     "name": "stdout",
     "output_type": "stream",
     "text": [
      "0    4\n",
      "1    7\n",
      "2   -5\n",
      "3    3\n",
      "dtype: int64\n"
     ]
    }
   ],
   "source": [
    "#Series 정의하기\n",
    "obj = pd.Series([4,7,-5,3])\n",
    "print(obj)#print생략가능"
   ]
  },
  {
   "cell_type": "code",
   "execution_count": 3,
   "id": "9e72f556",
   "metadata": {},
   "outputs": [
    {
     "data": {
      "text/plain": [
       "array([ 4,  7, -5,  3], dtype=int64)"
      ]
     },
     "execution_count": 3,
     "metadata": {},
     "output_type": "execute_result"
    }
   ],
   "source": [
    "#Series의 값만 확인하기\n",
    "obj.values"
   ]
  },
  {
   "cell_type": "code",
   "execution_count": 4,
   "id": "305beb45",
   "metadata": {},
   "outputs": [
    {
     "data": {
      "text/plain": [
       "RangeIndex(start=0, stop=4, step=1)"
      ]
     },
     "execution_count": 4,
     "metadata": {},
     "output_type": "execute_result"
    }
   ],
   "source": [
    "#Series의 인덱스만 확인하기\n",
    "obj.index"
   ]
  },
  {
   "cell_type": "code",
   "execution_count": 5,
   "id": "9c27d410",
   "metadata": {},
   "outputs": [
    {
     "data": {
      "text/plain": [
       "dtype('int64')"
      ]
     },
     "execution_count": 5,
     "metadata": {},
     "output_type": "execute_result"
    }
   ],
   "source": [
    "#Series의 자료형 확인하기\n",
    "obj.dtypes"
   ]
  },
  {
   "cell_type": "code",
   "execution_count": 6,
   "id": "45aa65e9",
   "metadata": {},
   "outputs": [
    {
     "name": "stdout",
     "output_type": "stream",
     "text": [
      "d    4\n",
      "b    7\n",
      "a   -5\n",
      "3    3\n",
      "dtype: int64\n",
      "Index(['d', 'b', 'a', 3], dtype='object')\n"
     ]
    }
   ],
   "source": [
    "#인덱스를 바꿀 수 있다.\n",
    "obj2=pd.Series([4,7,-5,3],index=['d','b','a',3])\n",
    "print(obj2)\n",
    "print(obj2.index)"
   ]
  },
  {
   "cell_type": "code",
   "execution_count": 7,
   "id": "d6840fa9",
   "metadata": {},
   "outputs": [
    {
     "name": "stdout",
     "output_type": "stream",
     "text": [
      "0    1\n",
      "1    2\n",
      "2    3\n",
      "3    4\n",
      "4    5\n",
      "5    6\n",
      "dtype: int64\n",
      "kim     35000\n",
      "lee     47000\n",
      "park    52000\n",
      "jung    18000\n",
      "dtype: int64\n"
     ]
    }
   ],
   "source": [
    "#python의 dictionary 자료형을 Series Data로 만들 수 있다.\n",
    "#dic의 key가 Series의 indx가 된다.\n",
    "ssdata=[1,2,3,4,5,6]\n",
    "obj4=pd.Series(ssdata)\n",
    "print(obj4)\n",
    "sdata={'kim':35000,'lee':47000,'park':52000,'jung':18000}\n",
    "obj3=pd.Series(sdata)\n",
    "print(obj3)"
   ]
  },
  {
   "cell_type": "code",
   "execution_count": 8,
   "id": "fbc20734",
   "metadata": {},
   "outputs": [
    {
     "name": "stdout",
     "output_type": "stream",
     "text": [
      "A    35000\n",
      "B    47000\n",
      "C    52000\n",
      "D    18000\n",
      "dtype: int64\n"
     ]
    }
   ],
   "source": [
    "#index 변경\n",
    "obj3.index=['A','B','C','D']\n",
    "print(obj3)"
   ]
  },
  {
   "cell_type": "code",
   "execution_count": 9,
   "id": "238a7597",
   "metadata": {},
   "outputs": [
    {
     "name": "stdout",
     "output_type": "stream",
     "text": [
      "Names\n",
      "A    35000\n",
      "B    47000\n",
      "C    52000\n",
      "D    18000\n",
      "Name: Salary, dtype: int64\n"
     ]
    }
   ],
   "source": [
    "obj3.name='Salary'\n",
    "obj3.index.name='Names'\n",
    "print(obj3)"
   ]
  },
  {
   "cell_type": "code",
   "execution_count": 10,
   "id": "f571568c",
   "metadata": {},
   "outputs": [
    {
     "name": "stdout",
     "output_type": "stream",
     "text": [
      "A    35000\n",
      "B    47000\n",
      "C    52000\n",
      "D    18000\n",
      "Name: Salary, dtype: int64\n",
      "Index(['A', 'B', 'C', 'D'], dtype='object')\n"
     ]
    }
   ],
   "source": [
    "#index 변경\n",
    "obj3.index=['A','B','C','D']\n",
    "print(obj3)\n",
    "print(obj3.index)"
   ]
  },
  {
   "cell_type": "markdown",
   "id": "bb70af08",
   "metadata": {},
   "source": [
    "## 2-2.DataFrame"
   ]
  },
  {
   "cell_type": "code",
   "execution_count": 11,
   "id": "448aa012",
   "metadata": {},
   "outputs": [
    {
     "data": {
      "text/html": [
       "<div>\n",
       "<style scoped>\n",
       "    .dataframe tbody tr th:only-of-type {\n",
       "        vertical-align: middle;\n",
       "    }\n",
       "\n",
       "    .dataframe tbody tr th {\n",
       "        vertical-align: top;\n",
       "    }\n",
       "\n",
       "    .dataframe thead th {\n",
       "        text-align: right;\n",
       "    }\n",
       "</style>\n",
       "<table border=\"1\" class=\"dataframe\">\n",
       "  <thead>\n",
       "    <tr style=\"text-align: right;\">\n",
       "      <th></th>\n",
       "      <th>name</th>\n",
       "      <th>year</th>\n",
       "      <th>points</th>\n",
       "    </tr>\n",
       "  </thead>\n",
       "  <tbody>\n",
       "    <tr>\n",
       "      <th>0</th>\n",
       "      <td>geno</td>\n",
       "      <td>2020</td>\n",
       "      <td>3.4</td>\n",
       "    </tr>\n",
       "    <tr>\n",
       "      <th>1</th>\n",
       "      <td>keno</td>\n",
       "      <td>2021</td>\n",
       "      <td>4.3</td>\n",
       "    </tr>\n",
       "    <tr>\n",
       "      <th>2</th>\n",
       "      <td>zano</td>\n",
       "      <td>2022</td>\n",
       "      <td>2.8</td>\n",
       "    </tr>\n",
       "    <tr>\n",
       "      <th>3</th>\n",
       "      <td>uuno</td>\n",
       "      <td>2018</td>\n",
       "      <td>3.6</td>\n",
       "    </tr>\n",
       "    <tr>\n",
       "      <th>4</th>\n",
       "      <td>mukno</td>\n",
       "      <td>2014</td>\n",
       "      <td>1.8</td>\n",
       "    </tr>\n",
       "    <tr>\n",
       "      <th>5</th>\n",
       "      <td>muhano</td>\n",
       "      <td>2017</td>\n",
       "      <td>4.0</td>\n",
       "    </tr>\n",
       "  </tbody>\n",
       "</table>\n",
       "</div>"
      ],
      "text/plain": [
       "     name  year  points\n",
       "0    geno  2020     3.4\n",
       "1    keno  2021     4.3\n",
       "2    zano  2022     2.8\n",
       "3    uuno  2018     3.6\n",
       "4   mukno  2014     1.8\n",
       "5  muhano  2017     4.0"
      ]
     },
     "execution_count": 11,
     "metadata": {},
     "output_type": "execute_result"
    }
   ],
   "source": [
    "#DataFrame정의하기\n",
    "#그전에 DataFrame에 들어갈 데이터를 정의해주어야 하는데.\n",
    "#이는 python의 dictionary 또는 numpy의 array로 정의할 수 있다.\n",
    "data={'name':['geno', 'keno', 'zano', 'uuno', 'mukno','muhano']\n",
    "      ,'year':[2020, 2021, 2022, 2018, 2014, 2017]\n",
    "      ,'points':[3.4, 4.3, 2.8, 3.6, 1.8, 4.0]}\n",
    "df=pd.DataFrame(data)\n",
    "df"
   ]
  },
  {
   "cell_type": "markdown",
   "id": "3e0045e5",
   "metadata": {},
   "source": [
    "### 행과 열의 구조를 가진 데이터가 생긴다."
   ]
  },
  {
   "cell_type": "code",
   "execution_count": 12,
   "id": "c0d3dd1d",
   "metadata": {},
   "outputs": [
    {
     "data": {
      "text/plain": [
       "RangeIndex(start=0, stop=6, step=1)"
      ]
     },
     "execution_count": 12,
     "metadata": {},
     "output_type": "execute_result"
    }
   ],
   "source": [
    "#행 방향의 index\n",
    "df.index"
   ]
  },
  {
   "cell_type": "code",
   "execution_count": 13,
   "id": "e978426a",
   "metadata": {},
   "outputs": [
    {
     "data": {
      "text/plain": [
       "Index(['name', 'year', 'points'], dtype='object')"
      ]
     },
     "execution_count": 13,
     "metadata": {},
     "output_type": "execute_result"
    }
   ],
   "source": [
    "#열 방향의 index\n",
    "df.columns"
   ]
  },
  {
   "cell_type": "code",
   "execution_count": 14,
   "id": "25f09c19",
   "metadata": {},
   "outputs": [
    {
     "data": {
      "text/plain": [
       "array([['geno', 2020, 3.4],\n",
       "       ['keno', 2021, 4.3],\n",
       "       ['zano', 2022, 2.8],\n",
       "       ['uuno', 2018, 3.6],\n",
       "       ['mukno', 2014, 1.8],\n",
       "       ['muhano', 2017, 4.0]], dtype=object)"
      ]
     },
     "execution_count": 14,
     "metadata": {},
     "output_type": "execute_result"
    }
   ],
   "source": [
    "#값 얻기\n",
    "df.values"
   ]
  },
  {
   "cell_type": "code",
   "execution_count": 15,
   "id": "8949b016",
   "metadata": {},
   "outputs": [
    {
     "data": {
      "text/html": [
       "<div>\n",
       "<style scoped>\n",
       "    .dataframe tbody tr th:only-of-type {\n",
       "        vertical-align: middle;\n",
       "    }\n",
       "\n",
       "    .dataframe tbody tr th {\n",
       "        vertical-align: top;\n",
       "    }\n",
       "\n",
       "    .dataframe thead th {\n",
       "        text-align: right;\n",
       "    }\n",
       "</style>\n",
       "<table border=\"1\" class=\"dataframe\">\n",
       "  <thead>\n",
       "    <tr style=\"text-align: right;\">\n",
       "      <th>info</th>\n",
       "      <th>name</th>\n",
       "      <th>year</th>\n",
       "      <th>points</th>\n",
       "    </tr>\n",
       "    <tr>\n",
       "      <th>Num</th>\n",
       "      <th></th>\n",
       "      <th></th>\n",
       "      <th></th>\n",
       "    </tr>\n",
       "  </thead>\n",
       "  <tbody>\n",
       "    <tr>\n",
       "      <th>0</th>\n",
       "      <td>geno</td>\n",
       "      <td>2020</td>\n",
       "      <td>3.4</td>\n",
       "    </tr>\n",
       "    <tr>\n",
       "      <th>1</th>\n",
       "      <td>keno</td>\n",
       "      <td>2021</td>\n",
       "      <td>4.3</td>\n",
       "    </tr>\n",
       "    <tr>\n",
       "      <th>2</th>\n",
       "      <td>zano</td>\n",
       "      <td>2022</td>\n",
       "      <td>2.8</td>\n",
       "    </tr>\n",
       "    <tr>\n",
       "      <th>3</th>\n",
       "      <td>uuno</td>\n",
       "      <td>2018</td>\n",
       "      <td>3.6</td>\n",
       "    </tr>\n",
       "    <tr>\n",
       "      <th>4</th>\n",
       "      <td>mukno</td>\n",
       "      <td>2014</td>\n",
       "      <td>1.8</td>\n",
       "    </tr>\n",
       "    <tr>\n",
       "      <th>5</th>\n",
       "      <td>muhano</td>\n",
       "      <td>2017</td>\n",
       "      <td>4.0</td>\n",
       "    </tr>\n",
       "  </tbody>\n",
       "</table>\n",
       "</div>"
      ],
      "text/plain": [
       "info    name  year  points\n",
       "Num                       \n",
       "0       geno  2020     3.4\n",
       "1       keno  2021     4.3\n",
       "2       zano  2022     2.8\n",
       "3       uuno  2018     3.6\n",
       "4      mukno  2014     1.8\n",
       "5     muhano  2017     4.0"
      ]
     },
     "execution_count": 15,
     "metadata": {},
     "output_type": "execute_result"
    }
   ],
   "source": [
    "#각 인덱스에 대한 이름 설정하기\n",
    "df.index.name=\"Num\"\n",
    "df.columns.name='info'\n",
    "df"
   ]
  },
  {
   "cell_type": "code",
   "execution_count": 16,
   "id": "e08fbb9b",
   "metadata": {},
   "outputs": [
    {
     "data": {
      "text/html": [
       "<div>\n",
       "<style scoped>\n",
       "    .dataframe tbody tr th:only-of-type {\n",
       "        vertical-align: middle;\n",
       "    }\n",
       "\n",
       "    .dataframe tbody tr th {\n",
       "        vertical-align: top;\n",
       "    }\n",
       "\n",
       "    .dataframe thead th {\n",
       "        text-align: right;\n",
       "    }\n",
       "</style>\n",
       "<table border=\"1\" class=\"dataframe\">\n",
       "  <thead>\n",
       "    <tr style=\"text-align: right;\">\n",
       "      <th></th>\n",
       "      <th>year</th>\n",
       "      <th>name</th>\n",
       "      <th>points</th>\n",
       "      <th>penalty</th>\n",
       "    </tr>\n",
       "  </thead>\n",
       "  <tbody>\n",
       "    <tr>\n",
       "      <th>one</th>\n",
       "      <td>2020</td>\n",
       "      <td>geno</td>\n",
       "      <td>3.4</td>\n",
       "      <td>NaN</td>\n",
       "    </tr>\n",
       "    <tr>\n",
       "      <th>two</th>\n",
       "      <td>2021</td>\n",
       "      <td>keno</td>\n",
       "      <td>4.3</td>\n",
       "      <td>NaN</td>\n",
       "    </tr>\n",
       "    <tr>\n",
       "      <th>three</th>\n",
       "      <td>2022</td>\n",
       "      <td>zano</td>\n",
       "      <td>2.8</td>\n",
       "      <td>NaN</td>\n",
       "    </tr>\n",
       "    <tr>\n",
       "      <th>four</th>\n",
       "      <td>2018</td>\n",
       "      <td>uuno</td>\n",
       "      <td>3.6</td>\n",
       "      <td>NaN</td>\n",
       "    </tr>\n",
       "    <tr>\n",
       "      <th>five</th>\n",
       "      <td>2014</td>\n",
       "      <td>mukno</td>\n",
       "      <td>1.8</td>\n",
       "      <td>NaN</td>\n",
       "    </tr>\n",
       "    <tr>\n",
       "      <th>six</th>\n",
       "      <td>2017</td>\n",
       "      <td>muhano</td>\n",
       "      <td>4.0</td>\n",
       "      <td>NaN</td>\n",
       "    </tr>\n",
       "  </tbody>\n",
       "</table>\n",
       "</div>"
      ],
      "text/plain": [
       "       year    name  points penalty\n",
       "one    2020    geno     3.4     NaN\n",
       "two    2021    keno     4.3     NaN\n",
       "three  2022    zano     2.8     NaN\n",
       "four   2018    uuno     3.6     NaN\n",
       "five   2014   mukno     1.8     NaN\n",
       "six    2017  muhano     4.0     NaN"
      ]
     },
     "execution_count": 16,
     "metadata": {},
     "output_type": "execute_result"
    }
   ],
   "source": [
    "#DataFrame을 만들면서 columns와 index를 설정할수 있다.\n",
    "df2=pd.DataFrame(data, columns=['year', 'name', 'points', 'penalty']\n",
    "                 ,index=['one', 'two', 'three', 'four', 'five', 'six'])\n",
    "df2"
   ]
  },
  {
   "cell_type": "markdown",
   "id": "11d7efc1",
   "metadata": {},
   "source": [
    "### DataFrame을 정의하면서 data로 들어가는 dic과 columns의 순서가 달라도 알아서 정의\n",
    "하지만 data에 포함되어 있지 않은 값은 NaN으로 나타남\n",
    "\n",
    "NaN은 추후에 어떠한 방법으로도 처리가 되지않는 데이터. \n",
    "\n",
    "따라서 올바른 데이터를 위해 추가적으로 값을 넣어줘야한다."
   ]
  },
  {
   "cell_type": "code",
   "execution_count": 17,
   "id": "7bb525ab",
   "metadata": {},
   "outputs": [
    {
     "data": {
      "text/html": [
       "<div>\n",
       "<style scoped>\n",
       "    .dataframe tbody tr th:only-of-type {\n",
       "        vertical-align: middle;\n",
       "    }\n",
       "\n",
       "    .dataframe tbody tr th {\n",
       "        vertical-align: top;\n",
       "    }\n",
       "\n",
       "    .dataframe thead th {\n",
       "        text-align: right;\n",
       "    }\n",
       "</style>\n",
       "<table border=\"1\" class=\"dataframe\">\n",
       "  <thead>\n",
       "    <tr style=\"text-align: right;\">\n",
       "      <th></th>\n",
       "      <th>year</th>\n",
       "      <th>points</th>\n",
       "    </tr>\n",
       "  </thead>\n",
       "  <tbody>\n",
       "    <tr>\n",
       "      <th>count</th>\n",
       "      <td>6.000000</td>\n",
       "      <td>6.000000</td>\n",
       "    </tr>\n",
       "    <tr>\n",
       "      <th>mean</th>\n",
       "      <td>2018.666667</td>\n",
       "      <td>3.316667</td>\n",
       "    </tr>\n",
       "    <tr>\n",
       "      <th>std</th>\n",
       "      <td>2.943920</td>\n",
       "      <td>0.904249</td>\n",
       "    </tr>\n",
       "    <tr>\n",
       "      <th>min</th>\n",
       "      <td>2014.000000</td>\n",
       "      <td>1.800000</td>\n",
       "    </tr>\n",
       "    <tr>\n",
       "      <th>25%</th>\n",
       "      <td>2017.250000</td>\n",
       "      <td>2.950000</td>\n",
       "    </tr>\n",
       "    <tr>\n",
       "      <th>50%</th>\n",
       "      <td>2019.000000</td>\n",
       "      <td>3.500000</td>\n",
       "    </tr>\n",
       "    <tr>\n",
       "      <th>75%</th>\n",
       "      <td>2020.750000</td>\n",
       "      <td>3.900000</td>\n",
       "    </tr>\n",
       "    <tr>\n",
       "      <th>max</th>\n",
       "      <td>2022.000000</td>\n",
       "      <td>4.300000</td>\n",
       "    </tr>\n",
       "  </tbody>\n",
       "</table>\n",
       "</div>"
      ],
      "text/plain": [
       "              year    points\n",
       "count     6.000000  6.000000\n",
       "mean   2018.666667  3.316667\n",
       "std       2.943920  0.904249\n",
       "min    2014.000000  1.800000\n",
       "25%    2017.250000  2.950000\n",
       "50%    2019.000000  3.500000\n",
       "75%    2020.750000  3.900000\n",
       "max    2022.000000  4.300000"
      ]
     },
     "execution_count": 17,
     "metadata": {},
     "output_type": "execute_result"
    }
   ],
   "source": [
    "#describe() 함수는 DataFrame의 계산 가능한 값들에 대한 다양한 값을 보여준다.\n",
    "df2.describe()"
   ]
  },
  {
   "cell_type": "markdown",
   "id": "1cbd36b5",
   "metadata": {},
   "source": [
    "### 3.DataFrame Indexing"
   ]
  },
  {
   "cell_type": "code",
   "execution_count": 18,
   "id": "4ebd71a3",
   "metadata": {},
   "outputs": [
    {
     "data": {
      "text/html": [
       "<div>\n",
       "<style scoped>\n",
       "    .dataframe tbody tr th:only-of-type {\n",
       "        vertical-align: middle;\n",
       "    }\n",
       "\n",
       "    .dataframe tbody tr th {\n",
       "        vertical-align: top;\n",
       "    }\n",
       "\n",
       "    .dataframe thead th {\n",
       "        text-align: right;\n",
       "    }\n",
       "</style>\n",
       "<table border=\"1\" class=\"dataframe\">\n",
       "  <thead>\n",
       "    <tr style=\"text-align: right;\">\n",
       "      <th></th>\n",
       "      <th>year</th>\n",
       "      <th>names</th>\n",
       "      <th>points</th>\n",
       "      <th>penalty</th>\n",
       "    </tr>\n",
       "  </thead>\n",
       "  <tbody>\n",
       "    <tr>\n",
       "      <th>one</th>\n",
       "      <td>1994</td>\n",
       "      <td>kilho</td>\n",
       "      <td>1.5</td>\n",
       "      <td>NaN</td>\n",
       "    </tr>\n",
       "    <tr>\n",
       "      <th>two</th>\n",
       "      <td>1993</td>\n",
       "      <td>chaeho</td>\n",
       "      <td>1.7</td>\n",
       "      <td>NaN</td>\n",
       "    </tr>\n",
       "    <tr>\n",
       "      <th>three</th>\n",
       "      <td>1994</td>\n",
       "      <td>hyeonho</td>\n",
       "      <td>3.6</td>\n",
       "      <td>NaN</td>\n",
       "    </tr>\n",
       "    <tr>\n",
       "      <th>four</th>\n",
       "      <td>1992</td>\n",
       "      <td>gaho</td>\n",
       "      <td>2.4</td>\n",
       "      <td>NaN</td>\n",
       "    </tr>\n",
       "    <tr>\n",
       "      <th>five</th>\n",
       "      <td>1993</td>\n",
       "      <td>junho</td>\n",
       "      <td>2.9</td>\n",
       "      <td>NaN</td>\n",
       "    </tr>\n",
       "  </tbody>\n",
       "</table>\n",
       "</div>"
      ],
      "text/plain": [
       "       year    names  points penalty\n",
       "one    1994    kilho     1.5     NaN\n",
       "two    1993   chaeho     1.7     NaN\n",
       "three  1994  hyeonho     3.6     NaN\n",
       "four   1992     gaho     2.4     NaN\n",
       "five   1993    junho     2.9     NaN"
      ]
     },
     "execution_count": 18,
     "metadata": {},
     "output_type": "execute_result"
    }
   ],
   "source": [
    "data2={\"names\" : [\"kilho\",\"chaeho\",\"hyeonho\",\"gaho\",\"junho\"]\n",
    "      ,\"year\":[1994,1993,1994,1992,1993]\n",
    "      ,\"points\":[1.5, 1.7, 3.6, 2.4, 2.9]}\n",
    "df3=pd.DataFrame(data2, columns=[\"year\", \"names\", \"points\", \"penalty\"]\n",
    "                ,index=[\"one\", \"two\", \"three\", \"four\", \"five\"])\n",
    "df3"
   ]
  },
  {
   "cell_type": "markdown",
   "id": "0a8e6017",
   "metadata": {},
   "source": [
    "#### 3-1.DataFrame에서 열을 선택하고 조작하기"
   ]
  },
  {
   "cell_type": "code",
   "execution_count": 19,
   "id": "3ec9147d",
   "metadata": {},
   "outputs": [
    {
     "data": {
      "text/plain": [
       "one      1994\n",
       "two      1993\n",
       "three    1994\n",
       "four     1992\n",
       "five     1993\n",
       "Name: year, dtype: int64"
      ]
     },
     "execution_count": 19,
     "metadata": {},
     "output_type": "execute_result"
    }
   ],
   "source": [
    "df3[\"year\"]"
   ]
  },
  {
   "cell_type": "code",
   "execution_count": 20,
   "id": "82e2c07a",
   "metadata": {},
   "outputs": [
    {
     "data": {
      "text/plain": [
       "one      1994\n",
       "two      1993\n",
       "three    1994\n",
       "four     1992\n",
       "five     1993\n",
       "Name: year, dtype: int64"
      ]
     },
     "execution_count": 20,
     "metadata": {},
     "output_type": "execute_result"
    }
   ],
   "source": [
    "#동일한 의미를갖는 명령어.\n",
    "df3.year"
   ]
  },
  {
   "cell_type": "code",
   "execution_count": 21,
   "id": "1fcd21f5",
   "metadata": {},
   "outputs": [
    {
     "data": {
      "text/html": [
       "<div>\n",
       "<style scoped>\n",
       "    .dataframe tbody tr th:only-of-type {\n",
       "        vertical-align: middle;\n",
       "    }\n",
       "\n",
       "    .dataframe tbody tr th {\n",
       "        vertical-align: top;\n",
       "    }\n",
       "\n",
       "    .dataframe thead th {\n",
       "        text-align: right;\n",
       "    }\n",
       "</style>\n",
       "<table border=\"1\" class=\"dataframe\">\n",
       "  <thead>\n",
       "    <tr style=\"text-align: right;\">\n",
       "      <th></th>\n",
       "      <th>year</th>\n",
       "      <th>points</th>\n",
       "    </tr>\n",
       "  </thead>\n",
       "  <tbody>\n",
       "    <tr>\n",
       "      <th>one</th>\n",
       "      <td>1994</td>\n",
       "      <td>1.5</td>\n",
       "    </tr>\n",
       "    <tr>\n",
       "      <th>two</th>\n",
       "      <td>1993</td>\n",
       "      <td>1.7</td>\n",
       "    </tr>\n",
       "    <tr>\n",
       "      <th>three</th>\n",
       "      <td>1994</td>\n",
       "      <td>3.6</td>\n",
       "    </tr>\n",
       "    <tr>\n",
       "      <th>four</th>\n",
       "      <td>1992</td>\n",
       "      <td>2.4</td>\n",
       "    </tr>\n",
       "    <tr>\n",
       "      <th>five</th>\n",
       "      <td>1993</td>\n",
       "      <td>2.9</td>\n",
       "    </tr>\n",
       "  </tbody>\n",
       "</table>\n",
       "</div>"
      ],
      "text/plain": [
       "       year  points\n",
       "one    1994     1.5\n",
       "two    1993     1.7\n",
       "three  1994     3.6\n",
       "four   1992     2.4\n",
       "five   1993     2.9"
      ]
     },
     "execution_count": 21,
     "metadata": {},
     "output_type": "execute_result"
    }
   ],
   "source": [
    "df3[['year',\"points\"]]"
   ]
  },
  {
   "cell_type": "code",
   "execution_count": 22,
   "id": "f38c5580",
   "metadata": {},
   "outputs": [
    {
     "data": {
      "text/html": [
       "<div>\n",
       "<style scoped>\n",
       "    .dataframe tbody tr th:only-of-type {\n",
       "        vertical-align: middle;\n",
       "    }\n",
       "\n",
       "    .dataframe tbody tr th {\n",
       "        vertical-align: top;\n",
       "    }\n",
       "\n",
       "    .dataframe thead th {\n",
       "        text-align: right;\n",
       "    }\n",
       "</style>\n",
       "<table border=\"1\" class=\"dataframe\">\n",
       "  <thead>\n",
       "    <tr style=\"text-align: right;\">\n",
       "      <th></th>\n",
       "      <th>year</th>\n",
       "      <th>names</th>\n",
       "      <th>points</th>\n",
       "      <th>penalty</th>\n",
       "    </tr>\n",
       "  </thead>\n",
       "  <tbody>\n",
       "    <tr>\n",
       "      <th>one</th>\n",
       "      <td>1994</td>\n",
       "      <td>kilho</td>\n",
       "      <td>1.5</td>\n",
       "      <td>0.5</td>\n",
       "    </tr>\n",
       "    <tr>\n",
       "      <th>two</th>\n",
       "      <td>1993</td>\n",
       "      <td>chaeho</td>\n",
       "      <td>1.7</td>\n",
       "      <td>0.5</td>\n",
       "    </tr>\n",
       "    <tr>\n",
       "      <th>three</th>\n",
       "      <td>1994</td>\n",
       "      <td>hyeonho</td>\n",
       "      <td>3.6</td>\n",
       "      <td>0.5</td>\n",
       "    </tr>\n",
       "    <tr>\n",
       "      <th>four</th>\n",
       "      <td>1992</td>\n",
       "      <td>gaho</td>\n",
       "      <td>2.4</td>\n",
       "      <td>0.5</td>\n",
       "    </tr>\n",
       "    <tr>\n",
       "      <th>five</th>\n",
       "      <td>1993</td>\n",
       "      <td>junho</td>\n",
       "      <td>2.9</td>\n",
       "      <td>0.5</td>\n",
       "    </tr>\n",
       "  </tbody>\n",
       "</table>\n",
       "</div>"
      ],
      "text/plain": [
       "       year    names  points  penalty\n",
       "one    1994    kilho     1.5      0.5\n",
       "two    1993   chaeho     1.7      0.5\n",
       "three  1994  hyeonho     3.6      0.5\n",
       "four   1992     gaho     2.4      0.5\n",
       "five   1993    junho     2.9      0.5"
      ]
     },
     "execution_count": 22,
     "metadata": {},
     "output_type": "execute_result"
    }
   ],
   "source": [
    "#특정열에 대해 위와 같이 선택하고, 우리가 원하는 값을 대입할 수 있다.\n",
    "df3[\"penalty\"]=0.5\n",
    "df3"
   ]
  },
  {
   "cell_type": "code",
   "execution_count": 23,
   "id": "bd4c4357",
   "metadata": {},
   "outputs": [
    {
     "name": "stdout",
     "output_type": "stream",
     "text": [
      "       year    names  points  penalty\n",
      "one    1994    kilho     1.5      0.1\n",
      "two    1993   chaeho     1.7      0.2\n",
      "three  1994  hyeonho     3.6      0.3\n",
      "four   1992     gaho     2.4      0.4\n",
      "five   1993    junho     2.9      0.5\n"
     ]
    }
   ],
   "source": [
    "#각 자리에도 넣을 수 있다.\n",
    "df3['penalty']=[0.1, 0.2, 0.3, 0.4, 0.5]#python의 list나 numpy의 array로도 가능\n",
    "print(df3)"
   ]
  },
  {
   "cell_type": "code",
   "execution_count": 24,
   "id": "087abcbb",
   "metadata": {},
   "outputs": [
    {
     "data": {
      "text/html": [
       "<div>\n",
       "<style scoped>\n",
       "    .dataframe tbody tr th:only-of-type {\n",
       "        vertical-align: middle;\n",
       "    }\n",
       "\n",
       "    .dataframe tbody tr th {\n",
       "        vertical-align: top;\n",
       "    }\n",
       "\n",
       "    .dataframe thead th {\n",
       "        text-align: right;\n",
       "    }\n",
       "</style>\n",
       "<table border=\"1\" class=\"dataframe\">\n",
       "  <thead>\n",
       "    <tr style=\"text-align: right;\">\n",
       "      <th></th>\n",
       "      <th>year</th>\n",
       "      <th>names</th>\n",
       "      <th>points</th>\n",
       "      <th>penalty</th>\n",
       "      <th>zeros</th>\n",
       "    </tr>\n",
       "  </thead>\n",
       "  <tbody>\n",
       "    <tr>\n",
       "      <th>one</th>\n",
       "      <td>1994</td>\n",
       "      <td>kilho</td>\n",
       "      <td>1.5</td>\n",
       "      <td>0.1</td>\n",
       "      <td>0</td>\n",
       "    </tr>\n",
       "    <tr>\n",
       "      <th>two</th>\n",
       "      <td>1993</td>\n",
       "      <td>chaeho</td>\n",
       "      <td>1.7</td>\n",
       "      <td>0.2</td>\n",
       "      <td>1</td>\n",
       "    </tr>\n",
       "    <tr>\n",
       "      <th>three</th>\n",
       "      <td>1994</td>\n",
       "      <td>hyeonho</td>\n",
       "      <td>3.6</td>\n",
       "      <td>0.3</td>\n",
       "      <td>2</td>\n",
       "    </tr>\n",
       "    <tr>\n",
       "      <th>four</th>\n",
       "      <td>1992</td>\n",
       "      <td>gaho</td>\n",
       "      <td>2.4</td>\n",
       "      <td>0.4</td>\n",
       "      <td>3</td>\n",
       "    </tr>\n",
       "    <tr>\n",
       "      <th>five</th>\n",
       "      <td>1993</td>\n",
       "      <td>junho</td>\n",
       "      <td>2.9</td>\n",
       "      <td>0.5</td>\n",
       "      <td>4</td>\n",
       "    </tr>\n",
       "  </tbody>\n",
       "</table>\n",
       "</div>"
      ],
      "text/plain": [
       "       year    names  points  penalty  zeros\n",
       "one    1994    kilho     1.5      0.1      0\n",
       "two    1993   chaeho     1.7      0.2      1\n",
       "three  1994  hyeonho     3.6      0.3      2\n",
       "four   1992     gaho     2.4      0.4      3\n",
       "five   1993    junho     2.9      0.5      4"
      ]
     },
     "execution_count": 24,
     "metadata": {},
     "output_type": "execute_result"
    }
   ],
   "source": [
    "#새로운 열을 추가하기\n",
    "df3['zeros']=np.arange(5)\n",
    "df3"
   ]
  },
  {
   "cell_type": "code",
   "execution_count": 25,
   "id": "8809f936",
   "metadata": {},
   "outputs": [
    {
     "data": {
      "text/html": [
       "<div>\n",
       "<style scoped>\n",
       "    .dataframe tbody tr th:only-of-type {\n",
       "        vertical-align: middle;\n",
       "    }\n",
       "\n",
       "    .dataframe tbody tr th {\n",
       "        vertical-align: top;\n",
       "    }\n",
       "\n",
       "    .dataframe thead th {\n",
       "        text-align: right;\n",
       "    }\n",
       "</style>\n",
       "<table border=\"1\" class=\"dataframe\">\n",
       "  <thead>\n",
       "    <tr style=\"text-align: right;\">\n",
       "      <th></th>\n",
       "      <th>year</th>\n",
       "      <th>names</th>\n",
       "      <th>points</th>\n",
       "      <th>penalty</th>\n",
       "      <th>zeros</th>\n",
       "      <th>debt</th>\n",
       "    </tr>\n",
       "  </thead>\n",
       "  <tbody>\n",
       "    <tr>\n",
       "      <th>one</th>\n",
       "      <td>1994</td>\n",
       "      <td>kilho</td>\n",
       "      <td>1.5</td>\n",
       "      <td>0.1</td>\n",
       "      <td>0</td>\n",
       "      <td>NaN</td>\n",
       "    </tr>\n",
       "    <tr>\n",
       "      <th>two</th>\n",
       "      <td>1993</td>\n",
       "      <td>chaeho</td>\n",
       "      <td>1.7</td>\n",
       "      <td>0.2</td>\n",
       "      <td>1</td>\n",
       "      <td>-1.2</td>\n",
       "    </tr>\n",
       "    <tr>\n",
       "      <th>three</th>\n",
       "      <td>1994</td>\n",
       "      <td>hyeonho</td>\n",
       "      <td>3.6</td>\n",
       "      <td>0.3</td>\n",
       "      <td>2</td>\n",
       "      <td>NaN</td>\n",
       "    </tr>\n",
       "    <tr>\n",
       "      <th>four</th>\n",
       "      <td>1992</td>\n",
       "      <td>gaho</td>\n",
       "      <td>2.4</td>\n",
       "      <td>0.4</td>\n",
       "      <td>3</td>\n",
       "      <td>-1.5</td>\n",
       "    </tr>\n",
       "    <tr>\n",
       "      <th>five</th>\n",
       "      <td>1993</td>\n",
       "      <td>junho</td>\n",
       "      <td>2.9</td>\n",
       "      <td>0.5</td>\n",
       "      <td>4</td>\n",
       "      <td>-1.7</td>\n",
       "    </tr>\n",
       "  </tbody>\n",
       "</table>\n",
       "</div>"
      ],
      "text/plain": [
       "       year    names  points  penalty  zeros  debt\n",
       "one    1994    kilho     1.5      0.1      0   NaN\n",
       "two    1993   chaeho     1.7      0.2      1  -1.2\n",
       "three  1994  hyeonho     3.6      0.3      2   NaN\n",
       "four   1992     gaho     2.4      0.4      3  -1.5\n",
       "five   1993    junho     2.9      0.5      4  -1.7"
      ]
     },
     "execution_count": 25,
     "metadata": {},
     "output_type": "execute_result"
    }
   ],
   "source": [
    "#Series를 추가할 수도 있다.\n",
    "val = pd.Series([-1.2, -1.5, -1.7], index=['two', 'four', 'five'])\n",
    "df3['debt']=val\n",
    "df3"
   ]
  },
  {
   "cell_type": "markdown",
   "id": "d726ac3e",
   "metadata": {},
   "source": [
    "#### 하지만 Series로 넣을 때는 val와 같이 넣으려는 data의 index에 맞춰서 데이터가 들어간다.\n",
    "이점이 python의 list나 numpy의 array로 데이터를 넣을때와 가장 큰 차이점이다."
   ]
  },
  {
   "cell_type": "code",
   "execution_count": 26,
   "id": "18d3cc3e",
   "metadata": {},
   "outputs": [
    {
     "data": {
      "text/html": [
       "<div>\n",
       "<style scoped>\n",
       "    .dataframe tbody tr th:only-of-type {\n",
       "        vertical-align: middle;\n",
       "    }\n",
       "\n",
       "    .dataframe tbody tr th {\n",
       "        vertical-align: top;\n",
       "    }\n",
       "\n",
       "    .dataframe thead th {\n",
       "        text-align: right;\n",
       "    }\n",
       "</style>\n",
       "<table border=\"1\" class=\"dataframe\">\n",
       "  <thead>\n",
       "    <tr style=\"text-align: right;\">\n",
       "      <th></th>\n",
       "      <th>year</th>\n",
       "      <th>names</th>\n",
       "      <th>points</th>\n",
       "      <th>penalty</th>\n",
       "      <th>zeros</th>\n",
       "      <th>debt</th>\n",
       "      <th>net_points</th>\n",
       "      <th>hight_points</th>\n",
       "    </tr>\n",
       "  </thead>\n",
       "  <tbody>\n",
       "    <tr>\n",
       "      <th>one</th>\n",
       "      <td>1994.0</td>\n",
       "      <td>kilho</td>\n",
       "      <td>1.5</td>\n",
       "      <td>0.1</td>\n",
       "      <td>0.0</td>\n",
       "      <td>NaN</td>\n",
       "      <td>1.4</td>\n",
       "      <td>False</td>\n",
       "    </tr>\n",
       "    <tr>\n",
       "      <th>two</th>\n",
       "      <td>1993.0</td>\n",
       "      <td>chaeho</td>\n",
       "      <td>1.7</td>\n",
       "      <td>0.2</td>\n",
       "      <td>1.0</td>\n",
       "      <td>-1.2</td>\n",
       "      <td>1.5</td>\n",
       "      <td>False</td>\n",
       "    </tr>\n",
       "    <tr>\n",
       "      <th>three</th>\n",
       "      <td>1994.0</td>\n",
       "      <td>hyeonho</td>\n",
       "      <td>3.6</td>\n",
       "      <td>0.3</td>\n",
       "      <td>2.0</td>\n",
       "      <td>NaN</td>\n",
       "      <td>3.3</td>\n",
       "      <td>True</td>\n",
       "    </tr>\n",
       "    <tr>\n",
       "      <th>four</th>\n",
       "      <td>1992.0</td>\n",
       "      <td>gaho</td>\n",
       "      <td>2.4</td>\n",
       "      <td>0.4</td>\n",
       "      <td>3.0</td>\n",
       "      <td>-1.5</td>\n",
       "      <td>2.0</td>\n",
       "      <td>False</td>\n",
       "    </tr>\n",
       "    <tr>\n",
       "      <th>five</th>\n",
       "      <td>1993.0</td>\n",
       "      <td>junho</td>\n",
       "      <td>2.9</td>\n",
       "      <td>0.5</td>\n",
       "      <td>4.0</td>\n",
       "      <td>-1.7</td>\n",
       "      <td>2.4</td>\n",
       "      <td>True</td>\n",
       "    </tr>\n",
       "    <tr>\n",
       "      <th>six</th>\n",
       "      <td>2013.0</td>\n",
       "      <td>mino</td>\n",
       "      <td>4.0</td>\n",
       "      <td>0.1</td>\n",
       "      <td>5.0</td>\n",
       "      <td>0.8</td>\n",
       "      <td>0.0</td>\n",
       "      <td>0</td>\n",
       "    </tr>\n",
       "  </tbody>\n",
       "</table>\n",
       "</div>"
      ],
      "text/plain": [
       "         year    names  points  penalty  zeros  debt  net_points hight_points\n",
       "one    1994.0    kilho     1.5      0.1    0.0   NaN         1.4        False\n",
       "two    1993.0   chaeho     1.7      0.2    1.0  -1.2         1.5        False\n",
       "three  1994.0  hyeonho     3.6      0.3    2.0   NaN         3.3         True\n",
       "four   1992.0     gaho     2.4      0.4    3.0  -1.5         2.0        False\n",
       "five   1993.0    junho     2.9      0.5    4.0  -1.7         2.4         True\n",
       "six    2013.0     mino     4.0      0.1    5.0   0.8         0.0            0"
      ]
     },
     "execution_count": 26,
     "metadata": {},
     "output_type": "execute_result"
    }
   ],
   "source": [
    "df3['net_points']=df3['points']-df3['penalty']\n",
    "df3['hight_points']=df3['net_points']>2.0\n",
    "df3.loc['six',:] = [2013,\"mino\",4.0,0.1,5,0.8,0,0]\n",
    "df3"
   ]
  },
  {
   "cell_type": "markdown",
   "id": "6bb9744b",
   "metadata": {},
   "source": [
    "#### 3-2.DataFrame에서 행을 선택하고 조작하기\n",
    "pandas에서는 DataFrame에서 행을 인덱싱하는 방법이 무수히많다. 열 또한 그러하다"
   ]
  },
  {
   "cell_type": "code",
   "execution_count": 27,
   "id": "88d7cdcf",
   "metadata": {},
   "outputs": [
    {
     "data": {
      "text/html": [
       "<div>\n",
       "<style scoped>\n",
       "    .dataframe tbody tr th:only-of-type {\n",
       "        vertical-align: middle;\n",
       "    }\n",
       "\n",
       "    .dataframe tbody tr th {\n",
       "        vertical-align: top;\n",
       "    }\n",
       "\n",
       "    .dataframe thead th {\n",
       "        text-align: right;\n",
       "    }\n",
       "</style>\n",
       "<table border=\"1\" class=\"dataframe\">\n",
       "  <thead>\n",
       "    <tr style=\"text-align: right;\">\n",
       "      <th></th>\n",
       "      <th>year</th>\n",
       "      <th>names</th>\n",
       "      <th>points</th>\n",
       "      <th>penalty</th>\n",
       "      <th>zeros</th>\n",
       "      <th>debt</th>\n",
       "      <th>net_points</th>\n",
       "      <th>hight_points</th>\n",
       "    </tr>\n",
       "  </thead>\n",
       "  <tbody>\n",
       "    <tr>\n",
       "      <th>one</th>\n",
       "      <td>1994.0</td>\n",
       "      <td>kilho</td>\n",
       "      <td>1.5</td>\n",
       "      <td>0.1</td>\n",
       "      <td>0.0</td>\n",
       "      <td>NaN</td>\n",
       "      <td>1.4</td>\n",
       "      <td>False</td>\n",
       "    </tr>\n",
       "    <tr>\n",
       "      <th>two</th>\n",
       "      <td>1993.0</td>\n",
       "      <td>chaeho</td>\n",
       "      <td>1.7</td>\n",
       "      <td>0.2</td>\n",
       "      <td>1.0</td>\n",
       "      <td>-1.2</td>\n",
       "      <td>1.5</td>\n",
       "      <td>False</td>\n",
       "    </tr>\n",
       "    <tr>\n",
       "      <th>three</th>\n",
       "      <td>1994.0</td>\n",
       "      <td>hyeonho</td>\n",
       "      <td>3.6</td>\n",
       "      <td>0.3</td>\n",
       "      <td>2.0</td>\n",
       "      <td>NaN</td>\n",
       "      <td>3.3</td>\n",
       "      <td>True</td>\n",
       "    </tr>\n",
       "  </tbody>\n",
       "</table>\n",
       "</div>"
      ],
      "text/plain": [
       "         year    names  points  penalty  zeros  debt  net_points hight_points\n",
       "one    1994.0    kilho     1.5      0.1    0.0   NaN         1.4        False\n",
       "two    1993.0   chaeho     1.7      0.2    1.0  -1.2         1.5        False\n",
       "three  1994.0  hyeonho     3.6      0.3    2.0   NaN         3.3         True"
      ]
     },
     "execution_count": 27,
     "metadata": {},
     "output_type": "execute_result"
    }
   ],
   "source": [
    "#0번째 부터 2(3-1)번째 까지 가져온다.\n",
    "#뒤에 써준 숫자번째의 행은 뺀다.\n",
    "df3[0:3]"
   ]
  },
  {
   "cell_type": "code",
   "execution_count": 28,
   "id": "be18ea3b",
   "metadata": {},
   "outputs": [
    {
     "data": {
      "text/html": [
       "<div>\n",
       "<style scoped>\n",
       "    .dataframe tbody tr th:only-of-type {\n",
       "        vertical-align: middle;\n",
       "    }\n",
       "\n",
       "    .dataframe tbody tr th {\n",
       "        vertical-align: top;\n",
       "    }\n",
       "\n",
       "    .dataframe thead th {\n",
       "        text-align: right;\n",
       "    }\n",
       "</style>\n",
       "<table border=\"1\" class=\"dataframe\">\n",
       "  <thead>\n",
       "    <tr style=\"text-align: right;\">\n",
       "      <th></th>\n",
       "      <th>year</th>\n",
       "      <th>names</th>\n",
       "      <th>points</th>\n",
       "      <th>penalty</th>\n",
       "      <th>zeros</th>\n",
       "      <th>debt</th>\n",
       "      <th>net_points</th>\n",
       "      <th>hight_points</th>\n",
       "    </tr>\n",
       "  </thead>\n",
       "  <tbody>\n",
       "    <tr>\n",
       "      <th>two</th>\n",
       "      <td>1993.0</td>\n",
       "      <td>chaeho</td>\n",
       "      <td>1.7</td>\n",
       "      <td>0.2</td>\n",
       "      <td>1.0</td>\n",
       "      <td>-1.2</td>\n",
       "      <td>1.5</td>\n",
       "      <td>False</td>\n",
       "    </tr>\n",
       "    <tr>\n",
       "      <th>three</th>\n",
       "      <td>1994.0</td>\n",
       "      <td>hyeonho</td>\n",
       "      <td>3.6</td>\n",
       "      <td>0.3</td>\n",
       "      <td>2.0</td>\n",
       "      <td>NaN</td>\n",
       "      <td>3.3</td>\n",
       "      <td>True</td>\n",
       "    </tr>\n",
       "    <tr>\n",
       "      <th>four</th>\n",
       "      <td>1992.0</td>\n",
       "      <td>gaho</td>\n",
       "      <td>2.4</td>\n",
       "      <td>0.4</td>\n",
       "      <td>3.0</td>\n",
       "      <td>-1.5</td>\n",
       "      <td>2.0</td>\n",
       "      <td>False</td>\n",
       "    </tr>\n",
       "  </tbody>\n",
       "</table>\n",
       "</div>"
      ],
      "text/plain": [
       "         year    names  points  penalty  zeros  debt  net_points hight_points\n",
       "two    1993.0   chaeho     1.7      0.2    1.0  -1.2         1.5        False\n",
       "three  1994.0  hyeonho     3.6      0.3    2.0   NaN         3.3         True\n",
       "four   1992.0     gaho     2.4      0.4    3.0  -1.5         2.0        False"
      ]
     },
     "execution_count": 28,
     "metadata": {},
     "output_type": "execute_result"
    }
   ],
   "source": [
    "#two~four까지 가져온다.\n",
    "#뒤에 써준 이름의 행을 빼지 않는다.\n",
    "df3['two':'four'] #비추"
   ]
  },
  {
   "cell_type": "code",
   "execution_count": 29,
   "id": "d1064d95",
   "metadata": {},
   "outputs": [
    {
     "data": {
      "text/plain": [
       "year            1993.0\n",
       "names           chaeho\n",
       "points             1.7\n",
       "penalty            0.2\n",
       "zeros              1.0\n",
       "debt              -1.2\n",
       "net_points         1.5\n",
       "hight_points     False\n",
       "Name: two, dtype: object"
      ]
     },
     "execution_count": 29,
     "metadata": {},
     "output_type": "execute_result"
    }
   ],
   "source": [
    "#아래 방법을 권장한다.\n",
    "#.loc 또는 .ilco 함수를 사용하는 방법.\n",
    "df3.loc['two'] #반환 형태는 Series"
   ]
  },
  {
   "cell_type": "code",
   "execution_count": 30,
   "id": "3aa93802",
   "metadata": {},
   "outputs": [
    {
     "data": {
      "text/html": [
       "<div>\n",
       "<style scoped>\n",
       "    .dataframe tbody tr th:only-of-type {\n",
       "        vertical-align: middle;\n",
       "    }\n",
       "\n",
       "    .dataframe tbody tr th {\n",
       "        vertical-align: top;\n",
       "    }\n",
       "\n",
       "    .dataframe thead th {\n",
       "        text-align: right;\n",
       "    }\n",
       "</style>\n",
       "<table border=\"1\" class=\"dataframe\">\n",
       "  <thead>\n",
       "    <tr style=\"text-align: right;\">\n",
       "      <th></th>\n",
       "      <th>year</th>\n",
       "      <th>names</th>\n",
       "      <th>points</th>\n",
       "      <th>penalty</th>\n",
       "      <th>zeros</th>\n",
       "      <th>debt</th>\n",
       "      <th>net_points</th>\n",
       "      <th>hight_points</th>\n",
       "    </tr>\n",
       "  </thead>\n",
       "  <tbody>\n",
       "    <tr>\n",
       "      <th>two</th>\n",
       "      <td>1993.0</td>\n",
       "      <td>chaeho</td>\n",
       "      <td>1.7</td>\n",
       "      <td>0.2</td>\n",
       "      <td>1.0</td>\n",
       "      <td>-1.2</td>\n",
       "      <td>1.5</td>\n",
       "      <td>False</td>\n",
       "    </tr>\n",
       "    <tr>\n",
       "      <th>three</th>\n",
       "      <td>1994.0</td>\n",
       "      <td>hyeonho</td>\n",
       "      <td>3.6</td>\n",
       "      <td>0.3</td>\n",
       "      <td>2.0</td>\n",
       "      <td>NaN</td>\n",
       "      <td>3.3</td>\n",
       "      <td>True</td>\n",
       "    </tr>\n",
       "    <tr>\n",
       "      <th>four</th>\n",
       "      <td>1992.0</td>\n",
       "      <td>gaho</td>\n",
       "      <td>2.4</td>\n",
       "      <td>0.4</td>\n",
       "      <td>3.0</td>\n",
       "      <td>-1.5</td>\n",
       "      <td>2.0</td>\n",
       "      <td>False</td>\n",
       "    </tr>\n",
       "  </tbody>\n",
       "</table>\n",
       "</div>"
      ],
      "text/plain": [
       "         year    names  points  penalty  zeros  debt  net_points hight_points\n",
       "two    1993.0   chaeho     1.7      0.2    1.0  -1.2         1.5        False\n",
       "three  1994.0  hyeonho     3.6      0.3    2.0   NaN         3.3         True\n",
       "four   1992.0     gaho     2.4      0.4    3.0  -1.5         2.0        False"
      ]
     },
     "execution_count": 30,
     "metadata": {},
     "output_type": "execute_result"
    }
   ],
   "source": [
    "df3.loc['two':'four']"
   ]
  },
  {
   "cell_type": "code",
   "execution_count": 31,
   "id": "60edf26d",
   "metadata": {},
   "outputs": [
    {
     "data": {
      "text/plain": [
       "two      1.7\n",
       "three    3.6\n",
       "four     2.4\n",
       "Name: points, dtype: float64"
      ]
     },
     "execution_count": 31,
     "metadata": {},
     "output_type": "execute_result"
    }
   ],
   "source": [
    "df3.loc['two':'four','points']#two~four가져오는데 ,'points'만 가져온다."
   ]
  },
  {
   "cell_type": "markdown",
   "id": "8a7638d2",
   "metadata": {},
   "source": [
    "### [인덱스:인덱스,[인덱스,인덱스]]인덱스\\~인덱스 까지 [인덱스~인덱스]에 대한 정보를 가져옴\n",
    "    columns의 index    rows의 index\n",
    "       (rows)           (colums)"
   ]
  },
  {
   "cell_type": "code",
   "execution_count": 32,
   "id": "140934f3",
   "metadata": {
    "scrolled": true
   },
   "outputs": [
    {
     "data": {
      "text/plain": [
       "one      1994.0\n",
       "two      1993.0\n",
       "three    1994.0\n",
       "four     1992.0\n",
       "five     1993.0\n",
       "six      2013.0\n",
       "Name: year, dtype: float64"
      ]
     },
     "execution_count": 32,
     "metadata": {},
     "output_type": "execute_result"
    }
   ],
   "source": [
    "df3.loc[:,'year'] #==df3['year']"
   ]
  },
  {
   "cell_type": "code",
   "execution_count": 33,
   "id": "7bb13ec4",
   "metadata": {},
   "outputs": [
    {
     "data": {
      "text/html": [
       "<div>\n",
       "<style scoped>\n",
       "    .dataframe tbody tr th:only-of-type {\n",
       "        vertical-align: middle;\n",
       "    }\n",
       "\n",
       "    .dataframe tbody tr th {\n",
       "        vertical-align: top;\n",
       "    }\n",
       "\n",
       "    .dataframe thead th {\n",
       "        text-align: right;\n",
       "    }\n",
       "</style>\n",
       "<table border=\"1\" class=\"dataframe\">\n",
       "  <thead>\n",
       "    <tr style=\"text-align: right;\">\n",
       "      <th></th>\n",
       "      <th>year</th>\n",
       "      <th>names</th>\n",
       "    </tr>\n",
       "  </thead>\n",
       "  <tbody>\n",
       "    <tr>\n",
       "      <th>one</th>\n",
       "      <td>1994.0</td>\n",
       "      <td>kilho</td>\n",
       "    </tr>\n",
       "    <tr>\n",
       "      <th>two</th>\n",
       "      <td>1993.0</td>\n",
       "      <td>chaeho</td>\n",
       "    </tr>\n",
       "    <tr>\n",
       "      <th>three</th>\n",
       "      <td>1994.0</td>\n",
       "      <td>hyeonho</td>\n",
       "    </tr>\n",
       "    <tr>\n",
       "      <th>four</th>\n",
       "      <td>1992.0</td>\n",
       "      <td>gaho</td>\n",
       "    </tr>\n",
       "    <tr>\n",
       "      <th>five</th>\n",
       "      <td>1993.0</td>\n",
       "      <td>junho</td>\n",
       "    </tr>\n",
       "    <tr>\n",
       "      <th>six</th>\n",
       "      <td>2013.0</td>\n",
       "      <td>mino</td>\n",
       "    </tr>\n",
       "  </tbody>\n",
       "</table>\n",
       "</div>"
      ],
      "text/plain": [
       "         year    names\n",
       "one    1994.0    kilho\n",
       "two    1993.0   chaeho\n",
       "three  1994.0  hyeonho\n",
       "four   1992.0     gaho\n",
       "five   1993.0    junho\n",
       "six    2013.0     mino"
      ]
     },
     "execution_count": 33,
     "metadata": {},
     "output_type": "execute_result"
    }
   ],
   "source": [
    "df3.loc[:,['year', 'names']]#0부터 끝까지."
   ]
  },
  {
   "cell_type": "code",
   "execution_count": 34,
   "id": "9c61f00b",
   "metadata": {},
   "outputs": [
    {
     "data": {
      "text/html": [
       "<div>\n",
       "<style scoped>\n",
       "    .dataframe tbody tr th:only-of-type {\n",
       "        vertical-align: middle;\n",
       "    }\n",
       "\n",
       "    .dataframe tbody tr th {\n",
       "        vertical-align: top;\n",
       "    }\n",
       "\n",
       "    .dataframe thead th {\n",
       "        text-align: right;\n",
       "    }\n",
       "</style>\n",
       "<table border=\"1\" class=\"dataframe\">\n",
       "  <thead>\n",
       "    <tr style=\"text-align: right;\">\n",
       "      <th></th>\n",
       "      <th>year</th>\n",
       "      <th>names</th>\n",
       "      <th>points</th>\n",
       "      <th>penalty</th>\n",
       "    </tr>\n",
       "  </thead>\n",
       "  <tbody>\n",
       "    <tr>\n",
       "      <th>three</th>\n",
       "      <td>1994.0</td>\n",
       "      <td>hyeonho</td>\n",
       "      <td>3.6</td>\n",
       "      <td>0.3</td>\n",
       "    </tr>\n",
       "    <tr>\n",
       "      <th>four</th>\n",
       "      <td>1992.0</td>\n",
       "      <td>gaho</td>\n",
       "      <td>2.4</td>\n",
       "      <td>0.4</td>\n",
       "    </tr>\n",
       "    <tr>\n",
       "      <th>five</th>\n",
       "      <td>1993.0</td>\n",
       "      <td>junho</td>\n",
       "      <td>2.9</td>\n",
       "      <td>0.5</td>\n",
       "    </tr>\n",
       "  </tbody>\n",
       "</table>\n",
       "</div>"
      ],
      "text/plain": [
       "         year    names  points  penalty\n",
       "three  1994.0  hyeonho     3.6      0.3\n",
       "four   1992.0     gaho     2.4      0.4\n",
       "five   1993.0    junho     2.9      0.5"
      ]
     },
     "execution_count": 34,
     "metadata": {},
     "output_type": "execute_result"
    }
   ],
   "source": [
    "df3.loc['three':'five','year':'penalty']"
   ]
  },
  {
   "cell_type": "code",
   "execution_count": 35,
   "id": "ee65b3df",
   "metadata": {},
   "outputs": [
    {
     "data": {
      "text/html": [
       "<div>\n",
       "<style scoped>\n",
       "    .dataframe tbody tr th:only-of-type {\n",
       "        vertical-align: middle;\n",
       "    }\n",
       "\n",
       "    .dataframe tbody tr th {\n",
       "        vertical-align: top;\n",
       "    }\n",
       "\n",
       "    .dataframe thead th {\n",
       "        text-align: right;\n",
       "    }\n",
       "</style>\n",
       "<table border=\"1\" class=\"dataframe\">\n",
       "  <thead>\n",
       "    <tr style=\"text-align: right;\">\n",
       "      <th></th>\n",
       "      <th>year</th>\n",
       "      <th>names</th>\n",
       "      <th>points</th>\n",
       "      <th>penalty</th>\n",
       "      <th>zeros</th>\n",
       "      <th>debt</th>\n",
       "      <th>net_points</th>\n",
       "      <th>hight_points</th>\n",
       "    </tr>\n",
       "  </thead>\n",
       "  <tbody>\n",
       "    <tr>\n",
       "      <th>one</th>\n",
       "      <td>1994.0</td>\n",
       "      <td>kilho</td>\n",
       "      <td>1.5</td>\n",
       "      <td>0.1</td>\n",
       "      <td>0.0</td>\n",
       "      <td>NaN</td>\n",
       "      <td>1.4</td>\n",
       "      <td>False</td>\n",
       "    </tr>\n",
       "    <tr>\n",
       "      <th>two</th>\n",
       "      <td>1993.0</td>\n",
       "      <td>miyao</td>\n",
       "      <td>1.7</td>\n",
       "      <td>0.2</td>\n",
       "      <td>1.0</td>\n",
       "      <td>-1.2</td>\n",
       "      <td>1.5</td>\n",
       "      <td>False</td>\n",
       "    </tr>\n",
       "    <tr>\n",
       "      <th>three</th>\n",
       "      <td>1994.0</td>\n",
       "      <td>hyeonho</td>\n",
       "      <td>3.6</td>\n",
       "      <td>0.3</td>\n",
       "      <td>2.0</td>\n",
       "      <td>NaN</td>\n",
       "      <td>3.3</td>\n",
       "      <td>True</td>\n",
       "    </tr>\n",
       "    <tr>\n",
       "      <th>four</th>\n",
       "      <td>1992.0</td>\n",
       "      <td>gaho</td>\n",
       "      <td>2.4</td>\n",
       "      <td>0.4</td>\n",
       "      <td>3.0</td>\n",
       "      <td>-1.5</td>\n",
       "      <td>2.0</td>\n",
       "      <td>False</td>\n",
       "    </tr>\n",
       "    <tr>\n",
       "      <th>five</th>\n",
       "      <td>1993.0</td>\n",
       "      <td>junho</td>\n",
       "      <td>2.9</td>\n",
       "      <td>0.5</td>\n",
       "      <td>4.0</td>\n",
       "      <td>-1.7</td>\n",
       "      <td>2.4</td>\n",
       "      <td>True</td>\n",
       "    </tr>\n",
       "    <tr>\n",
       "      <th>six</th>\n",
       "      <td>2013.0</td>\n",
       "      <td>mino</td>\n",
       "      <td>4.0</td>\n",
       "      <td>0.1</td>\n",
       "      <td>5.0</td>\n",
       "      <td>0.8</td>\n",
       "      <td>0.0</td>\n",
       "      <td>0</td>\n",
       "    </tr>\n",
       "  </tbody>\n",
       "</table>\n",
       "</div>"
      ],
      "text/plain": [
       "         year    names  points  penalty  zeros  debt  net_points hight_points\n",
       "one    1994.0    kilho     1.5      0.1    0.0   NaN         1.4        False\n",
       "two    1993.0    miyao     1.7      0.2    1.0  -1.2         1.5        False\n",
       "three  1994.0  hyeonho     3.6      0.3    2.0   NaN         3.3         True\n",
       "four   1992.0     gaho     2.4      0.4    3.0  -1.5         2.0        False\n",
       "five   1993.0    junho     2.9      0.5    4.0  -1.7         2.4         True\n",
       "six    2013.0     mino     4.0      0.1    5.0   0.8         0.0            0"
      ]
     },
     "execution_count": 35,
     "metadata": {},
     "output_type": "execute_result"
    }
   ],
   "source": [
    "df3.loc['two','names']=\"miyao\"\n",
    "df3"
   ]
  },
  {
   "cell_type": "code",
   "execution_count": 36,
   "id": "12b2df31",
   "metadata": {},
   "outputs": [],
   "source": [
    "df3.index.name='Order'\n",
    "df3.columns.name=\"info\""
   ]
  },
  {
   "cell_type": "code",
   "execution_count": 37,
   "id": "4bd128bd",
   "metadata": {},
   "outputs": [
    {
     "data": {
      "text/html": [
       "<div>\n",
       "<style scoped>\n",
       "    .dataframe tbody tr th:only-of-type {\n",
       "        vertical-align: middle;\n",
       "    }\n",
       "\n",
       "    .dataframe tbody tr th {\n",
       "        vertical-align: top;\n",
       "    }\n",
       "\n",
       "    .dataframe thead th {\n",
       "        text-align: right;\n",
       "    }\n",
       "</style>\n",
       "<table border=\"1\" class=\"dataframe\">\n",
       "  <thead>\n",
       "    <tr style=\"text-align: right;\">\n",
       "      <th>info</th>\n",
       "      <th>year</th>\n",
       "      <th>names</th>\n",
       "      <th>points</th>\n",
       "      <th>penalty</th>\n",
       "      <th>zeros</th>\n",
       "      <th>debt</th>\n",
       "      <th>net_points</th>\n",
       "      <th>hight_points</th>\n",
       "    </tr>\n",
       "    <tr>\n",
       "      <th>Order</th>\n",
       "      <th></th>\n",
       "      <th></th>\n",
       "      <th></th>\n",
       "      <th></th>\n",
       "      <th></th>\n",
       "      <th></th>\n",
       "      <th></th>\n",
       "      <th></th>\n",
       "    </tr>\n",
       "  </thead>\n",
       "  <tbody>\n",
       "    <tr>\n",
       "      <th>one</th>\n",
       "      <td>1994.0</td>\n",
       "      <td>kilho</td>\n",
       "      <td>1.5</td>\n",
       "      <td>0.1</td>\n",
       "      <td>0.0</td>\n",
       "      <td>NaN</td>\n",
       "      <td>1.4</td>\n",
       "      <td>False</td>\n",
       "    </tr>\n",
       "    <tr>\n",
       "      <th>two</th>\n",
       "      <td>1993.0</td>\n",
       "      <td>miyao</td>\n",
       "      <td>1.7</td>\n",
       "      <td>0.2</td>\n",
       "      <td>1.0</td>\n",
       "      <td>-1.2</td>\n",
       "      <td>1.5</td>\n",
       "      <td>False</td>\n",
       "    </tr>\n",
       "    <tr>\n",
       "      <th>three</th>\n",
       "      <td>1994.0</td>\n",
       "      <td>hyeonho</td>\n",
       "      <td>3.6</td>\n",
       "      <td>0.3</td>\n",
       "      <td>2.0</td>\n",
       "      <td>NaN</td>\n",
       "      <td>3.3</td>\n",
       "      <td>True</td>\n",
       "    </tr>\n",
       "    <tr>\n",
       "      <th>four</th>\n",
       "      <td>1992.0</td>\n",
       "      <td>gaho</td>\n",
       "      <td>2.4</td>\n",
       "      <td>0.4</td>\n",
       "      <td>3.0</td>\n",
       "      <td>-1.5</td>\n",
       "      <td>2.0</td>\n",
       "      <td>False</td>\n",
       "    </tr>\n",
       "    <tr>\n",
       "      <th>five</th>\n",
       "      <td>1993.0</td>\n",
       "      <td>junho</td>\n",
       "      <td>2.9</td>\n",
       "      <td>0.5</td>\n",
       "      <td>4.0</td>\n",
       "      <td>-1.7</td>\n",
       "      <td>2.4</td>\n",
       "      <td>True</td>\n",
       "    </tr>\n",
       "    <tr>\n",
       "      <th>six</th>\n",
       "      <td>2013.0</td>\n",
       "      <td>mino</td>\n",
       "      <td>4.0</td>\n",
       "      <td>0.1</td>\n",
       "      <td>5.0</td>\n",
       "      <td>0.8</td>\n",
       "      <td>NaN</td>\n",
       "      <td>NaN</td>\n",
       "    </tr>\n",
       "  </tbody>\n",
       "</table>\n",
       "</div>"
      ],
      "text/plain": [
       "info     year    names  points  penalty  zeros  debt  net_points hight_points\n",
       "Order                                                                        \n",
       "one    1994.0    kilho     1.5      0.1    0.0   NaN         1.4        False\n",
       "two    1993.0    miyao     1.7      0.2    1.0  -1.2         1.5        False\n",
       "three  1994.0  hyeonho     3.6      0.3    2.0   NaN         3.3         True\n",
       "four   1992.0     gaho     2.4      0.4    3.0  -1.5         2.0        False\n",
       "five   1993.0    junho     2.9      0.5    4.0  -1.7         2.4         True\n",
       "six    2013.0     mino     4.0      0.1    5.0   0.8         NaN          NaN"
      ]
     },
     "execution_count": 37,
     "metadata": {},
     "output_type": "execute_result"
    }
   ],
   "source": [
    "#새로운 행 삽입하기\n",
    "df3.loc['six',:] = [2013,\"mino\",4.0,0.1,5,0.8, np.nan, np.nan] #기존의 columns에 해당하는 모든 값을 얺어주어야함\n",
    "df3###교수님챈스@@"
   ]
  },
  {
   "cell_type": "code",
   "execution_count": 38,
   "id": "505793a2",
   "metadata": {},
   "outputs": [
    {
     "data": {
      "text/html": [
       "<div>\n",
       "<style scoped>\n",
       "    .dataframe tbody tr th:only-of-type {\n",
       "        vertical-align: middle;\n",
       "    }\n",
       "\n",
       "    .dataframe tbody tr th {\n",
       "        vertical-align: top;\n",
       "    }\n",
       "\n",
       "    .dataframe thead th {\n",
       "        text-align: right;\n",
       "    }\n",
       "</style>\n",
       "<table border=\"1\" class=\"dataframe\">\n",
       "  <thead>\n",
       "    <tr style=\"text-align: right;\">\n",
       "      <th>info</th>\n",
       "      <th>year</th>\n",
       "      <th>names</th>\n",
       "      <th>points</th>\n",
       "      <th>penalty</th>\n",
       "      <th>zeros</th>\n",
       "      <th>debt</th>\n",
       "      <th>net_points</th>\n",
       "      <th>hight_points</th>\n",
       "    </tr>\n",
       "    <tr>\n",
       "      <th>Order</th>\n",
       "      <th></th>\n",
       "      <th></th>\n",
       "      <th></th>\n",
       "      <th></th>\n",
       "      <th></th>\n",
       "      <th></th>\n",
       "      <th></th>\n",
       "      <th></th>\n",
       "    </tr>\n",
       "  </thead>\n",
       "  <tbody>\n",
       "    <tr>\n",
       "      <th>one</th>\n",
       "      <td>1994.0</td>\n",
       "      <td>kilho</td>\n",
       "      <td>1.5</td>\n",
       "      <td>0.1</td>\n",
       "      <td>0.0</td>\n",
       "      <td>NaN</td>\n",
       "      <td>1.4</td>\n",
       "      <td>False</td>\n",
       "    </tr>\n",
       "    <tr>\n",
       "      <th>two</th>\n",
       "      <td>1993.0</td>\n",
       "      <td>miyao</td>\n",
       "      <td>1.7</td>\n",
       "      <td>0.2</td>\n",
       "      <td>1.0</td>\n",
       "      <td>-1.2</td>\n",
       "      <td>1.5</td>\n",
       "      <td>False</td>\n",
       "    </tr>\n",
       "    <tr>\n",
       "      <th>three</th>\n",
       "      <td>1994.0</td>\n",
       "      <td>hyeonho</td>\n",
       "      <td>3.6</td>\n",
       "      <td>0.3</td>\n",
       "      <td>2.0</td>\n",
       "      <td>NaN</td>\n",
       "      <td>3.3</td>\n",
       "      <td>True</td>\n",
       "    </tr>\n",
       "    <tr>\n",
       "      <th>four</th>\n",
       "      <td>1992.0</td>\n",
       "      <td>gaho</td>\n",
       "      <td>2.4</td>\n",
       "      <td>0.4</td>\n",
       "      <td>3.0</td>\n",
       "      <td>-1.5</td>\n",
       "      <td>2.0</td>\n",
       "      <td>False</td>\n",
       "    </tr>\n",
       "    <tr>\n",
       "      <th>five</th>\n",
       "      <td>1993.0</td>\n",
       "      <td>junho</td>\n",
       "      <td>2.9</td>\n",
       "      <td>0.5</td>\n",
       "      <td>4.0</td>\n",
       "      <td>-1.7</td>\n",
       "      <td>2.4</td>\n",
       "      <td>True</td>\n",
       "    </tr>\n",
       "    <tr>\n",
       "      <th>six</th>\n",
       "      <td>2013.0</td>\n",
       "      <td>mino</td>\n",
       "      <td>4.0</td>\n",
       "      <td>0.1</td>\n",
       "      <td>5.0</td>\n",
       "      <td>0.8</td>\n",
       "      <td>NaN</td>\n",
       "      <td>NaN</td>\n",
       "    </tr>\n",
       "  </tbody>\n",
       "</table>\n",
       "</div>"
      ],
      "text/plain": [
       "info     year    names  points  penalty  zeros  debt  net_points hight_points\n",
       "Order                                                                        \n",
       "one    1994.0    kilho     1.5      0.1    0.0   NaN         1.4        False\n",
       "two    1993.0    miyao     1.7      0.2    1.0  -1.2         1.5        False\n",
       "three  1994.0  hyeonho     3.6      0.3    2.0   NaN         3.3         True\n",
       "four   1992.0     gaho     2.4      0.4    3.0  -1.5         2.0        False\n",
       "five   1993.0    junho     2.9      0.5    4.0  -1.7         2.4         True\n",
       "six    2013.0     mino     4.0      0.1    5.0   0.8         NaN          NaN"
      ]
     },
     "execution_count": 38,
     "metadata": {},
     "output_type": "execute_result"
    }
   ],
   "source": [
    "df3#위에 있던 net_points와 hight_points에 대한 로직을 실행 시켜주어야 정상 작동."
   ]
  },
  {
   "cell_type": "code",
   "execution_count": 39,
   "id": "ef417ae0",
   "metadata": {},
   "outputs": [
    {
     "data": {
      "text/plain": [
       "info\n",
       "year            1992.0\n",
       "names             gaho\n",
       "points             2.4\n",
       "penalty            0.4\n",
       "zeros              3.0\n",
       "debt              -1.5\n",
       "net_points         2.0\n",
       "hight_points     False\n",
       "Name: four, dtype: object"
      ]
     },
     "execution_count": 39,
     "metadata": {},
     "output_type": "execute_result"
    }
   ],
   "source": [
    "#.iloc 사용:index번호를 사용한다.\n",
    "df3.iloc[3]#3번째 행을 가져온다."
   ]
  },
  {
   "cell_type": "code",
   "execution_count": 40,
   "id": "dc8e9b67",
   "metadata": {
    "scrolled": true
   },
   "outputs": [
    {
     "data": {
      "text/html": [
       "<div>\n",
       "<style scoped>\n",
       "    .dataframe tbody tr th:only-of-type {\n",
       "        vertical-align: middle;\n",
       "    }\n",
       "\n",
       "    .dataframe tbody tr th {\n",
       "        vertical-align: top;\n",
       "    }\n",
       "\n",
       "    .dataframe thead th {\n",
       "        text-align: right;\n",
       "    }\n",
       "</style>\n",
       "<table border=\"1\" class=\"dataframe\">\n",
       "  <thead>\n",
       "    <tr style=\"text-align: right;\">\n",
       "      <th>info</th>\n",
       "      <th>year</th>\n",
       "      <th>names</th>\n",
       "      <th>points</th>\n",
       "      <th>penalty</th>\n",
       "      <th>zeros</th>\n",
       "    </tr>\n",
       "    <tr>\n",
       "      <th>Order</th>\n",
       "      <th></th>\n",
       "      <th></th>\n",
       "      <th></th>\n",
       "      <th></th>\n",
       "      <th></th>\n",
       "    </tr>\n",
       "  </thead>\n",
       "  <tbody>\n",
       "    <tr>\n",
       "      <th>four</th>\n",
       "      <td>1992.0</td>\n",
       "      <td>gaho</td>\n",
       "      <td>2.4</td>\n",
       "      <td>0.4</td>\n",
       "      <td>3.0</td>\n",
       "    </tr>\n",
       "    <tr>\n",
       "      <th>five</th>\n",
       "      <td>1993.0</td>\n",
       "      <td>junho</td>\n",
       "      <td>2.9</td>\n",
       "      <td>0.5</td>\n",
       "      <td>4.0</td>\n",
       "    </tr>\n",
       "  </tbody>\n",
       "</table>\n",
       "</div>"
      ],
      "text/plain": [
       "info     year  names  points  penalty  zeros\n",
       "Order                                       \n",
       "four   1992.0   gaho     2.4      0.4    3.0\n",
       "five   1993.0  junho     2.9      0.5    4.0"
      ]
     },
     "execution_count": 40,
     "metadata": {},
     "output_type": "execute_result"
    }
   ],
   "source": [
    "#3번째\\~5번째 행에서 0번째~5번째 열을 가져온다\n",
    "df3.iloc[3:5,0:5]"
   ]
  },
  {
   "cell_type": "code",
   "execution_count": 41,
   "id": "df9a04e2",
   "metadata": {},
   "outputs": [
    {
     "data": {
      "text/html": [
       "<div>\n",
       "<style scoped>\n",
       "    .dataframe tbody tr th:only-of-type {\n",
       "        vertical-align: middle;\n",
       "    }\n",
       "\n",
       "    .dataframe tbody tr th {\n",
       "        vertical-align: top;\n",
       "    }\n",
       "\n",
       "    .dataframe thead th {\n",
       "        text-align: right;\n",
       "    }\n",
       "</style>\n",
       "<table border=\"1\" class=\"dataframe\">\n",
       "  <thead>\n",
       "    <tr style=\"text-align: right;\">\n",
       "      <th>info</th>\n",
       "      <th>names</th>\n",
       "      <th>points</th>\n",
       "    </tr>\n",
       "    <tr>\n",
       "      <th>Order</th>\n",
       "      <th></th>\n",
       "      <th></th>\n",
       "    </tr>\n",
       "  </thead>\n",
       "  <tbody>\n",
       "    <tr>\n",
       "      <th>one</th>\n",
       "      <td>kilho</td>\n",
       "      <td>1.5</td>\n",
       "    </tr>\n",
       "    <tr>\n",
       "      <th>two</th>\n",
       "      <td>miyao</td>\n",
       "      <td>1.7</td>\n",
       "    </tr>\n",
       "    <tr>\n",
       "      <th>four</th>\n",
       "      <td>gaho</td>\n",
       "      <td>2.4</td>\n",
       "    </tr>\n",
       "  </tbody>\n",
       "</table>\n",
       "</div>"
      ],
      "text/plain": [
       "info   names  points\n",
       "Order               \n",
       "one    kilho     1.5\n",
       "two    miyao     1.7\n",
       "four    gaho     2.4"
      ]
     },
     "execution_count": 41,
     "metadata": {},
     "output_type": "execute_result"
    }
   ],
   "source": [
    "##0번째 1번째 3번째 행에서 1번째 2번째 열을 가져온다\n",
    "df3.iloc[[0,1,3],[1,2]]"
   ]
  },
  {
   "cell_type": "code",
   "execution_count": 42,
   "id": "1116f149",
   "metadata": {},
   "outputs": [
    {
     "data": {
      "text/html": [
       "<div>\n",
       "<style scoped>\n",
       "    .dataframe tbody tr th:only-of-type {\n",
       "        vertical-align: middle;\n",
       "    }\n",
       "\n",
       "    .dataframe tbody tr th {\n",
       "        vertical-align: top;\n",
       "    }\n",
       "\n",
       "    .dataframe thead th {\n",
       "        text-align: right;\n",
       "    }\n",
       "</style>\n",
       "<table border=\"1\" class=\"dataframe\">\n",
       "  <thead>\n",
       "    <tr style=\"text-align: right;\">\n",
       "      <th>info</th>\n",
       "      <th>names</th>\n",
       "      <th>penalty</th>\n",
       "      <th>debt</th>\n",
       "    </tr>\n",
       "    <tr>\n",
       "      <th>Order</th>\n",
       "      <th></th>\n",
       "      <th></th>\n",
       "      <th></th>\n",
       "    </tr>\n",
       "  </thead>\n",
       "  <tbody>\n",
       "    <tr>\n",
       "      <th>three</th>\n",
       "      <td>hyeonho</td>\n",
       "      <td>0.3</td>\n",
       "      <td>NaN</td>\n",
       "    </tr>\n",
       "    <tr>\n",
       "      <th>five</th>\n",
       "      <td>junho</td>\n",
       "      <td>0.5</td>\n",
       "      <td>-1.7</td>\n",
       "    </tr>\n",
       "    <tr>\n",
       "      <th>six</th>\n",
       "      <td>mino</td>\n",
       "      <td>0.1</td>\n",
       "      <td>0.8</td>\n",
       "    </tr>\n",
       "  </tbody>\n",
       "</table>\n",
       "</div>"
      ],
      "text/plain": [
       "info     names  penalty  debt\n",
       "Order                        \n",
       "three  hyeonho      0.3   NaN\n",
       "five     junho      0.5  -1.7\n",
       "six       mino      0.1   0.8"
      ]
     },
     "execution_count": 42,
     "metadata": {},
     "output_type": "execute_result"
    }
   ],
   "source": [
    "df3.iloc[[2,4,5],[1,3,5]]"
   ]
  },
  {
   "cell_type": "code",
   "execution_count": 43,
   "id": "9ecd0792",
   "metadata": {},
   "outputs": [
    {
     "data": {
      "text/plain": [
       "'miyao'"
      ]
     },
     "execution_count": 43,
     "metadata": {},
     "output_type": "execute_result"
    }
   ],
   "source": [
    "#1행 1열을 가져온다 (배열은 0번째부터이므로 0행 0열이 첫번째)\n",
    "df3.iloc[1,1]"
   ]
  },
  {
   "cell_type": "markdown",
   "id": "e3f2ab36",
   "metadata": {},
   "source": [
    "### DataFrame에서의 boolean indexing"
   ]
  },
  {
   "cell_type": "code",
   "execution_count": 44,
   "id": "68f7604f",
   "metadata": {},
   "outputs": [
    {
     "data": {
      "text/html": [
       "<div>\n",
       "<style scoped>\n",
       "    .dataframe tbody tr th:only-of-type {\n",
       "        vertical-align: middle;\n",
       "    }\n",
       "\n",
       "    .dataframe tbody tr th {\n",
       "        vertical-align: top;\n",
       "    }\n",
       "\n",
       "    .dataframe thead th {\n",
       "        text-align: right;\n",
       "    }\n",
       "</style>\n",
       "<table border=\"1\" class=\"dataframe\">\n",
       "  <thead>\n",
       "    <tr style=\"text-align: right;\">\n",
       "      <th>info</th>\n",
       "      <th>year</th>\n",
       "      <th>names</th>\n",
       "      <th>points</th>\n",
       "      <th>penalty</th>\n",
       "      <th>zeros</th>\n",
       "      <th>debt</th>\n",
       "      <th>net_points</th>\n",
       "      <th>hight_points</th>\n",
       "    </tr>\n",
       "    <tr>\n",
       "      <th>Order</th>\n",
       "      <th></th>\n",
       "      <th></th>\n",
       "      <th></th>\n",
       "      <th></th>\n",
       "      <th></th>\n",
       "      <th></th>\n",
       "      <th></th>\n",
       "      <th></th>\n",
       "    </tr>\n",
       "  </thead>\n",
       "  <tbody>\n",
       "    <tr>\n",
       "      <th>one</th>\n",
       "      <td>1994.0</td>\n",
       "      <td>kilho</td>\n",
       "      <td>1.5</td>\n",
       "      <td>0.1</td>\n",
       "      <td>0.0</td>\n",
       "      <td>NaN</td>\n",
       "      <td>1.4</td>\n",
       "      <td>False</td>\n",
       "    </tr>\n",
       "    <tr>\n",
       "      <th>two</th>\n",
       "      <td>1993.0</td>\n",
       "      <td>miyao</td>\n",
       "      <td>1.7</td>\n",
       "      <td>0.2</td>\n",
       "      <td>1.0</td>\n",
       "      <td>-1.2</td>\n",
       "      <td>1.5</td>\n",
       "      <td>False</td>\n",
       "    </tr>\n",
       "    <tr>\n",
       "      <th>three</th>\n",
       "      <td>1994.0</td>\n",
       "      <td>hyeonho</td>\n",
       "      <td>3.6</td>\n",
       "      <td>0.3</td>\n",
       "      <td>2.0</td>\n",
       "      <td>NaN</td>\n",
       "      <td>3.3</td>\n",
       "      <td>True</td>\n",
       "    </tr>\n",
       "    <tr>\n",
       "      <th>four</th>\n",
       "      <td>1992.0</td>\n",
       "      <td>gaho</td>\n",
       "      <td>2.4</td>\n",
       "      <td>0.4</td>\n",
       "      <td>3.0</td>\n",
       "      <td>-1.5</td>\n",
       "      <td>2.0</td>\n",
       "      <td>False</td>\n",
       "    </tr>\n",
       "    <tr>\n",
       "      <th>five</th>\n",
       "      <td>1993.0</td>\n",
       "      <td>junho</td>\n",
       "      <td>2.9</td>\n",
       "      <td>0.5</td>\n",
       "      <td>4.0</td>\n",
       "      <td>-1.7</td>\n",
       "      <td>2.4</td>\n",
       "      <td>True</td>\n",
       "    </tr>\n",
       "    <tr>\n",
       "      <th>six</th>\n",
       "      <td>2013.0</td>\n",
       "      <td>mino</td>\n",
       "      <td>4.0</td>\n",
       "      <td>0.1</td>\n",
       "      <td>5.0</td>\n",
       "      <td>0.8</td>\n",
       "      <td>NaN</td>\n",
       "      <td>NaN</td>\n",
       "    </tr>\n",
       "  </tbody>\n",
       "</table>\n",
       "</div>"
      ],
      "text/plain": [
       "info     year    names  points  penalty  zeros  debt  net_points hight_points\n",
       "Order                                                                        \n",
       "one    1994.0    kilho     1.5      0.1    0.0   NaN         1.4        False\n",
       "two    1993.0    miyao     1.7      0.2    1.0  -1.2         1.5        False\n",
       "three  1994.0  hyeonho     3.6      0.3    2.0   NaN         3.3         True\n",
       "four   1992.0     gaho     2.4      0.4    3.0  -1.5         2.0        False\n",
       "five   1993.0    junho     2.9      0.5    4.0  -1.7         2.4         True\n",
       "six    2013.0     mino     4.0      0.1    5.0   0.8         NaN          NaN"
      ]
     },
     "execution_count": 44,
     "metadata": {},
     "output_type": "execute_result"
    }
   ],
   "source": [
    "df3"
   ]
  },
  {
   "cell_type": "code",
   "execution_count": 45,
   "id": "16197256",
   "metadata": {},
   "outputs": [
    {
     "data": {
      "text/plain": [
       "Order\n",
       "one      False\n",
       "two      False\n",
       "three     True\n",
       "four     False\n",
       "five      True\n",
       "six      False\n",
       "Name: net_points, dtype: bool"
      ]
     },
     "execution_count": 45,
     "metadata": {},
     "output_type": "execute_result"
    }
   ],
   "source": [
    "#year가 1993보다 큰 boolean data\n",
    "df3['net_points'] > 2"
   ]
  },
  {
   "cell_type": "code",
   "execution_count": 46,
   "id": "8b37a78c",
   "metadata": {},
   "outputs": [
    {
     "data": {
      "text/plain": [
       "Order\n",
       "one       True\n",
       "two      False\n",
       "three     True\n",
       "four     False\n",
       "five     False\n",
       "six       True\n",
       "Name: year, dtype: bool"
      ]
     },
     "execution_count": 46,
     "metadata": {},
     "output_type": "execute_result"
    }
   ],
   "source": [
    "df3['year']>1993"
   ]
  },
  {
   "cell_type": "code",
   "execution_count": 47,
   "id": "95b30dba",
   "metadata": {},
   "outputs": [
    {
     "data": {
      "text/html": [
       "<div>\n",
       "<style scoped>\n",
       "    .dataframe tbody tr th:only-of-type {\n",
       "        vertical-align: middle;\n",
       "    }\n",
       "\n",
       "    .dataframe tbody tr th {\n",
       "        vertical-align: top;\n",
       "    }\n",
       "\n",
       "    .dataframe thead th {\n",
       "        text-align: right;\n",
       "    }\n",
       "</style>\n",
       "<table border=\"1\" class=\"dataframe\">\n",
       "  <thead>\n",
       "    <tr style=\"text-align: right;\">\n",
       "      <th>info</th>\n",
       "      <th>year</th>\n",
       "      <th>names</th>\n",
       "      <th>points</th>\n",
       "      <th>penalty</th>\n",
       "      <th>zeros</th>\n",
       "      <th>debt</th>\n",
       "      <th>net_points</th>\n",
       "      <th>hight_points</th>\n",
       "    </tr>\n",
       "    <tr>\n",
       "      <th>Order</th>\n",
       "      <th></th>\n",
       "      <th></th>\n",
       "      <th></th>\n",
       "      <th></th>\n",
       "      <th></th>\n",
       "      <th></th>\n",
       "      <th></th>\n",
       "      <th></th>\n",
       "    </tr>\n",
       "  </thead>\n",
       "  <tbody>\n",
       "    <tr>\n",
       "      <th>three</th>\n",
       "      <td>1994.0</td>\n",
       "      <td>hyeonho</td>\n",
       "      <td>3.6</td>\n",
       "      <td>0.3</td>\n",
       "      <td>2.0</td>\n",
       "      <td>NaN</td>\n",
       "      <td>3.3</td>\n",
       "      <td>True</td>\n",
       "    </tr>\n",
       "    <tr>\n",
       "      <th>five</th>\n",
       "      <td>1993.0</td>\n",
       "      <td>junho</td>\n",
       "      <td>2.9</td>\n",
       "      <td>0.5</td>\n",
       "      <td>4.0</td>\n",
       "      <td>-1.7</td>\n",
       "      <td>2.4</td>\n",
       "      <td>True</td>\n",
       "    </tr>\n",
       "  </tbody>\n",
       "</table>\n",
       "</div>"
      ],
      "text/plain": [
       "info     year    names  points  penalty  zeros  debt  net_points hight_points\n",
       "Order                                                                        \n",
       "three  1994.0  hyeonho     3.6      0.3    2.0   NaN         3.3         True\n",
       "five   1993.0    junho     2.9      0.5    4.0  -1.7         2.4         True"
      ]
     },
     "execution_count": 47,
     "metadata": {},
     "output_type": "execute_result"
    }
   ],
   "source": [
    "df3.loc[df3['net_points']>2,:]"
   ]
  },
  {
   "cell_type": "code",
   "execution_count": 48,
   "id": "18ea5405",
   "metadata": {},
   "outputs": [
    {
     "data": {
      "text/html": [
       "<div>\n",
       "<style scoped>\n",
       "    .dataframe tbody tr th:only-of-type {\n",
       "        vertical-align: middle;\n",
       "    }\n",
       "\n",
       "    .dataframe tbody tr th {\n",
       "        vertical-align: top;\n",
       "    }\n",
       "\n",
       "    .dataframe thead th {\n",
       "        text-align: right;\n",
       "    }\n",
       "</style>\n",
       "<table border=\"1\" class=\"dataframe\">\n",
       "  <thead>\n",
       "    <tr style=\"text-align: right;\">\n",
       "      <th>info</th>\n",
       "      <th>year</th>\n",
       "      <th>names</th>\n",
       "      <th>points</th>\n",
       "      <th>penalty</th>\n",
       "      <th>zeros</th>\n",
       "      <th>debt</th>\n",
       "      <th>net_points</th>\n",
       "      <th>hight_points</th>\n",
       "    </tr>\n",
       "    <tr>\n",
       "      <th>Order</th>\n",
       "      <th></th>\n",
       "      <th></th>\n",
       "      <th></th>\n",
       "      <th></th>\n",
       "      <th></th>\n",
       "      <th></th>\n",
       "      <th></th>\n",
       "      <th></th>\n",
       "    </tr>\n",
       "  </thead>\n",
       "  <tbody>\n",
       "    <tr>\n",
       "      <th>one</th>\n",
       "      <td>1994.0</td>\n",
       "      <td>kilho</td>\n",
       "      <td>1.5</td>\n",
       "      <td>0.1</td>\n",
       "      <td>0.0</td>\n",
       "      <td>NaN</td>\n",
       "      <td>1.4</td>\n",
       "      <td>False</td>\n",
       "    </tr>\n",
       "    <tr>\n",
       "      <th>three</th>\n",
       "      <td>1994.0</td>\n",
       "      <td>hyeonho</td>\n",
       "      <td>3.6</td>\n",
       "      <td>0.3</td>\n",
       "      <td>2.0</td>\n",
       "      <td>NaN</td>\n",
       "      <td>3.3</td>\n",
       "      <td>True</td>\n",
       "    </tr>\n",
       "    <tr>\n",
       "      <th>six</th>\n",
       "      <td>2013.0</td>\n",
       "      <td>mino</td>\n",
       "      <td>4.0</td>\n",
       "      <td>0.1</td>\n",
       "      <td>5.0</td>\n",
       "      <td>0.8</td>\n",
       "      <td>NaN</td>\n",
       "      <td>NaN</td>\n",
       "    </tr>\n",
       "  </tbody>\n",
       "</table>\n",
       "</div>"
      ],
      "text/plain": [
       "info     year    names  points  penalty  zeros  debt  net_points hight_points\n",
       "Order                                                                        \n",
       "one    1994.0    kilho     1.5      0.1    0.0   NaN         1.4        False\n",
       "three  1994.0  hyeonho     3.6      0.3    2.0   NaN         3.3         True\n",
       "six    2013.0     mino     4.0      0.1    5.0   0.8         NaN          NaN"
      ]
     },
     "execution_count": 48,
     "metadata": {},
     "output_type": "execute_result"
    }
   ],
   "source": [
    "df3.loc[df3['year']>1993,:]"
   ]
  },
  {
   "cell_type": "code",
   "execution_count": 49,
   "id": "23f06142",
   "metadata": {},
   "outputs": [
    {
     "data": {
      "text/html": [
       "<div>\n",
       "<style scoped>\n",
       "    .dataframe tbody tr th:only-of-type {\n",
       "        vertical-align: middle;\n",
       "    }\n",
       "\n",
       "    .dataframe tbody tr th {\n",
       "        vertical-align: top;\n",
       "    }\n",
       "\n",
       "    .dataframe thead th {\n",
       "        text-align: right;\n",
       "    }\n",
       "</style>\n",
       "<table border=\"1\" class=\"dataframe\">\n",
       "  <thead>\n",
       "    <tr style=\"text-align: right;\">\n",
       "      <th>info</th>\n",
       "      <th>names</th>\n",
       "      <th>points</th>\n",
       "      <th>penalty</th>\n",
       "    </tr>\n",
       "    <tr>\n",
       "      <th>Order</th>\n",
       "      <th></th>\n",
       "      <th></th>\n",
       "      <th></th>\n",
       "    </tr>\n",
       "  </thead>\n",
       "  <tbody>\n",
       "    <tr>\n",
       "      <th>six</th>\n",
       "      <td>mino</td>\n",
       "      <td>4.0</td>\n",
       "      <td>0.1</td>\n",
       "    </tr>\n",
       "  </tbody>\n",
       "</table>\n",
       "</div>"
      ],
      "text/plain": [
       "info  names  points  penalty\n",
       "Order                       \n",
       "six    mino     4.0      0.1"
      ]
     },
     "execution_count": 49,
     "metadata": {},
     "output_type": "execute_result"
    }
   ],
   "source": [
    "df3.loc[df3['names']=='mino',['names','points','penalty']]"
   ]
  },
  {
   "cell_type": "code",
   "execution_count": 50,
   "id": "7b19cb25",
   "metadata": {},
   "outputs": [
    {
     "data": {
      "text/html": [
       "<div>\n",
       "<style scoped>\n",
       "    .dataframe tbody tr th:only-of-type {\n",
       "        vertical-align: middle;\n",
       "    }\n",
       "\n",
       "    .dataframe tbody tr th {\n",
       "        vertical-align: top;\n",
       "    }\n",
       "\n",
       "    .dataframe thead th {\n",
       "        text-align: right;\n",
       "    }\n",
       "</style>\n",
       "<table border=\"1\" class=\"dataframe\">\n",
       "  <thead>\n",
       "    <tr style=\"text-align: right;\">\n",
       "      <th>info</th>\n",
       "      <th>year</th>\n",
       "      <th>names</th>\n",
       "      <th>points</th>\n",
       "      <th>penalty</th>\n",
       "      <th>zeros</th>\n",
       "      <th>debt</th>\n",
       "      <th>net_points</th>\n",
       "      <th>hight_points</th>\n",
       "    </tr>\n",
       "    <tr>\n",
       "      <th>Order</th>\n",
       "      <th></th>\n",
       "      <th></th>\n",
       "      <th></th>\n",
       "      <th></th>\n",
       "      <th></th>\n",
       "      <th></th>\n",
       "      <th></th>\n",
       "      <th></th>\n",
       "    </tr>\n",
       "  </thead>\n",
       "  <tbody>\n",
       "    <tr>\n",
       "      <th>three</th>\n",
       "      <td>1994.0</td>\n",
       "      <td>hyeonho</td>\n",
       "      <td>3.6</td>\n",
       "      <td>0.3</td>\n",
       "      <td>2.0</td>\n",
       "      <td>NaN</td>\n",
       "      <td>3.3</td>\n",
       "      <td>True</td>\n",
       "    </tr>\n",
       "    <tr>\n",
       "      <th>four</th>\n",
       "      <td>1992.0</td>\n",
       "      <td>gaho</td>\n",
       "      <td>2.4</td>\n",
       "      <td>0.4</td>\n",
       "      <td>3.0</td>\n",
       "      <td>-1.5</td>\n",
       "      <td>2.0</td>\n",
       "      <td>False</td>\n",
       "    </tr>\n",
       "    <tr>\n",
       "      <th>five</th>\n",
       "      <td>1993.0</td>\n",
       "      <td>junho</td>\n",
       "      <td>2.9</td>\n",
       "      <td>0.5</td>\n",
       "      <td>4.0</td>\n",
       "      <td>-1.7</td>\n",
       "      <td>2.4</td>\n",
       "      <td>True</td>\n",
       "    </tr>\n",
       "  </tbody>\n",
       "</table>\n",
       "</div>"
      ],
      "text/plain": [
       "info     year    names  points  penalty  zeros  debt  net_points hight_points\n",
       "Order                                                                        \n",
       "three  1994.0  hyeonho     3.6      0.3    2.0   NaN         3.3         True\n",
       "four   1992.0     gaho     2.4      0.4    3.0  -1.5         2.0        False\n",
       "five   1993.0    junho     2.9      0.5    4.0  -1.7         2.4         True"
      ]
     },
     "execution_count": 50,
     "metadata": {},
     "output_type": "execute_result"
    }
   ],
   "source": [
    "#numpy에서와 같이 논리연산을 응용할 수 잇다.\n",
    "df3.loc[(df3['points']>2)&(df3['points']<4.0),:]"
   ]
  },
  {
   "cell_type": "code",
   "execution_count": 51,
   "id": "5c12b9ec",
   "metadata": {},
   "outputs": [
    {
     "data": {
      "text/html": [
       "<div>\n",
       "<style scoped>\n",
       "    .dataframe tbody tr th:only-of-type {\n",
       "        vertical-align: middle;\n",
       "    }\n",
       "\n",
       "    .dataframe tbody tr th {\n",
       "        vertical-align: top;\n",
       "    }\n",
       "\n",
       "    .dataframe thead th {\n",
       "        text-align: right;\n",
       "    }\n",
       "</style>\n",
       "<table border=\"1\" class=\"dataframe\">\n",
       "  <thead>\n",
       "    <tr style=\"text-align: right;\">\n",
       "      <th>info</th>\n",
       "      <th>year</th>\n",
       "      <th>names</th>\n",
       "      <th>points</th>\n",
       "      <th>penalty</th>\n",
       "      <th>zeros</th>\n",
       "      <th>debt</th>\n",
       "      <th>net_points</th>\n",
       "      <th>hight_points</th>\n",
       "    </tr>\n",
       "    <tr>\n",
       "      <th>Order</th>\n",
       "      <th></th>\n",
       "      <th></th>\n",
       "      <th></th>\n",
       "      <th></th>\n",
       "      <th></th>\n",
       "      <th></th>\n",
       "      <th></th>\n",
       "      <th></th>\n",
       "    </tr>\n",
       "  </thead>\n",
       "  <tbody>\n",
       "    <tr>\n",
       "      <th>one</th>\n",
       "      <td>1994.0</td>\n",
       "      <td>kilho</td>\n",
       "      <td>1.5</td>\n",
       "      <td>0.1</td>\n",
       "      <td>0.0</td>\n",
       "      <td>NaN</td>\n",
       "      <td>1.4</td>\n",
       "      <td>False</td>\n",
       "    </tr>\n",
       "    <tr>\n",
       "      <th>two</th>\n",
       "      <td>1993.0</td>\n",
       "      <td>miyao</td>\n",
       "      <td>1.7</td>\n",
       "      <td>0.2</td>\n",
       "      <td>1.0</td>\n",
       "      <td>-1.2</td>\n",
       "      <td>1.5</td>\n",
       "      <td>False</td>\n",
       "    </tr>\n",
       "    <tr>\n",
       "      <th>three</th>\n",
       "      <td>1994.0</td>\n",
       "      <td>hyeonho</td>\n",
       "      <td>3.6</td>\n",
       "      <td>0.0</td>\n",
       "      <td>2.0</td>\n",
       "      <td>NaN</td>\n",
       "      <td>3.3</td>\n",
       "      <td>True</td>\n",
       "    </tr>\n",
       "    <tr>\n",
       "      <th>four</th>\n",
       "      <td>1992.0</td>\n",
       "      <td>gaho</td>\n",
       "      <td>2.4</td>\n",
       "      <td>0.4</td>\n",
       "      <td>3.0</td>\n",
       "      <td>-1.5</td>\n",
       "      <td>2.0</td>\n",
       "      <td>False</td>\n",
       "    </tr>\n",
       "    <tr>\n",
       "      <th>five</th>\n",
       "      <td>1993.0</td>\n",
       "      <td>junho</td>\n",
       "      <td>2.9</td>\n",
       "      <td>0.5</td>\n",
       "      <td>4.0</td>\n",
       "      <td>-1.7</td>\n",
       "      <td>2.4</td>\n",
       "      <td>True</td>\n",
       "    </tr>\n",
       "    <tr>\n",
       "      <th>six</th>\n",
       "      <td>2013.0</td>\n",
       "      <td>mino</td>\n",
       "      <td>4.0</td>\n",
       "      <td>0.0</td>\n",
       "      <td>5.0</td>\n",
       "      <td>0.8</td>\n",
       "      <td>NaN</td>\n",
       "      <td>NaN</td>\n",
       "    </tr>\n",
       "  </tbody>\n",
       "</table>\n",
       "</div>"
      ],
      "text/plain": [
       "info     year    names  points  penalty  zeros  debt  net_points hight_points\n",
       "Order                                                                        \n",
       "one    1994.0    kilho     1.5      0.1    0.0   NaN         1.4        False\n",
       "two    1993.0    miyao     1.7      0.2    1.0  -1.2         1.5        False\n",
       "three  1994.0  hyeonho     3.6      0.0    2.0   NaN         3.3         True\n",
       "four   1992.0     gaho     2.4      0.4    3.0  -1.5         2.0        False\n",
       "five   1993.0    junho     2.9      0.5    4.0  -1.7         2.4         True\n",
       "six    2013.0     mino     4.0      0.0    5.0   0.8         NaN          NaN"
      ]
     },
     "execution_count": 51,
     "metadata": {},
     "output_type": "execute_result"
    }
   ],
   "source": [
    "#새로운 값을 대입할 수도 있다.\n",
    "df3.loc[df3['points']>3,'penalty']=0\n",
    "df3"
   ]
  },
  {
   "cell_type": "markdown",
   "id": "e0f25e8c",
   "metadata": {},
   "source": [
    "### Data"
   ]
  },
  {
   "cell_type": "code",
   "execution_count": 52,
   "id": "19f81aca",
   "metadata": {},
   "outputs": [
    {
     "data": {
      "text/html": [
       "<div>\n",
       "<style scoped>\n",
       "    .dataframe tbody tr th:only-of-type {\n",
       "        vertical-align: middle;\n",
       "    }\n",
       "\n",
       "    .dataframe tbody tr th {\n",
       "        vertical-align: top;\n",
       "    }\n",
       "\n",
       "    .dataframe thead th {\n",
       "        text-align: right;\n",
       "    }\n",
       "</style>\n",
       "<table border=\"1\" class=\"dataframe\">\n",
       "  <thead>\n",
       "    <tr style=\"text-align: right;\">\n",
       "      <th></th>\n",
       "      <th>0</th>\n",
       "      <th>1</th>\n",
       "      <th>2</th>\n",
       "      <th>3</th>\n",
       "    </tr>\n",
       "  </thead>\n",
       "  <tbody>\n",
       "    <tr>\n",
       "      <th>0</th>\n",
       "      <td>-0.108346</td>\n",
       "      <td>0.320142</td>\n",
       "      <td>1.079314</td>\n",
       "      <td>0.580064</td>\n",
       "    </tr>\n",
       "    <tr>\n",
       "      <th>1</th>\n",
       "      <td>2.093869</td>\n",
       "      <td>-0.483802</td>\n",
       "      <td>0.889111</td>\n",
       "      <td>-0.386967</td>\n",
       "    </tr>\n",
       "    <tr>\n",
       "      <th>2</th>\n",
       "      <td>0.550184</td>\n",
       "      <td>-0.922827</td>\n",
       "      <td>0.368164</td>\n",
       "      <td>-2.847038</td>\n",
       "    </tr>\n",
       "    <tr>\n",
       "      <th>3</th>\n",
       "      <td>1.173260</td>\n",
       "      <td>-1.220306</td>\n",
       "      <td>-0.253222</td>\n",
       "      <td>0.932102</td>\n",
       "    </tr>\n",
       "    <tr>\n",
       "      <th>4</th>\n",
       "      <td>-0.853160</td>\n",
       "      <td>0.167455</td>\n",
       "      <td>0.542193</td>\n",
       "      <td>0.371943</td>\n",
       "    </tr>\n",
       "    <tr>\n",
       "      <th>5</th>\n",
       "      <td>-0.351024</td>\n",
       "      <td>-1.343317</td>\n",
       "      <td>-1.445147</td>\n",
       "      <td>0.820281</td>\n",
       "    </tr>\n",
       "  </tbody>\n",
       "</table>\n",
       "</div>"
      ],
      "text/plain": [
       "          0         1         2         3\n",
       "0 -0.108346  0.320142  1.079314  0.580064\n",
       "1  2.093869 -0.483802  0.889111 -0.386967\n",
       "2  0.550184 -0.922827  0.368164 -2.847038\n",
       "3  1.173260 -1.220306 -0.253222  0.932102\n",
       "4 -0.853160  0.167455  0.542193  0.371943\n",
       "5 -0.351024 -1.343317 -1.445147  0.820281"
      ]
     },
     "execution_count": 52,
     "metadata": {},
     "output_type": "execute_result"
    }
   ],
   "source": [
    "#DataFrame을 만들때 index, column을 설정하지 않으면 기본값으로 0부터 시작하는 정수형 숫자로 입력됨\n",
    "df4=pd.DataFrame(np.random.randn(6,4))\n",
    "df4"
   ]
  },
  {
   "cell_type": "code",
   "execution_count": 53,
   "id": "c651f718",
   "metadata": {},
   "outputs": [
    {
     "name": "stdout",
     "output_type": "stream",
     "text": [
      "DatetimeIndex(['2016-07-01', '2016-07-02', '2016-07-03', '2016-07-04',\n",
      "               '2016-07-05', '2016-07-06'],\n",
      "              dtype='datetime64[ns]', freq='D')\n"
     ]
    },
    {
     "data": {
      "text/html": [
       "<div>\n",
       "<style scoped>\n",
       "    .dataframe tbody tr th:only-of-type {\n",
       "        vertical-align: middle;\n",
       "    }\n",
       "\n",
       "    .dataframe tbody tr th {\n",
       "        vertical-align: top;\n",
       "    }\n",
       "\n",
       "    .dataframe thead th {\n",
       "        text-align: right;\n",
       "    }\n",
       "</style>\n",
       "<table border=\"1\" class=\"dataframe\">\n",
       "  <thead>\n",
       "    <tr style=\"text-align: right;\">\n",
       "      <th></th>\n",
       "      <th>A</th>\n",
       "      <th>B</th>\n",
       "      <th>C</th>\n",
       "      <th>D</th>\n",
       "    </tr>\n",
       "  </thead>\n",
       "  <tbody>\n",
       "    <tr>\n",
       "      <th>2016-07-01</th>\n",
       "      <td>-0.108346</td>\n",
       "      <td>0.320142</td>\n",
       "      <td>1.079314</td>\n",
       "      <td>0.580064</td>\n",
       "    </tr>\n",
       "    <tr>\n",
       "      <th>2016-07-02</th>\n",
       "      <td>2.093869</td>\n",
       "      <td>-0.483802</td>\n",
       "      <td>0.889111</td>\n",
       "      <td>-0.386967</td>\n",
       "    </tr>\n",
       "    <tr>\n",
       "      <th>2016-07-03</th>\n",
       "      <td>0.550184</td>\n",
       "      <td>-0.922827</td>\n",
       "      <td>0.368164</td>\n",
       "      <td>-2.847038</td>\n",
       "    </tr>\n",
       "    <tr>\n",
       "      <th>2016-07-04</th>\n",
       "      <td>1.173260</td>\n",
       "      <td>-1.220306</td>\n",
       "      <td>-0.253222</td>\n",
       "      <td>0.932102</td>\n",
       "    </tr>\n",
       "    <tr>\n",
       "      <th>2016-07-05</th>\n",
       "      <td>-0.853160</td>\n",
       "      <td>0.167455</td>\n",
       "      <td>0.542193</td>\n",
       "      <td>0.371943</td>\n",
       "    </tr>\n",
       "    <tr>\n",
       "      <th>2016-07-06</th>\n",
       "      <td>-0.351024</td>\n",
       "      <td>-1.343317</td>\n",
       "      <td>-1.445147</td>\n",
       "      <td>0.820281</td>\n",
       "    </tr>\n",
       "  </tbody>\n",
       "</table>\n",
       "</div>"
      ],
      "text/plain": [
       "                   A         B         C         D\n",
       "2016-07-01 -0.108346  0.320142  1.079314  0.580064\n",
       "2016-07-02  2.093869 -0.483802  0.889111 -0.386967\n",
       "2016-07-03  0.550184 -0.922827  0.368164 -2.847038\n",
       "2016-07-04  1.173260 -1.220306 -0.253222  0.932102\n",
       "2016-07-05 -0.853160  0.167455  0.542193  0.371943\n",
       "2016-07-06 -0.351024 -1.343317 -1.445147  0.820281"
      ]
     },
     "execution_count": 53,
     "metadata": {},
     "output_type": "execute_result"
    }
   ],
   "source": [
    "df4.columns=['A','B','C','D']\n",
    "df4.index=pd.date_range('20160701',periods=6)\n",
    "#pandas함수data_range() : datatime자료형으로 구성된 날짜 시각 등을 표기할수있는 자료형을 만드는 함수.\n",
    "print(df4.index)\n",
    "df4"
   ]
  },
  {
   "cell_type": "code",
   "execution_count": 54,
   "id": "8b7e700b",
   "metadata": {},
   "outputs": [
    {
     "data": {
      "text/html": [
       "<div>\n",
       "<style scoped>\n",
       "    .dataframe tbody tr th:only-of-type {\n",
       "        vertical-align: middle;\n",
       "    }\n",
       "\n",
       "    .dataframe tbody tr th {\n",
       "        vertical-align: top;\n",
       "    }\n",
       "\n",
       "    .dataframe thead th {\n",
       "        text-align: right;\n",
       "    }\n",
       "</style>\n",
       "<table border=\"1\" class=\"dataframe\">\n",
       "  <thead>\n",
       "    <tr style=\"text-align: right;\">\n",
       "      <th></th>\n",
       "      <th>A</th>\n",
       "      <th>B</th>\n",
       "      <th>C</th>\n",
       "      <th>D</th>\n",
       "      <th>F</th>\n",
       "    </tr>\n",
       "  </thead>\n",
       "  <tbody>\n",
       "    <tr>\n",
       "      <th>2016-07-01</th>\n",
       "      <td>-0.108346</td>\n",
       "      <td>0.320142</td>\n",
       "      <td>1.079314</td>\n",
       "      <td>0.580064</td>\n",
       "      <td>1.0</td>\n",
       "    </tr>\n",
       "    <tr>\n",
       "      <th>2016-07-02</th>\n",
       "      <td>2.093869</td>\n",
       "      <td>-0.483802</td>\n",
       "      <td>0.889111</td>\n",
       "      <td>-0.386967</td>\n",
       "      <td>NaN</td>\n",
       "    </tr>\n",
       "    <tr>\n",
       "      <th>2016-07-03</th>\n",
       "      <td>0.550184</td>\n",
       "      <td>-0.922827</td>\n",
       "      <td>0.368164</td>\n",
       "      <td>-2.847038</td>\n",
       "      <td>3.5</td>\n",
       "    </tr>\n",
       "    <tr>\n",
       "      <th>2016-07-04</th>\n",
       "      <td>1.173260</td>\n",
       "      <td>-1.220306</td>\n",
       "      <td>-0.253222</td>\n",
       "      <td>0.932102</td>\n",
       "      <td>6.1</td>\n",
       "    </tr>\n",
       "    <tr>\n",
       "      <th>2016-07-05</th>\n",
       "      <td>-0.853160</td>\n",
       "      <td>0.167455</td>\n",
       "      <td>0.542193</td>\n",
       "      <td>0.371943</td>\n",
       "      <td>NaN</td>\n",
       "    </tr>\n",
       "    <tr>\n",
       "      <th>2016-07-06</th>\n",
       "      <td>-0.351024</td>\n",
       "      <td>-1.343317</td>\n",
       "      <td>-1.445147</td>\n",
       "      <td>0.820281</td>\n",
       "      <td>7.0</td>\n",
       "    </tr>\n",
       "  </tbody>\n",
       "</table>\n",
       "</div>"
      ],
      "text/plain": [
       "                   A         B         C         D    F\n",
       "2016-07-01 -0.108346  0.320142  1.079314  0.580064  1.0\n",
       "2016-07-02  2.093869 -0.483802  0.889111 -0.386967  NaN\n",
       "2016-07-03  0.550184 -0.922827  0.368164 -2.847038  3.5\n",
       "2016-07-04  1.173260 -1.220306 -0.253222  0.932102  6.1\n",
       "2016-07-05 -0.853160  0.167455  0.542193  0.371943  NaN\n",
       "2016-07-06 -0.351024 -1.343317 -1.445147  0.820281  7.0"
      ]
     },
     "execution_count": 54,
     "metadata": {},
     "output_type": "execute_result"
    }
   ],
   "source": [
    "#np.nan은 NaN값을 의미한다.\n",
    "df4['F']=[1.0, np.nan, 3.5, 6.1, np.nan, 7.0]\n",
    "df4"
   ]
  },
  {
   "cell_type": "code",
   "execution_count": 55,
   "id": "3695d553",
   "metadata": {
    "scrolled": true
   },
   "outputs": [
    {
     "data": {
      "text/html": [
       "<div>\n",
       "<style scoped>\n",
       "    .dataframe tbody tr th:only-of-type {\n",
       "        vertical-align: middle;\n",
       "    }\n",
       "\n",
       "    .dataframe tbody tr th {\n",
       "        vertical-align: top;\n",
       "    }\n",
       "\n",
       "    .dataframe thead th {\n",
       "        text-align: right;\n",
       "    }\n",
       "</style>\n",
       "<table border=\"1\" class=\"dataframe\">\n",
       "  <thead>\n",
       "    <tr style=\"text-align: right;\">\n",
       "      <th></th>\n",
       "      <th>A</th>\n",
       "      <th>B</th>\n",
       "      <th>C</th>\n",
       "      <th>D</th>\n",
       "      <th>F</th>\n",
       "    </tr>\n",
       "  </thead>\n",
       "  <tbody>\n",
       "    <tr>\n",
       "      <th>2016-07-01</th>\n",
       "      <td>-0.108346</td>\n",
       "      <td>0.320142</td>\n",
       "      <td>1.079314</td>\n",
       "      <td>0.580064</td>\n",
       "      <td>1.0</td>\n",
       "    </tr>\n",
       "    <tr>\n",
       "      <th>2016-07-02</th>\n",
       "      <td>2.093869</td>\n",
       "      <td>-0.483802</td>\n",
       "      <td>0.889111</td>\n",
       "      <td>-0.386967</td>\n",
       "      <td>NaN</td>\n",
       "    </tr>\n",
       "    <tr>\n",
       "      <th>2016-07-03</th>\n",
       "      <td>0.550184</td>\n",
       "      <td>-0.922827</td>\n",
       "      <td>0.368164</td>\n",
       "      <td>-2.847038</td>\n",
       "      <td>3.5</td>\n",
       "    </tr>\n",
       "    <tr>\n",
       "      <th>2016-07-04</th>\n",
       "      <td>1.173260</td>\n",
       "      <td>-1.220306</td>\n",
       "      <td>-0.253222</td>\n",
       "      <td>0.932102</td>\n",
       "      <td>6.1</td>\n",
       "    </tr>\n",
       "    <tr>\n",
       "      <th>2016-07-05</th>\n",
       "      <td>-0.853160</td>\n",
       "      <td>0.167455</td>\n",
       "      <td>0.542193</td>\n",
       "      <td>0.371943</td>\n",
       "      <td>NaN</td>\n",
       "    </tr>\n",
       "    <tr>\n",
       "      <th>2016-07-06</th>\n",
       "      <td>-0.351024</td>\n",
       "      <td>-1.343317</td>\n",
       "      <td>-1.445147</td>\n",
       "      <td>0.820281</td>\n",
       "      <td>7.0</td>\n",
       "    </tr>\n",
       "  </tbody>\n",
       "</table>\n",
       "</div>"
      ],
      "text/plain": [
       "                   A         B         C         D    F\n",
       "2016-07-01 -0.108346  0.320142  1.079314  0.580064  1.0\n",
       "2016-07-02  2.093869 -0.483802  0.889111 -0.386967  NaN\n",
       "2016-07-03  0.550184 -0.922827  0.368164 -2.847038  3.5\n",
       "2016-07-04  1.173260 -1.220306 -0.253222  0.932102  6.1\n",
       "2016-07-05 -0.853160  0.167455  0.542193  0.371943  NaN\n",
       "2016-07-06 -0.351024 -1.343317 -1.445147  0.820281  7.0"
      ]
     },
     "execution_count": 55,
     "metadata": {},
     "output_type": "execute_result"
    }
   ],
   "source": [
    "#행의 값중 하나라도 nan인 경우 그 행을 없앤다. \n",
    "df5=df4.dropna(how='any')\n",
    "##drop()는 반환해주는거라 기존의 DataFrame은 그대로 남아있다.\n",
    "df4\n",
    "#inplace=True"
   ]
  },
  {
   "cell_type": "code",
   "execution_count": 56,
   "id": "17de4cc5",
   "metadata": {
    "scrolled": false
   },
   "outputs": [
    {
     "data": {
      "text/html": [
       "<div>\n",
       "<style scoped>\n",
       "    .dataframe tbody tr th:only-of-type {\n",
       "        vertical-align: middle;\n",
       "    }\n",
       "\n",
       "    .dataframe tbody tr th {\n",
       "        vertical-align: top;\n",
       "    }\n",
       "\n",
       "    .dataframe thead th {\n",
       "        text-align: right;\n",
       "    }\n",
       "</style>\n",
       "<table border=\"1\" class=\"dataframe\">\n",
       "  <thead>\n",
       "    <tr style=\"text-align: right;\">\n",
       "      <th></th>\n",
       "      <th>A</th>\n",
       "      <th>B</th>\n",
       "      <th>C</th>\n",
       "      <th>D</th>\n",
       "      <th>F</th>\n",
       "    </tr>\n",
       "  </thead>\n",
       "  <tbody>\n",
       "    <tr>\n",
       "      <th>2016-07-01</th>\n",
       "      <td>-0.108346</td>\n",
       "      <td>0.320142</td>\n",
       "      <td>1.079314</td>\n",
       "      <td>0.580064</td>\n",
       "      <td>1.0</td>\n",
       "    </tr>\n",
       "    <tr>\n",
       "      <th>2016-07-03</th>\n",
       "      <td>0.550184</td>\n",
       "      <td>-0.922827</td>\n",
       "      <td>0.368164</td>\n",
       "      <td>-2.847038</td>\n",
       "      <td>3.5</td>\n",
       "    </tr>\n",
       "    <tr>\n",
       "      <th>2016-07-04</th>\n",
       "      <td>1.173260</td>\n",
       "      <td>-1.220306</td>\n",
       "      <td>-0.253222</td>\n",
       "      <td>0.932102</td>\n",
       "      <td>6.1</td>\n",
       "    </tr>\n",
       "    <tr>\n",
       "      <th>2016-07-06</th>\n",
       "      <td>-0.351024</td>\n",
       "      <td>-1.343317</td>\n",
       "      <td>-1.445147</td>\n",
       "      <td>0.820281</td>\n",
       "      <td>7.0</td>\n",
       "    </tr>\n",
       "  </tbody>\n",
       "</table>\n",
       "</div>"
      ],
      "text/plain": [
       "                   A         B         C         D    F\n",
       "2016-07-01 -0.108346  0.320142  1.079314  0.580064  1.0\n",
       "2016-07-03  0.550184 -0.922827  0.368164 -2.847038  3.5\n",
       "2016-07-04  1.173260 -1.220306 -0.253222  0.932102  6.1\n",
       "2016-07-06 -0.351024 -1.343317 -1.445147  0.820281  7.0"
      ]
     },
     "execution_count": 56,
     "metadata": {},
     "output_type": "execute_result"
    }
   ],
   "source": [
    "df5"
   ]
  },
  {
   "cell_type": "markdown",
   "id": "ec1bbad9",
   "metadata": {},
   "source": [
    "#### 주의\n",
    "drop함수는 특정 행 또는 열을 drop하고 난 DataFrame을 반환.\n",
    "\n",
    "즉, 반환을 받지 않으면 기존의 DataFrame은 그대로 이다.\n",
    "\n",
    "아니면, inplace=Ture라는 인자를 추가하여,반환을 받지 않고 기존의 DataFrame이 변경되도록 한다."
   ]
  },
  {
   "cell_type": "code",
   "execution_count": 57,
   "id": "aa2145c3",
   "metadata": {},
   "outputs": [
    {
     "data": {
      "text/html": [
       "<div>\n",
       "<style scoped>\n",
       "    .dataframe tbody tr th:only-of-type {\n",
       "        vertical-align: middle;\n",
       "    }\n",
       "\n",
       "    .dataframe tbody tr th {\n",
       "        vertical-align: top;\n",
       "    }\n",
       "\n",
       "    .dataframe thead th {\n",
       "        text-align: right;\n",
       "    }\n",
       "</style>\n",
       "<table border=\"1\" class=\"dataframe\">\n",
       "  <thead>\n",
       "    <tr style=\"text-align: right;\">\n",
       "      <th></th>\n",
       "      <th>A</th>\n",
       "      <th>B</th>\n",
       "      <th>C</th>\n",
       "      <th>D</th>\n",
       "      <th>F</th>\n",
       "    </tr>\n",
       "  </thead>\n",
       "  <tbody>\n",
       "    <tr>\n",
       "      <th>2016-07-01</th>\n",
       "      <td>-0.108346</td>\n",
       "      <td>0.320142</td>\n",
       "      <td>1.079314</td>\n",
       "      <td>0.580064</td>\n",
       "      <td>1.0</td>\n",
       "    </tr>\n",
       "    <tr>\n",
       "      <th>2016-07-02</th>\n",
       "      <td>2.093869</td>\n",
       "      <td>-0.483802</td>\n",
       "      <td>0.889111</td>\n",
       "      <td>-0.386967</td>\n",
       "      <td>NaN</td>\n",
       "    </tr>\n",
       "    <tr>\n",
       "      <th>2016-07-03</th>\n",
       "      <td>0.550184</td>\n",
       "      <td>-0.922827</td>\n",
       "      <td>0.368164</td>\n",
       "      <td>-2.847038</td>\n",
       "      <td>3.5</td>\n",
       "    </tr>\n",
       "    <tr>\n",
       "      <th>2016-07-04</th>\n",
       "      <td>1.173260</td>\n",
       "      <td>-1.220306</td>\n",
       "      <td>-0.253222</td>\n",
       "      <td>0.932102</td>\n",
       "      <td>6.1</td>\n",
       "    </tr>\n",
       "    <tr>\n",
       "      <th>2016-07-05</th>\n",
       "      <td>-0.853160</td>\n",
       "      <td>0.167455</td>\n",
       "      <td>0.542193</td>\n",
       "      <td>0.371943</td>\n",
       "      <td>NaN</td>\n",
       "    </tr>\n",
       "    <tr>\n",
       "      <th>2016-07-06</th>\n",
       "      <td>-0.351024</td>\n",
       "      <td>-1.343317</td>\n",
       "      <td>-1.445147</td>\n",
       "      <td>0.820281</td>\n",
       "      <td>7.0</td>\n",
       "    </tr>\n",
       "  </tbody>\n",
       "</table>\n",
       "</div>"
      ],
      "text/plain": [
       "                   A         B         C         D    F\n",
       "2016-07-01 -0.108346  0.320142  1.079314  0.580064  1.0\n",
       "2016-07-02  2.093869 -0.483802  0.889111 -0.386967  NaN\n",
       "2016-07-03  0.550184 -0.922827  0.368164 -2.847038  3.5\n",
       "2016-07-04  1.173260 -1.220306 -0.253222  0.932102  6.1\n",
       "2016-07-05 -0.853160  0.167455  0.542193  0.371943  NaN\n",
       "2016-07-06 -0.351024 -1.343317 -1.445147  0.820281  7.0"
      ]
     },
     "execution_count": 57,
     "metadata": {},
     "output_type": "execute_result"
    }
   ],
   "source": [
    "df4 ##NaN이 지워지지 않고 그대로 있는 기존의 df4"
   ]
  },
  {
   "cell_type": "code",
   "execution_count": 58,
   "id": "3adce23a",
   "metadata": {},
   "outputs": [
    {
     "data": {
      "text/html": [
       "<div>\n",
       "<style scoped>\n",
       "    .dataframe tbody tr th:only-of-type {\n",
       "        vertical-align: middle;\n",
       "    }\n",
       "\n",
       "    .dataframe tbody tr th {\n",
       "        vertical-align: top;\n",
       "    }\n",
       "\n",
       "    .dataframe thead th {\n",
       "        text-align: right;\n",
       "    }\n",
       "</style>\n",
       "<table border=\"1\" class=\"dataframe\">\n",
       "  <thead>\n",
       "    <tr style=\"text-align: right;\">\n",
       "      <th></th>\n",
       "      <th>A</th>\n",
       "      <th>B</th>\n",
       "      <th>C</th>\n",
       "      <th>D</th>\n",
       "      <th>F</th>\n",
       "    </tr>\n",
       "  </thead>\n",
       "  <tbody>\n",
       "    <tr>\n",
       "      <th>2016-07-01</th>\n",
       "      <td>-0.108346</td>\n",
       "      <td>0.320142</td>\n",
       "      <td>1.079314</td>\n",
       "      <td>0.580064</td>\n",
       "      <td>1.0</td>\n",
       "    </tr>\n",
       "    <tr>\n",
       "      <th>2016-07-02</th>\n",
       "      <td>2.093869</td>\n",
       "      <td>-0.483802</td>\n",
       "      <td>0.889111</td>\n",
       "      <td>-0.386967</td>\n",
       "      <td>0.5</td>\n",
       "    </tr>\n",
       "    <tr>\n",
       "      <th>2016-07-03</th>\n",
       "      <td>0.550184</td>\n",
       "      <td>-0.922827</td>\n",
       "      <td>0.368164</td>\n",
       "      <td>-2.847038</td>\n",
       "      <td>3.5</td>\n",
       "    </tr>\n",
       "    <tr>\n",
       "      <th>2016-07-04</th>\n",
       "      <td>1.173260</td>\n",
       "      <td>-1.220306</td>\n",
       "      <td>-0.253222</td>\n",
       "      <td>0.932102</td>\n",
       "      <td>6.1</td>\n",
       "    </tr>\n",
       "    <tr>\n",
       "      <th>2016-07-05</th>\n",
       "      <td>-0.853160</td>\n",
       "      <td>0.167455</td>\n",
       "      <td>0.542193</td>\n",
       "      <td>0.371943</td>\n",
       "      <td>0.5</td>\n",
       "    </tr>\n",
       "    <tr>\n",
       "      <th>2016-07-06</th>\n",
       "      <td>-0.351024</td>\n",
       "      <td>-1.343317</td>\n",
       "      <td>-1.445147</td>\n",
       "      <td>0.820281</td>\n",
       "      <td>7.0</td>\n",
       "    </tr>\n",
       "  </tbody>\n",
       "</table>\n",
       "</div>"
      ],
      "text/plain": [
       "                   A         B         C         D    F\n",
       "2016-07-01 -0.108346  0.320142  1.079314  0.580064  1.0\n",
       "2016-07-02  2.093869 -0.483802  0.889111 -0.386967  0.5\n",
       "2016-07-03  0.550184 -0.922827  0.368164 -2.847038  3.5\n",
       "2016-07-04  1.173260 -1.220306 -0.253222  0.932102  6.1\n",
       "2016-07-05 -0.853160  0.167455  0.542193  0.371943  0.5\n",
       "2016-07-06 -0.351024 -1.343317 -1.445147  0.820281  7.0"
      ]
     },
     "execution_count": 58,
     "metadata": {},
     "output_type": "execute_result"
    }
   ],
   "source": [
    "#nan값에 값 넣기\n",
    "df4.fillna(value=0.5) #fillna()함수 역시 기존의 DataFrame은 그대로이다."
   ]
  },
  {
   "cell_type": "code",
   "execution_count": 59,
   "id": "615ea901",
   "metadata": {},
   "outputs": [
    {
     "data": {
      "text/html": [
       "<div>\n",
       "<style scoped>\n",
       "    .dataframe tbody tr th:only-of-type {\n",
       "        vertical-align: middle;\n",
       "    }\n",
       "\n",
       "    .dataframe tbody tr th {\n",
       "        vertical-align: top;\n",
       "    }\n",
       "\n",
       "    .dataframe thead th {\n",
       "        text-align: right;\n",
       "    }\n",
       "</style>\n",
       "<table border=\"1\" class=\"dataframe\">\n",
       "  <thead>\n",
       "    <tr style=\"text-align: right;\">\n",
       "      <th></th>\n",
       "      <th>A</th>\n",
       "      <th>B</th>\n",
       "      <th>C</th>\n",
       "      <th>D</th>\n",
       "      <th>F</th>\n",
       "    </tr>\n",
       "  </thead>\n",
       "  <tbody>\n",
       "    <tr>\n",
       "      <th>2016-07-01</th>\n",
       "      <td>-0.108346</td>\n",
       "      <td>0.320142</td>\n",
       "      <td>1.079314</td>\n",
       "      <td>0.580064</td>\n",
       "      <td>1.0</td>\n",
       "    </tr>\n",
       "    <tr>\n",
       "      <th>2016-07-02</th>\n",
       "      <td>2.093869</td>\n",
       "      <td>-0.483802</td>\n",
       "      <td>0.889111</td>\n",
       "      <td>-0.386967</td>\n",
       "      <td>NaN</td>\n",
       "    </tr>\n",
       "    <tr>\n",
       "      <th>2016-07-03</th>\n",
       "      <td>0.550184</td>\n",
       "      <td>-0.922827</td>\n",
       "      <td>0.368164</td>\n",
       "      <td>-2.847038</td>\n",
       "      <td>3.5</td>\n",
       "    </tr>\n",
       "    <tr>\n",
       "      <th>2016-07-04</th>\n",
       "      <td>1.173260</td>\n",
       "      <td>-1.220306</td>\n",
       "      <td>-0.253222</td>\n",
       "      <td>0.932102</td>\n",
       "      <td>6.1</td>\n",
       "    </tr>\n",
       "    <tr>\n",
       "      <th>2016-07-05</th>\n",
       "      <td>-0.853160</td>\n",
       "      <td>0.167455</td>\n",
       "      <td>0.542193</td>\n",
       "      <td>0.371943</td>\n",
       "      <td>NaN</td>\n",
       "    </tr>\n",
       "    <tr>\n",
       "      <th>2016-07-06</th>\n",
       "      <td>-0.351024</td>\n",
       "      <td>-1.343317</td>\n",
       "      <td>-1.445147</td>\n",
       "      <td>0.820281</td>\n",
       "      <td>7.0</td>\n",
       "    </tr>\n",
       "  </tbody>\n",
       "</table>\n",
       "</div>"
      ],
      "text/plain": [
       "                   A         B         C         D    F\n",
       "2016-07-01 -0.108346  0.320142  1.079314  0.580064  1.0\n",
       "2016-07-02  2.093869 -0.483802  0.889111 -0.386967  NaN\n",
       "2016-07-03  0.550184 -0.922827  0.368164 -2.847038  3.5\n",
       "2016-07-04  1.173260 -1.220306 -0.253222  0.932102  6.1\n",
       "2016-07-05 -0.853160  0.167455  0.542193  0.371943  NaN\n",
       "2016-07-06 -0.351024 -1.343317 -1.445147  0.820281  7.0"
      ]
     },
     "execution_count": 59,
     "metadata": {},
     "output_type": "execute_result"
    }
   ],
   "source": [
    "df4"
   ]
  },
  {
   "cell_type": "code",
   "execution_count": 60,
   "id": "991eef26",
   "metadata": {},
   "outputs": [
    {
     "data": {
      "text/html": [
       "<div>\n",
       "<style scoped>\n",
       "    .dataframe tbody tr th:only-of-type {\n",
       "        vertical-align: middle;\n",
       "    }\n",
       "\n",
       "    .dataframe tbody tr th {\n",
       "        vertical-align: top;\n",
       "    }\n",
       "\n",
       "    .dataframe thead th {\n",
       "        text-align: right;\n",
       "    }\n",
       "</style>\n",
       "<table border=\"1\" class=\"dataframe\">\n",
       "  <thead>\n",
       "    <tr style=\"text-align: right;\">\n",
       "      <th></th>\n",
       "      <th>A</th>\n",
       "      <th>B</th>\n",
       "      <th>C</th>\n",
       "      <th>D</th>\n",
       "      <th>F</th>\n",
       "    </tr>\n",
       "  </thead>\n",
       "  <tbody>\n",
       "    <tr>\n",
       "      <th>2016-07-01</th>\n",
       "      <td>False</td>\n",
       "      <td>False</td>\n",
       "      <td>False</td>\n",
       "      <td>False</td>\n",
       "      <td>False</td>\n",
       "    </tr>\n",
       "    <tr>\n",
       "      <th>2016-07-02</th>\n",
       "      <td>False</td>\n",
       "      <td>False</td>\n",
       "      <td>False</td>\n",
       "      <td>False</td>\n",
       "      <td>True</td>\n",
       "    </tr>\n",
       "    <tr>\n",
       "      <th>2016-07-03</th>\n",
       "      <td>False</td>\n",
       "      <td>False</td>\n",
       "      <td>False</td>\n",
       "      <td>False</td>\n",
       "      <td>False</td>\n",
       "    </tr>\n",
       "    <tr>\n",
       "      <th>2016-07-04</th>\n",
       "      <td>False</td>\n",
       "      <td>False</td>\n",
       "      <td>False</td>\n",
       "      <td>False</td>\n",
       "      <td>False</td>\n",
       "    </tr>\n",
       "    <tr>\n",
       "      <th>2016-07-05</th>\n",
       "      <td>False</td>\n",
       "      <td>False</td>\n",
       "      <td>False</td>\n",
       "      <td>False</td>\n",
       "      <td>True</td>\n",
       "    </tr>\n",
       "    <tr>\n",
       "      <th>2016-07-06</th>\n",
       "      <td>False</td>\n",
       "      <td>False</td>\n",
       "      <td>False</td>\n",
       "      <td>False</td>\n",
       "      <td>False</td>\n",
       "    </tr>\n",
       "  </tbody>\n",
       "</table>\n",
       "</div>"
      ],
      "text/plain": [
       "                A      B      C      D      F\n",
       "2016-07-01  False  False  False  False  False\n",
       "2016-07-02  False  False  False  False   True\n",
       "2016-07-03  False  False  False  False  False\n",
       "2016-07-04  False  False  False  False  False\n",
       "2016-07-05  False  False  False  False   True\n",
       "2016-07-06  False  False  False  False  False"
      ]
     },
     "execution_count": 60,
     "metadata": {},
     "output_type": "execute_result"
    }
   ],
   "source": [
    "#nan값인지 확인하기\n",
    "df4.isnull()"
   ]
  },
  {
   "cell_type": "code",
   "execution_count": 61,
   "id": "bd323f43",
   "metadata": {},
   "outputs": [
    {
     "data": {
      "text/html": [
       "<div>\n",
       "<style scoped>\n",
       "    .dataframe tbody tr th:only-of-type {\n",
       "        vertical-align: middle;\n",
       "    }\n",
       "\n",
       "    .dataframe tbody tr th {\n",
       "        vertical-align: top;\n",
       "    }\n",
       "\n",
       "    .dataframe thead th {\n",
       "        text-align: right;\n",
       "    }\n",
       "</style>\n",
       "<table border=\"1\" class=\"dataframe\">\n",
       "  <thead>\n",
       "    <tr style=\"text-align: right;\">\n",
       "      <th></th>\n",
       "      <th>A</th>\n",
       "      <th>B</th>\n",
       "      <th>C</th>\n",
       "      <th>D</th>\n",
       "      <th>F</th>\n",
       "    </tr>\n",
       "  </thead>\n",
       "  <tbody>\n",
       "    <tr>\n",
       "      <th>2016-07-02</th>\n",
       "      <td>2.093869</td>\n",
       "      <td>-0.483802</td>\n",
       "      <td>0.889111</td>\n",
       "      <td>-0.386967</td>\n",
       "      <td>NaN</td>\n",
       "    </tr>\n",
       "    <tr>\n",
       "      <th>2016-07-05</th>\n",
       "      <td>-0.853160</td>\n",
       "      <td>0.167455</td>\n",
       "      <td>0.542193</td>\n",
       "      <td>0.371943</td>\n",
       "      <td>NaN</td>\n",
       "    </tr>\n",
       "  </tbody>\n",
       "</table>\n",
       "</div>"
      ],
      "text/plain": [
       "                   A         B         C         D   F\n",
       "2016-07-02  2.093869 -0.483802  0.889111 -0.386967 NaN\n",
       "2016-07-05 -0.853160  0.167455  0.542193  0.371943 NaN"
      ]
     },
     "execution_count": 61,
     "metadata": {},
     "output_type": "execute_result"
    }
   ],
   "source": [
    "#F열에서 nan값을 포함하는 행만 추출하기\n",
    "df4.loc[df4.isnull()['F'],:]"
   ]
  },
  {
   "cell_type": "code",
   "execution_count": 62,
   "id": "3adff3f8",
   "metadata": {},
   "outputs": [
    {
     "data": {
      "text/plain": [
       "Timestamp('2016-07-01 00:00:00')"
      ]
     },
     "execution_count": 62,
     "metadata": {},
     "output_type": "execute_result"
    }
   ],
   "source": [
    "pd.to_datetime('20160701')"
   ]
  },
  {
   "cell_type": "code",
   "execution_count": 63,
   "id": "fcf230c9",
   "metadata": {},
   "outputs": [
    {
     "data": {
      "text/html": [
       "<div>\n",
       "<style scoped>\n",
       "    .dataframe tbody tr th:only-of-type {\n",
       "        vertical-align: middle;\n",
       "    }\n",
       "\n",
       "    .dataframe tbody tr th {\n",
       "        vertical-align: top;\n",
       "    }\n",
       "\n",
       "    .dataframe thead th {\n",
       "        text-align: right;\n",
       "    }\n",
       "</style>\n",
       "<table border=\"1\" class=\"dataframe\">\n",
       "  <thead>\n",
       "    <tr style=\"text-align: right;\">\n",
       "      <th></th>\n",
       "      <th>A</th>\n",
       "      <th>B</th>\n",
       "      <th>C</th>\n",
       "      <th>D</th>\n",
       "      <th>F</th>\n",
       "    </tr>\n",
       "  </thead>\n",
       "  <tbody>\n",
       "    <tr>\n",
       "      <th>2016-07-02</th>\n",
       "      <td>2.093869</td>\n",
       "      <td>-0.483802</td>\n",
       "      <td>0.889111</td>\n",
       "      <td>-0.386967</td>\n",
       "      <td>NaN</td>\n",
       "    </tr>\n",
       "    <tr>\n",
       "      <th>2016-07-03</th>\n",
       "      <td>0.550184</td>\n",
       "      <td>-0.922827</td>\n",
       "      <td>0.368164</td>\n",
       "      <td>-2.847038</td>\n",
       "      <td>3.5</td>\n",
       "    </tr>\n",
       "    <tr>\n",
       "      <th>2016-07-04</th>\n",
       "      <td>1.173260</td>\n",
       "      <td>-1.220306</td>\n",
       "      <td>-0.253222</td>\n",
       "      <td>0.932102</td>\n",
       "      <td>6.1</td>\n",
       "    </tr>\n",
       "    <tr>\n",
       "      <th>2016-07-05</th>\n",
       "      <td>-0.853160</td>\n",
       "      <td>0.167455</td>\n",
       "      <td>0.542193</td>\n",
       "      <td>0.371943</td>\n",
       "      <td>NaN</td>\n",
       "    </tr>\n",
       "    <tr>\n",
       "      <th>2016-07-06</th>\n",
       "      <td>-0.351024</td>\n",
       "      <td>-1.343317</td>\n",
       "      <td>-1.445147</td>\n",
       "      <td>0.820281</td>\n",
       "      <td>7.0</td>\n",
       "    </tr>\n",
       "  </tbody>\n",
       "</table>\n",
       "</div>"
      ],
      "text/plain": [
       "                   A         B         C         D    F\n",
       "2016-07-02  2.093869 -0.483802  0.889111 -0.386967  NaN\n",
       "2016-07-03  0.550184 -0.922827  0.368164 -2.847038  3.5\n",
       "2016-07-04  1.173260 -1.220306 -0.253222  0.932102  6.1\n",
       "2016-07-05 -0.853160  0.167455  0.542193  0.371943  NaN\n",
       "2016-07-06 -0.351024 -1.343317 -1.445147  0.820281  7.0"
      ]
     },
     "execution_count": 63,
     "metadata": {},
     "output_type": "execute_result"
    }
   ],
   "source": [
    "#특정 행 drop하기\n",
    "df4.drop(pd.to_datetime('20160701'))"
   ]
  },
  {
   "cell_type": "code",
   "execution_count": 64,
   "id": "744035b6",
   "metadata": {},
   "outputs": [
    {
     "data": {
      "text/html": [
       "<div>\n",
       "<style scoped>\n",
       "    .dataframe tbody tr th:only-of-type {\n",
       "        vertical-align: middle;\n",
       "    }\n",
       "\n",
       "    .dataframe tbody tr th {\n",
       "        vertical-align: top;\n",
       "    }\n",
       "\n",
       "    .dataframe thead th {\n",
       "        text-align: right;\n",
       "    }\n",
       "</style>\n",
       "<table border=\"1\" class=\"dataframe\">\n",
       "  <thead>\n",
       "    <tr style=\"text-align: right;\">\n",
       "      <th></th>\n",
       "      <th>A</th>\n",
       "      <th>B</th>\n",
       "      <th>C</th>\n",
       "      <th>D</th>\n",
       "      <th>F</th>\n",
       "    </tr>\n",
       "  </thead>\n",
       "  <tbody>\n",
       "    <tr>\n",
       "      <th>2016-07-01</th>\n",
       "      <td>-0.108346</td>\n",
       "      <td>0.320142</td>\n",
       "      <td>1.079314</td>\n",
       "      <td>0.580064</td>\n",
       "      <td>1.0</td>\n",
       "    </tr>\n",
       "    <tr>\n",
       "      <th>2016-07-03</th>\n",
       "      <td>0.550184</td>\n",
       "      <td>-0.922827</td>\n",
       "      <td>0.368164</td>\n",
       "      <td>-2.847038</td>\n",
       "      <td>3.5</td>\n",
       "    </tr>\n",
       "    <tr>\n",
       "      <th>2016-07-04</th>\n",
       "      <td>1.173260</td>\n",
       "      <td>-1.220306</td>\n",
       "      <td>-0.253222</td>\n",
       "      <td>0.932102</td>\n",
       "      <td>6.1</td>\n",
       "    </tr>\n",
       "    <tr>\n",
       "      <th>2016-07-06</th>\n",
       "      <td>-0.351024</td>\n",
       "      <td>-1.343317</td>\n",
       "      <td>-1.445147</td>\n",
       "      <td>0.820281</td>\n",
       "      <td>7.0</td>\n",
       "    </tr>\n",
       "  </tbody>\n",
       "</table>\n",
       "</div>"
      ],
      "text/plain": [
       "                   A         B         C         D    F\n",
       "2016-07-01 -0.108346  0.320142  1.079314  0.580064  1.0\n",
       "2016-07-03  0.550184 -0.922827  0.368164 -2.847038  3.5\n",
       "2016-07-04  1.173260 -1.220306 -0.253222  0.932102  6.1\n",
       "2016-07-06 -0.351024 -1.343317 -1.445147  0.820281  7.0"
      ]
     },
     "execution_count": 64,
     "metadata": {},
     "output_type": "execute_result"
    }
   ],
   "source": [
    "#2개이상도 가능\n",
    "df4.drop([pd.to_datetime('20160702'),pd.to_datetime('20160705')])"
   ]
  },
  {
   "cell_type": "code",
   "execution_count": 65,
   "id": "da00aa7f",
   "metadata": {},
   "outputs": [
    {
     "data": {
      "text/html": [
       "<div>\n",
       "<style scoped>\n",
       "    .dataframe tbody tr th:only-of-type {\n",
       "        vertical-align: middle;\n",
       "    }\n",
       "\n",
       "    .dataframe tbody tr th {\n",
       "        vertical-align: top;\n",
       "    }\n",
       "\n",
       "    .dataframe thead th {\n",
       "        text-align: right;\n",
       "    }\n",
       "</style>\n",
       "<table border=\"1\" class=\"dataframe\">\n",
       "  <thead>\n",
       "    <tr style=\"text-align: right;\">\n",
       "      <th></th>\n",
       "      <th>A</th>\n",
       "      <th>B</th>\n",
       "      <th>C</th>\n",
       "      <th>D</th>\n",
       "    </tr>\n",
       "  </thead>\n",
       "  <tbody>\n",
       "    <tr>\n",
       "      <th>2016-07-01</th>\n",
       "      <td>-0.108346</td>\n",
       "      <td>0.320142</td>\n",
       "      <td>1.079314</td>\n",
       "      <td>0.580064</td>\n",
       "    </tr>\n",
       "    <tr>\n",
       "      <th>2016-07-02</th>\n",
       "      <td>2.093869</td>\n",
       "      <td>-0.483802</td>\n",
       "      <td>0.889111</td>\n",
       "      <td>-0.386967</td>\n",
       "    </tr>\n",
       "    <tr>\n",
       "      <th>2016-07-03</th>\n",
       "      <td>0.550184</td>\n",
       "      <td>-0.922827</td>\n",
       "      <td>0.368164</td>\n",
       "      <td>-2.847038</td>\n",
       "    </tr>\n",
       "    <tr>\n",
       "      <th>2016-07-04</th>\n",
       "      <td>1.173260</td>\n",
       "      <td>-1.220306</td>\n",
       "      <td>-0.253222</td>\n",
       "      <td>0.932102</td>\n",
       "    </tr>\n",
       "    <tr>\n",
       "      <th>2016-07-05</th>\n",
       "      <td>-0.853160</td>\n",
       "      <td>0.167455</td>\n",
       "      <td>0.542193</td>\n",
       "      <td>0.371943</td>\n",
       "    </tr>\n",
       "    <tr>\n",
       "      <th>2016-07-06</th>\n",
       "      <td>-0.351024</td>\n",
       "      <td>-1.343317</td>\n",
       "      <td>-1.445147</td>\n",
       "      <td>0.820281</td>\n",
       "    </tr>\n",
       "  </tbody>\n",
       "</table>\n",
       "</div>"
      ],
      "text/plain": [
       "                   A         B         C         D\n",
       "2016-07-01 -0.108346  0.320142  1.079314  0.580064\n",
       "2016-07-02  2.093869 -0.483802  0.889111 -0.386967\n",
       "2016-07-03  0.550184 -0.922827  0.368164 -2.847038\n",
       "2016-07-04  1.173260 -1.220306 -0.253222  0.932102\n",
       "2016-07-05 -0.853160  0.167455  0.542193  0.371943\n",
       "2016-07-06 -0.351024 -1.343317 -1.445147  0.820281"
      ]
     },
     "execution_count": 65,
     "metadata": {},
     "output_type": "execute_result"
    }
   ],
   "source": [
    "#특정 열 삭제하기\n",
    "df4.drop('F',axis=1)"
   ]
  },
  {
   "cell_type": "markdown",
   "id": "98a8909e",
   "metadata": {},
   "source": [
    "#### axis?\n",
    "① aixs=0(index)은 행을 따라 동작합니다. 각 컬럼의 모든 행에 대해서 작용합니다\n",
    " \n",
    "② aixs=1(columns)은 열을 따라 동작합니다. 각 행의 모든 컬럼에 대해서 작동합니다."
   ]
  },
  {
   "cell_type": "code",
   "execution_count": 66,
   "id": "6a7ddd29",
   "metadata": {},
   "outputs": [
    {
     "data": {
      "text/html": [
       "<div>\n",
       "<style scoped>\n",
       "    .dataframe tbody tr th:only-of-type {\n",
       "        vertical-align: middle;\n",
       "    }\n",
       "\n",
       "    .dataframe tbody tr th {\n",
       "        vertical-align: top;\n",
       "    }\n",
       "\n",
       "    .dataframe thead th {\n",
       "        text-align: right;\n",
       "    }\n",
       "</style>\n",
       "<table border=\"1\" class=\"dataframe\">\n",
       "  <thead>\n",
       "    <tr style=\"text-align: right;\">\n",
       "      <th></th>\n",
       "      <th>A</th>\n",
       "      <th>C</th>\n",
       "      <th>F</th>\n",
       "    </tr>\n",
       "  </thead>\n",
       "  <tbody>\n",
       "    <tr>\n",
       "      <th>2016-07-01</th>\n",
       "      <td>-0.108346</td>\n",
       "      <td>1.079314</td>\n",
       "      <td>1.0</td>\n",
       "    </tr>\n",
       "    <tr>\n",
       "      <th>2016-07-02</th>\n",
       "      <td>2.093869</td>\n",
       "      <td>0.889111</td>\n",
       "      <td>NaN</td>\n",
       "    </tr>\n",
       "    <tr>\n",
       "      <th>2016-07-03</th>\n",
       "      <td>0.550184</td>\n",
       "      <td>0.368164</td>\n",
       "      <td>3.5</td>\n",
       "    </tr>\n",
       "    <tr>\n",
       "      <th>2016-07-04</th>\n",
       "      <td>1.173260</td>\n",
       "      <td>-0.253222</td>\n",
       "      <td>6.1</td>\n",
       "    </tr>\n",
       "    <tr>\n",
       "      <th>2016-07-05</th>\n",
       "      <td>-0.853160</td>\n",
       "      <td>0.542193</td>\n",
       "      <td>NaN</td>\n",
       "    </tr>\n",
       "    <tr>\n",
       "      <th>2016-07-06</th>\n",
       "      <td>-0.351024</td>\n",
       "      <td>-1.445147</td>\n",
       "      <td>7.0</td>\n",
       "    </tr>\n",
       "  </tbody>\n",
       "</table>\n",
       "</div>"
      ],
      "text/plain": [
       "                   A         C    F\n",
       "2016-07-01 -0.108346  1.079314  1.0\n",
       "2016-07-02  2.093869  0.889111  NaN\n",
       "2016-07-03  0.550184  0.368164  3.5\n",
       "2016-07-04  1.173260 -0.253222  6.1\n",
       "2016-07-05 -0.853160  0.542193  NaN\n",
       "2016-07-06 -0.351024 -1.445147  7.0"
      ]
     },
     "execution_count": 66,
     "metadata": {},
     "output_type": "execute_result"
    }
   ],
   "source": [
    "#두개 이상의 열도 가능\n",
    "df4.drop(['B','D'], axis=1)"
   ]
  },
  {
   "cell_type": "markdown",
   "id": "1d44efd5",
   "metadata": {},
   "source": [
    "#### 6. Data 분석용 함수들\n",
    "axis 활용"
   ]
  },
  {
   "cell_type": "code",
   "execution_count": 67,
   "id": "afb686a4",
   "metadata": {},
   "outputs": [
    {
     "data": {
      "text/html": [
       "<div>\n",
       "<style scoped>\n",
       "    .dataframe tbody tr th:only-of-type {\n",
       "        vertical-align: middle;\n",
       "    }\n",
       "\n",
       "    .dataframe tbody tr th {\n",
       "        vertical-align: top;\n",
       "    }\n",
       "\n",
       "    .dataframe thead th {\n",
       "        text-align: right;\n",
       "    }\n",
       "</style>\n",
       "<table border=\"1\" class=\"dataframe\">\n",
       "  <thead>\n",
       "    <tr style=\"text-align: right;\">\n",
       "      <th></th>\n",
       "      <th>one</th>\n",
       "      <th>two</th>\n",
       "    </tr>\n",
       "  </thead>\n",
       "  <tbody>\n",
       "    <tr>\n",
       "      <th>a</th>\n",
       "      <td>1.40</td>\n",
       "      <td>NaN</td>\n",
       "    </tr>\n",
       "    <tr>\n",
       "      <th>b</th>\n",
       "      <td>7.10</td>\n",
       "      <td>-4.5</td>\n",
       "    </tr>\n",
       "    <tr>\n",
       "      <th>c</th>\n",
       "      <td>NaN</td>\n",
       "      <td>NaN</td>\n",
       "    </tr>\n",
       "    <tr>\n",
       "      <th>d</th>\n",
       "      <td>0.75</td>\n",
       "      <td>-1.3</td>\n",
       "    </tr>\n",
       "  </tbody>\n",
       "</table>\n",
       "</div>"
      ],
      "text/plain": [
       "    one  two\n",
       "a  1.40  NaN\n",
       "b  7.10 -4.5\n",
       "c   NaN  NaN\n",
       "d  0.75 -1.3"
      ]
     },
     "execution_count": 67,
     "metadata": {},
     "output_type": "execute_result"
    }
   ],
   "source": [
    "data = [[1.4,np.nan],\n",
    "       [7.1,-4.5],\n",
    "       [np.nan,np.nan],\n",
    "       [0.75,-1.3]]\n",
    "df6=pd.DataFrame(data,columns=[\"one\",\"two\"],index=[\"a\",\"b\",\"c\",\"d\"])\n",
    "df6"
   ]
  },
  {
   "cell_type": "code",
   "execution_count": 68,
   "id": "7795b26f",
   "metadata": {},
   "outputs": [
    {
     "data": {
      "text/plain": [
       "one    9.25\n",
       "two   -5.80\n",
       "dtype: float64"
      ]
     },
     "execution_count": 68,
     "metadata": {},
     "output_type": "execute_result"
    }
   ],
   "source": [
    "#행방향으로의 합(즉, 각 열의 합)\n",
    "df6.sum(axis=0)"
   ]
  },
  {
   "cell_type": "code",
   "execution_count": 69,
   "id": "34825785",
   "metadata": {},
   "outputs": [
    {
     "data": {
      "text/plain": [
       "a    1.40\n",
       "b    2.60\n",
       "c    0.00\n",
       "d   -0.55\n",
       "dtype: float64"
      ]
     },
     "execution_count": 69,
     "metadata": {},
     "output_type": "execute_result"
    }
   ],
   "source": [
    "#열방향으로의 합(즉, 각 행의 합)\n",
    "df6.sum(axis=1)"
   ]
  },
  {
   "cell_type": "markdown",
   "id": "6ed4d724",
   "metadata": {},
   "source": [
    "###### NaN값은 배제하고 계산\n",
    "배제하지 않고 계산하려면 아래와 같이 skipna에 대해 false를 지정"
   ]
  },
  {
   "cell_type": "code",
   "execution_count": 70,
   "id": "eb689801",
   "metadata": {},
   "outputs": [
    {
     "data": {
      "text/plain": [
       "a     NaN\n",
       "b    2.60\n",
       "c     NaN\n",
       "d   -0.55\n",
       "dtype: float64"
      ]
     },
     "execution_count": 70,
     "metadata": {},
     "output_type": "execute_result"
    }
   ],
   "source": [
    "df6.sum(axis=1, skipna=False) ##NaN이 포함될경우 NaN으로 출력."
   ]
  },
  {
   "cell_type": "code",
   "execution_count": 71,
   "id": "d1e741f7",
   "metadata": {},
   "outputs": [
    {
     "name": "stdout",
     "output_type": "stream",
     "text": [
      "9.25\n",
      "2.5999999999999996\n"
     ]
    }
   ],
   "source": [
    "#특정 행 또는 특정 열에서만 계산하기\n",
    "print(df6['one'].sum())\n",
    "print(df6.loc['b'].sum())"
   ]
  },
  {
   "cell_type": "markdown",
   "id": "e5ffc7ab",
   "metadata": {},
   "source": [
    "#### pandas에서 DataFrame에 적용되는 함수들\n",
    "sum() 함수 이외에도 pandas에서 DataFrame에 적용되는 함수는 다음의 것들이 있다.\n",
    "\n",
    "count 전체 성분의 (NaN이 아닌/제외하고) 값의 갯수를 계산\n",
    "\n",
    "min, max 전체 성분의 최솟, 최댓값을 계산\n",
    "\n",
    "argmin, argmax 전체 성분의 최솟값, 최댓값이 위치한 (정수)인덱스를 반환\n",
    "\n",
    "idxmin, idxmax 전체 인덱스 중 최솟값, 최댓값을 반환\n",
    "\n",
    "quantile 전체 성분의 특정 사분위수에 해당하는 값을 반환 (0~1 사이)\n",
    "\n",
    "sum 전체 성분의 합을 계산\n",
    "\n",
    "mean 전체 성분의 평균을 계산\n",
    "\n",
    "median 전체 성분의 중간값을 반환\n",
    "\n",
    "mad 전체 성분의 평균값으로부터의 절대 편차(absolute deviation)의 평균을 계산\n",
    "\n",
    "std, var 전체 성분의 표준편차, 분산을 계산\n",
    "\n",
    "cumsum 맨 첫 번째 성분부터 각 성분까지의 누적합을 계산 (0에서부터 계속 더해짐)\n",
    "\n",
    "cumprod 맨 첫번째 성분부터 각 성분까지의 누적곱을 계산 (1에서부터 계속 곱해짐)"
   ]
  },
  {
   "cell_type": "code",
   "execution_count": 72,
   "id": "441c9222",
   "metadata": {},
   "outputs": [
    {
     "data": {
      "text/html": [
       "<div>\n",
       "<style scoped>\n",
       "    .dataframe tbody tr th:only-of-type {\n",
       "        vertical-align: middle;\n",
       "    }\n",
       "\n",
       "    .dataframe tbody tr th {\n",
       "        vertical-align: top;\n",
       "    }\n",
       "\n",
       "    .dataframe thead th {\n",
       "        text-align: right;\n",
       "    }\n",
       "</style>\n",
       "<table border=\"1\" class=\"dataframe\">\n",
       "  <thead>\n",
       "    <tr style=\"text-align: right;\">\n",
       "      <th></th>\n",
       "      <th>one</th>\n",
       "      <th>two</th>\n",
       "    </tr>\n",
       "  </thead>\n",
       "  <tbody>\n",
       "    <tr>\n",
       "      <th>a</th>\n",
       "      <td>1.40</td>\n",
       "      <td>NaN</td>\n",
       "    </tr>\n",
       "    <tr>\n",
       "      <th>b</th>\n",
       "      <td>7.10</td>\n",
       "      <td>-4.5</td>\n",
       "    </tr>\n",
       "    <tr>\n",
       "      <th>c</th>\n",
       "      <td>NaN</td>\n",
       "      <td>NaN</td>\n",
       "    </tr>\n",
       "    <tr>\n",
       "      <th>d</th>\n",
       "      <td>0.75</td>\n",
       "      <td>-1.3</td>\n",
       "    </tr>\n",
       "  </tbody>\n",
       "</table>\n",
       "</div>"
      ],
      "text/plain": [
       "    one  two\n",
       "a  1.40  NaN\n",
       "b  7.10 -4.5\n",
       "c   NaN  NaN\n",
       "d  0.75 -1.3"
      ]
     },
     "execution_count": 72,
     "metadata": {},
     "output_type": "execute_result"
    }
   ],
   "source": [
    "df6"
   ]
  },
  {
   "cell_type": "code",
   "execution_count": 73,
   "id": "effd3b10",
   "metadata": {},
   "outputs": [
    {
     "data": {
      "text/plain": [
       "one    0.75\n",
       "two   -4.50\n",
       "dtype: float64"
      ]
     },
     "execution_count": 73,
     "metadata": {},
     "output_type": "execute_result"
    }
   ],
   "source": [
    "df6.min() #최소값"
   ]
  },
  {
   "cell_type": "code",
   "execution_count": 74,
   "id": "48eb6c70",
   "metadata": {},
   "outputs": [
    {
     "name": "stdout",
     "output_type": "stream",
     "text": [
      "1.4\n"
     ]
    },
    {
     "data": {
      "text/plain": [
       "one    7.1\n",
       "two   -1.3\n",
       "dtype: float64"
      ]
     },
     "execution_count": 74,
     "metadata": {},
     "output_type": "execute_result"
    }
   ],
   "source": [
    "print(df6.loc['a'].max()) #최대값\n",
    "df6.max()"
   ]
  },
  {
   "cell_type": "code",
   "execution_count": 75,
   "id": "51667149",
   "metadata": {},
   "outputs": [
    {
     "data": {
      "text/plain": [
       "one    3\n",
       "two    2\n",
       "dtype: int64"
      ]
     },
     "execution_count": 75,
     "metadata": {},
     "output_type": "execute_result"
    }
   ],
   "source": [
    "df6.count() #NaN을 제외한 성분의 개수"
   ]
  },
  {
   "cell_type": "code",
   "execution_count": 76,
   "id": "b52b6b1a",
   "metadata": {},
   "outputs": [
    {
     "data": {
      "text/plain": [
       "3"
      ]
     },
     "execution_count": 76,
     "metadata": {},
     "output_type": "execute_result"
    }
   ],
   "source": [
    "df6['one'].argmin() #최솟값이 위치한 인덱스(정수로) 반환"
   ]
  },
  {
   "cell_type": "code",
   "execution_count": 77,
   "id": "e2881f87",
   "metadata": {},
   "outputs": [
    {
     "data": {
      "text/plain": [
       "3"
      ]
     },
     "execution_count": 77,
     "metadata": {},
     "output_type": "execute_result"
    }
   ],
   "source": [
    "df6['two'].argmax() #최댓값이 위치한 인덱스 반환"
   ]
  },
  {
   "cell_type": "code",
   "execution_count": 78,
   "id": "e4bd3e67",
   "metadata": {
    "scrolled": true
   },
   "outputs": [
    {
     "data": {
      "text/plain": [
       "one    d\n",
       "two    b\n",
       "dtype: object"
      ]
     },
     "execution_count": 78,
     "metadata": {},
     "output_type": "execute_result"
    }
   ],
   "source": [
    "df6.idxmin() #전체 인덱스중 최솟값을 반환"
   ]
  },
  {
   "cell_type": "code",
   "execution_count": 79,
   "id": "775bb8ac",
   "metadata": {},
   "outputs": [
    {
     "data": {
      "text/plain": [
       "one    b\n",
       "two    d\n",
       "dtype: object"
      ]
     },
     "execution_count": 79,
     "metadata": {},
     "output_type": "execute_result"
    }
   ],
   "source": [
    "df6.idxmax() #전체 인덱스중 최댓값을 반환"
   ]
  },
  {
   "cell_type": "code",
   "execution_count": 80,
   "id": "8d41e695",
   "metadata": {},
   "outputs": [
    {
     "data": {
      "text/plain": [
       "one    1.4\n",
       "two   -2.9\n",
       "Name: 0.5, dtype: float64"
      ]
     },
     "execution_count": 80,
     "metadata": {},
     "output_type": "execute_result"
    }
   ],
   "source": [
    "df6.quantile() #전체 성분의 특정 사분위수에 해당하는 값을 반환(0~1사이)"
   ]
  },
  {
   "cell_type": "markdown",
   "id": "e1e7d27a",
   "metadata": {},
   "source": [
    "##### 사분위수 : \n",
    "자료를 크기 순으로 배열하고, 누적 백분율을 4 등분한 각 점에 해당하는 값을 말한다. \n",
    "\n",
    "제1사분위수는 누적 백분율이 25%에 해당하는 점수이고, \n",
    "\n",
    "제2사분위수는 누적 백분율이 50%, \n",
    "\n",
    "제3사분위수는 75%, \n",
    "\n",
    "제4사분위수는 100%에 해당하는 점수이다.\n"
   ]
  },
  {
   "cell_type": "code",
   "execution_count": 81,
   "id": "61f6c5e9",
   "metadata": {},
   "outputs": [
    {
     "data": {
      "text/plain": [
       "one    9.25\n",
       "two   -5.80\n",
       "dtype: float64"
      ]
     },
     "execution_count": 81,
     "metadata": {},
     "output_type": "execute_result"
    }
   ],
   "source": [
    "df6.sum() #전체 성분의 합을 계산"
   ]
  },
  {
   "cell_type": "code",
   "execution_count": 82,
   "id": "a3e47f66",
   "metadata": {},
   "outputs": [
    {
     "data": {
      "text/plain": [
       "one    3.083333\n",
       "two   -2.900000\n",
       "dtype: float64"
      ]
     },
     "execution_count": 82,
     "metadata": {},
     "output_type": "execute_result"
    }
   ],
   "source": [
    "df6.mean() #전체 성분의 평균을 계산"
   ]
  },
  {
   "cell_type": "code",
   "execution_count": 83,
   "id": "2d225a5a",
   "metadata": {},
   "outputs": [
    {
     "data": {
      "text/plain": [
       "one    1.4\n",
       "two   -2.9\n",
       "dtype: float64"
      ]
     },
     "execution_count": 83,
     "metadata": {},
     "output_type": "execute_result"
    }
   ],
   "source": [
    "df6.median() #전체 성분의 중간값을 반환"
   ]
  },
  {
   "cell_type": "code",
   "execution_count": 84,
   "id": "4d92ac34",
   "metadata": {},
   "outputs": [
    {
     "data": {
      "text/html": [
       "<div>\n",
       "<style scoped>\n",
       "    .dataframe tbody tr th:only-of-type {\n",
       "        vertical-align: middle;\n",
       "    }\n",
       "\n",
       "    .dataframe tbody tr th {\n",
       "        vertical-align: top;\n",
       "    }\n",
       "\n",
       "    .dataframe thead th {\n",
       "        text-align: right;\n",
       "    }\n",
       "</style>\n",
       "<table border=\"1\" class=\"dataframe\">\n",
       "  <thead>\n",
       "    <tr style=\"text-align: right;\">\n",
       "      <th></th>\n",
       "      <th>one</th>\n",
       "      <th>two</th>\n",
       "    </tr>\n",
       "  </thead>\n",
       "  <tbody>\n",
       "    <tr>\n",
       "      <th>a</th>\n",
       "      <td>1.40</td>\n",
       "      <td>NaN</td>\n",
       "    </tr>\n",
       "    <tr>\n",
       "      <th>b</th>\n",
       "      <td>7.10</td>\n",
       "      <td>-4.5</td>\n",
       "    </tr>\n",
       "    <tr>\n",
       "      <th>c</th>\n",
       "      <td>NaN</td>\n",
       "      <td>NaN</td>\n",
       "    </tr>\n",
       "    <tr>\n",
       "      <th>d</th>\n",
       "      <td>0.75</td>\n",
       "      <td>-1.3</td>\n",
       "    </tr>\n",
       "  </tbody>\n",
       "</table>\n",
       "</div>"
      ],
      "text/plain": [
       "    one  two\n",
       "a  1.40  NaN\n",
       "b  7.10 -4.5\n",
       "c   NaN  NaN\n",
       "d  0.75 -1.3"
      ]
     },
     "execution_count": 84,
     "metadata": {},
     "output_type": "execute_result"
    }
   ],
   "source": [
    "df6"
   ]
  },
  {
   "cell_type": "code",
   "execution_count": 85,
   "id": "641a7340",
   "metadata": {},
   "outputs": [
    {
     "data": {
      "text/plain": [
       "one    2.677778\n",
       "two    1.600000\n",
       "dtype: float64"
      ]
     },
     "execution_count": 85,
     "metadata": {},
     "output_type": "execute_result"
    }
   ],
   "source": [
    "df6.mad() #성분의 평균값으로부터의 절대편차의 평균을 계산"
   ]
  },
  {
   "cell_type": "markdown",
   "id": "7f960e51",
   "metadata": {},
   "source": [
    "#### 편차\n",
    "편차는 자료값 또는 변량과 평균의 차이를 나타내는 수치이다. 편차를 살펴보면 자료들이 평균을 중심으로 얼마나 퍼져 있는지를 알 수 있다.\n",
    "\n",
    "자료값이 평균보다 크면 편차는 양의 값을, 평균보다 작으면 음의 값을 갖는다. 편차의 크기는 차이의 크기를 나타낸다.\n",
    "\n",
    "편차의 절댓값은 절대편차, 편차의 제곱은 제곱편차라고 한다."
   ]
  },
  {
   "cell_type": "code",
   "execution_count": 86,
   "id": "ab99599d",
   "metadata": {},
   "outputs": [
    {
     "data": {
      "text/plain": [
       "one    3.493685\n",
       "two    2.262742\n",
       "dtype: float64"
      ]
     },
     "execution_count": 86,
     "metadata": {},
     "output_type": "execute_result"
    }
   ],
   "source": [
    "df6.std() #전체성분의 표준편차"
   ]
  },
  {
   "cell_type": "markdown",
   "id": "d0097132",
   "metadata": {},
   "source": [
    "#### 표준편차 : 자료가 평균을 중심으로 얼마나 퍼져 있는지를 나타내는 대표적인 수치"
   ]
  },
  {
   "cell_type": "code",
   "execution_count": 87,
   "id": "7c84ad5a",
   "metadata": {},
   "outputs": [
    {
     "data": {
      "text/plain": [
       "one    12.205833\n",
       "two     5.120000\n",
       "dtype: float64"
      ]
     },
     "execution_count": 87,
     "metadata": {},
     "output_type": "execute_result"
    }
   ],
   "source": [
    "df6.var() #전체 성분의 분산"
   ]
  },
  {
   "cell_type": "markdown",
   "id": "7dbb3311",
   "metadata": {},
   "source": [
    "#### 분산 : 분산이란 변수의 흩어진 정도를 계산하는 지표이다"
   ]
  },
  {
   "cell_type": "code",
   "execution_count": 88,
   "id": "622b30dd",
   "metadata": {},
   "outputs": [
    {
     "data": {
      "text/html": [
       "<div>\n",
       "<style scoped>\n",
       "    .dataframe tbody tr th:only-of-type {\n",
       "        vertical-align: middle;\n",
       "    }\n",
       "\n",
       "    .dataframe tbody tr th {\n",
       "        vertical-align: top;\n",
       "    }\n",
       "\n",
       "    .dataframe thead th {\n",
       "        text-align: right;\n",
       "    }\n",
       "</style>\n",
       "<table border=\"1\" class=\"dataframe\">\n",
       "  <thead>\n",
       "    <tr style=\"text-align: right;\">\n",
       "      <th></th>\n",
       "      <th>one</th>\n",
       "      <th>two</th>\n",
       "    </tr>\n",
       "  </thead>\n",
       "  <tbody>\n",
       "    <tr>\n",
       "      <th>a</th>\n",
       "      <td>1.40</td>\n",
       "      <td>NaN</td>\n",
       "    </tr>\n",
       "    <tr>\n",
       "      <th>b</th>\n",
       "      <td>8.50</td>\n",
       "      <td>-4.5</td>\n",
       "    </tr>\n",
       "    <tr>\n",
       "      <th>c</th>\n",
       "      <td>NaN</td>\n",
       "      <td>NaN</td>\n",
       "    </tr>\n",
       "    <tr>\n",
       "      <th>d</th>\n",
       "      <td>9.25</td>\n",
       "      <td>-5.8</td>\n",
       "    </tr>\n",
       "  </tbody>\n",
       "</table>\n",
       "</div>"
      ],
      "text/plain": [
       "    one  two\n",
       "a  1.40  NaN\n",
       "b  8.50 -4.5\n",
       "c   NaN  NaN\n",
       "d  9.25 -5.8"
      ]
     },
     "execution_count": 88,
     "metadata": {},
     "output_type": "execute_result"
    }
   ],
   "source": [
    "df6.cumsum()#첫번째 성분부터 각 성분까지의 누적합을 계산 (0부터 시작)"
   ]
  },
  {
   "cell_type": "code",
   "execution_count": 89,
   "id": "743884f8",
   "metadata": {},
   "outputs": [
    {
     "data": {
      "text/html": [
       "<div>\n",
       "<style scoped>\n",
       "    .dataframe tbody tr th:only-of-type {\n",
       "        vertical-align: middle;\n",
       "    }\n",
       "\n",
       "    .dataframe tbody tr th {\n",
       "        vertical-align: top;\n",
       "    }\n",
       "\n",
       "    .dataframe thead th {\n",
       "        text-align: right;\n",
       "    }\n",
       "</style>\n",
       "<table border=\"1\" class=\"dataframe\">\n",
       "  <thead>\n",
       "    <tr style=\"text-align: right;\">\n",
       "      <th></th>\n",
       "      <th>one</th>\n",
       "      <th>two</th>\n",
       "    </tr>\n",
       "  </thead>\n",
       "  <tbody>\n",
       "    <tr>\n",
       "      <th>a</th>\n",
       "      <td>1.400</td>\n",
       "      <td>NaN</td>\n",
       "    </tr>\n",
       "    <tr>\n",
       "      <th>b</th>\n",
       "      <td>9.940</td>\n",
       "      <td>-4.50</td>\n",
       "    </tr>\n",
       "    <tr>\n",
       "      <th>c</th>\n",
       "      <td>NaN</td>\n",
       "      <td>NaN</td>\n",
       "    </tr>\n",
       "    <tr>\n",
       "      <th>d</th>\n",
       "      <td>7.455</td>\n",
       "      <td>5.85</td>\n",
       "    </tr>\n",
       "  </tbody>\n",
       "</table>\n",
       "</div>"
      ],
      "text/plain": [
       "     one   two\n",
       "a  1.400   NaN\n",
       "b  9.940 -4.50\n",
       "c    NaN   NaN\n",
       "d  7.455  5.85"
      ]
     },
     "execution_count": 89,
     "metadata": {},
     "output_type": "execute_result"
    }
   ],
   "source": [
    "df6.cumprod()#첫번째 성분부터 각 성분까지의 누적곱을 계산(1부터 시작)"
   ]
  },
  {
   "cell_type": "code",
   "execution_count": 90,
   "id": "b8c12d34",
   "metadata": {},
   "outputs": [
    {
     "data": {
      "text/html": [
       "<div>\n",
       "<style scoped>\n",
       "    .dataframe tbody tr th:only-of-type {\n",
       "        vertical-align: middle;\n",
       "    }\n",
       "\n",
       "    .dataframe tbody tr th {\n",
       "        vertical-align: top;\n",
       "    }\n",
       "\n",
       "    .dataframe thead th {\n",
       "        text-align: right;\n",
       "    }\n",
       "</style>\n",
       "<table border=\"1\" class=\"dataframe\">\n",
       "  <thead>\n",
       "    <tr style=\"text-align: right;\">\n",
       "      <th></th>\n",
       "      <th>A</th>\n",
       "      <th>B</th>\n",
       "      <th>C</th>\n",
       "      <th>D</th>\n",
       "    </tr>\n",
       "  </thead>\n",
       "  <tbody>\n",
       "    <tr>\n",
       "      <th>2016-07-01</th>\n",
       "      <td>-0.563441</td>\n",
       "      <td>1.129752</td>\n",
       "      <td>0.211860</td>\n",
       "      <td>1.619142</td>\n",
       "    </tr>\n",
       "    <tr>\n",
       "      <th>2016-07-02</th>\n",
       "      <td>0.474687</td>\n",
       "      <td>-1.564357</td>\n",
       "      <td>-0.584922</td>\n",
       "      <td>-1.136708</td>\n",
       "    </tr>\n",
       "    <tr>\n",
       "      <th>2016-07-03</th>\n",
       "      <td>2.200475</td>\n",
       "      <td>-0.239388</td>\n",
       "      <td>-0.100124</td>\n",
       "      <td>-0.955532</td>\n",
       "    </tr>\n",
       "    <tr>\n",
       "      <th>2016-07-04</th>\n",
       "      <td>-0.452786</td>\n",
       "      <td>0.256233</td>\n",
       "      <td>0.297131</td>\n",
       "      <td>1.659575</td>\n",
       "    </tr>\n",
       "    <tr>\n",
       "      <th>2016-07-05</th>\n",
       "      <td>1.027364</td>\n",
       "      <td>-0.080136</td>\n",
       "      <td>0.143622</td>\n",
       "      <td>-1.191923</td>\n",
       "    </tr>\n",
       "    <tr>\n",
       "      <th>2016-07-06</th>\n",
       "      <td>0.309722</td>\n",
       "      <td>0.061851</td>\n",
       "      <td>0.299368</td>\n",
       "      <td>-0.757101</td>\n",
       "    </tr>\n",
       "  </tbody>\n",
       "</table>\n",
       "</div>"
      ],
      "text/plain": [
       "                   A         B         C         D\n",
       "2016-07-01 -0.563441  1.129752  0.211860  1.619142\n",
       "2016-07-02  0.474687 -1.564357 -0.584922 -1.136708\n",
       "2016-07-03  2.200475 -0.239388 -0.100124 -0.955532\n",
       "2016-07-04 -0.452786  0.256233  0.297131  1.659575\n",
       "2016-07-05  1.027364 -0.080136  0.143622 -1.191923\n",
       "2016-07-06  0.309722  0.061851  0.299368 -0.757101"
      ]
     },
     "execution_count": 90,
     "metadata": {},
     "output_type": "execute_result"
    }
   ],
   "source": [
    "df7=pd.DataFrame(np.random.randn(6,4),columns=['A','B','C','D'],index=pd.date_range(\"20160701\",periods=6))\n",
    "df7                                                                  #pd.date_range(\"시계열형태\"부터 periods=\"시작일 포함 몇일\")"
   ]
  },
  {
   "attachments": {
    "image.png": {
     "image/png": "[encoded data removed]"
    }
   },
   "cell_type": "markdown",
   "id": "fc1635e1",
   "metadata": {},
   "source": [
    "random : https://yang-wistory1009.tistory.com/95\n",
    "\n",
    "* np.random.rand()\n",
    "0부터 1 사이에서 균일한 확률 분포로 실수 난수를 생성합니다. (random.random()과 동일해요.)\n",
    "\n",
    "* np.random.rand(p)\n",
    "0부터 1사이 균일 분포 난수 n개 배열 생성\n",
    "\n",
    "* np.random.rand(p, q)\n",
    "0부터 1사이 균일 분포 난수를 matrix array(p, q)로 생성\n",
    "* np.random.randn()\n",
    "randn은 기댓값이 0이고, 표준편차가 1인 가우시안 표준 정규 분포를 따르는 난수를 생성합니다. \n",
    "\n",
    " -가우시안 표준 정규 분포 : 종모양이 나오는 분포도를 가지는 것을 의미함\n",
    " \\<ex>┐\n",
    "![image.png](attachment:image.png)"
   ]
  },
  {
   "cell_type": "code",
   "execution_count": 91,
   "id": "35d97ce2",
   "metadata": {},
   "outputs": [
    {
     "data": {
      "text/plain": [
       "-0.41689111763431985"
      ]
     },
     "execution_count": 91,
     "metadata": {},
     "output_type": "execute_result"
    }
   ],
   "source": [
    "#A열과 B열의 상관계수 구하기 상관계수 : 연속형 변수 간의 연관성에 대한 측도.\n",
    "df7['A'].corr(df7['B'])"
   ]
  },
  {
   "cell_type": "code",
   "execution_count": 92,
   "id": "8038be2d",
   "metadata": {},
   "outputs": [
    {
     "data": {
      "text/plain": [
       "0.25617708153520874"
      ]
     },
     "execution_count": 92,
     "metadata": {},
     "output_type": "execute_result"
    }
   ],
   "source": [
    "#B열과 C열의 공분산 구하기 공분산 : 두 변수(變數)의 관계를 나타내는 양(量)을 말한다.\n",
    "df7['B'].cov(df7['C'])"
   ]
  },
  {
   "cell_type": "markdown",
   "id": "37502619",
   "metadata": {},
   "source": [
    "#### 정렬함수 및 기타함수"
   ]
  },
  {
   "cell_type": "code",
   "execution_count": 93,
   "id": "2e3357c6",
   "metadata": {},
   "outputs": [
    {
     "data": {
      "text/plain": [
       "DatetimeIndex(['2016-07-01', '2016-07-02', '2016-07-03', '2016-07-04',\n",
       "               '2016-07-05', '2016-07-06'],\n",
       "              dtype='datetime64[ns]', freq='D')"
      ]
     },
     "execution_count": 93,
     "metadata": {},
     "output_type": "execute_result"
    }
   ],
   "source": [
    "dates=df7.index #인덱스를 뽑아오고\n",
    "dates"
   ]
  },
  {
   "cell_type": "code",
   "execution_count": 94,
   "id": "391f756f",
   "metadata": {},
   "outputs": [
    {
     "data": {
      "text/plain": [
       "array(['2016-07-06T00:00:00.000000000', '2016-07-04T00:00:00.000000000',\n",
       "       '2016-07-01T00:00:00.000000000', '2016-07-03T00:00:00.000000000',\n",
       "       '2016-07-05T00:00:00.000000000', '2016-07-02T00:00:00.000000000'],\n",
       "      dtype='datetime64[ns]')"
      ]
     },
     "execution_count": 94,
     "metadata": {},
     "output_type": "execute_result"
    }
   ],
   "source": [
    "random_dates=np.random.permutation(dates) #인덱스를 섞는 과정\n",
    "random_dates"
   ]
  },
  {
   "cell_type": "code",
   "execution_count": 95,
   "id": "f44459d2",
   "metadata": {},
   "outputs": [
    {
     "data": {
      "text/html": [
       "<div>\n",
       "<style scoped>\n",
       "    .dataframe tbody tr th:only-of-type {\n",
       "        vertical-align: middle;\n",
       "    }\n",
       "\n",
       "    .dataframe tbody tr th {\n",
       "        vertical-align: top;\n",
       "    }\n",
       "\n",
       "    .dataframe thead th {\n",
       "        text-align: right;\n",
       "    }\n",
       "</style>\n",
       "<table border=\"1\" class=\"dataframe\">\n",
       "  <thead>\n",
       "    <tr style=\"text-align: right;\">\n",
       "      <th></th>\n",
       "      <th>D</th>\n",
       "      <th>B</th>\n",
       "      <th>C</th>\n",
       "      <th>A</th>\n",
       "    </tr>\n",
       "  </thead>\n",
       "  <tbody>\n",
       "    <tr>\n",
       "      <th>2016-07-06</th>\n",
       "      <td>-0.757101</td>\n",
       "      <td>0.061851</td>\n",
       "      <td>0.299368</td>\n",
       "      <td>0.309722</td>\n",
       "    </tr>\n",
       "    <tr>\n",
       "      <th>2016-07-04</th>\n",
       "      <td>1.659575</td>\n",
       "      <td>0.256233</td>\n",
       "      <td>0.297131</td>\n",
       "      <td>-0.452786</td>\n",
       "    </tr>\n",
       "    <tr>\n",
       "      <th>2016-07-01</th>\n",
       "      <td>1.619142</td>\n",
       "      <td>1.129752</td>\n",
       "      <td>0.211860</td>\n",
       "      <td>-0.563441</td>\n",
       "    </tr>\n",
       "    <tr>\n",
       "      <th>2016-07-03</th>\n",
       "      <td>-0.955532</td>\n",
       "      <td>-0.239388</td>\n",
       "      <td>-0.100124</td>\n",
       "      <td>2.200475</td>\n",
       "    </tr>\n",
       "    <tr>\n",
       "      <th>2016-07-05</th>\n",
       "      <td>-1.191923</td>\n",
       "      <td>-0.080136</td>\n",
       "      <td>0.143622</td>\n",
       "      <td>1.027364</td>\n",
       "    </tr>\n",
       "    <tr>\n",
       "      <th>2016-07-02</th>\n",
       "      <td>-1.136708</td>\n",
       "      <td>-1.564357</td>\n",
       "      <td>-0.584922</td>\n",
       "      <td>0.474687</td>\n",
       "    </tr>\n",
       "  </tbody>\n",
       "</table>\n",
       "</div>"
      ],
      "text/plain": [
       "                   D         B         C         A\n",
       "2016-07-06 -0.757101  0.061851  0.299368  0.309722\n",
       "2016-07-04  1.659575  0.256233  0.297131 -0.452786\n",
       "2016-07-01  1.619142  1.129752  0.211860 -0.563441\n",
       "2016-07-03 -0.955532 -0.239388 -0.100124  2.200475\n",
       "2016-07-05 -1.191923 -0.080136  0.143622  1.027364\n",
       "2016-07-02 -1.136708 -1.564357 -0.584922  0.474687"
      ]
     },
     "execution_count": 95,
     "metadata": {},
     "output_type": "execute_result"
    }
   ],
   "source": [
    "df7=df7.reindex(index=random_dates,columns=[\"D\",'B','C',\"A\"])\n",
    "df7"
   ]
  },
  {
   "cell_type": "code",
   "execution_count": 96,
   "id": "0d8adb78",
   "metadata": {},
   "outputs": [
    {
     "data": {
      "text/html": [
       "<div>\n",
       "<style scoped>\n",
       "    .dataframe tbody tr th:only-of-type {\n",
       "        vertical-align: middle;\n",
       "    }\n",
       "\n",
       "    .dataframe tbody tr th {\n",
       "        vertical-align: top;\n",
       "    }\n",
       "\n",
       "    .dataframe thead th {\n",
       "        text-align: right;\n",
       "    }\n",
       "</style>\n",
       "<table border=\"1\" class=\"dataframe\">\n",
       "  <thead>\n",
       "    <tr style=\"text-align: right;\">\n",
       "      <th></th>\n",
       "      <th>D</th>\n",
       "      <th>B</th>\n",
       "      <th>C</th>\n",
       "      <th>A</th>\n",
       "    </tr>\n",
       "  </thead>\n",
       "  <tbody>\n",
       "    <tr>\n",
       "      <th>2016-07-01</th>\n",
       "      <td>1.619142</td>\n",
       "      <td>1.129752</td>\n",
       "      <td>0.211860</td>\n",
       "      <td>-0.563441</td>\n",
       "    </tr>\n",
       "    <tr>\n",
       "      <th>2016-07-02</th>\n",
       "      <td>-1.136708</td>\n",
       "      <td>-1.564357</td>\n",
       "      <td>-0.584922</td>\n",
       "      <td>0.474687</td>\n",
       "    </tr>\n",
       "    <tr>\n",
       "      <th>2016-07-03</th>\n",
       "      <td>-0.955532</td>\n",
       "      <td>-0.239388</td>\n",
       "      <td>-0.100124</td>\n",
       "      <td>2.200475</td>\n",
       "    </tr>\n",
       "    <tr>\n",
       "      <th>2016-07-04</th>\n",
       "      <td>1.659575</td>\n",
       "      <td>0.256233</td>\n",
       "      <td>0.297131</td>\n",
       "      <td>-0.452786</td>\n",
       "    </tr>\n",
       "    <tr>\n",
       "      <th>2016-07-05</th>\n",
       "      <td>-1.191923</td>\n",
       "      <td>-0.080136</td>\n",
       "      <td>0.143622</td>\n",
       "      <td>1.027364</td>\n",
       "    </tr>\n",
       "    <tr>\n",
       "      <th>2016-07-06</th>\n",
       "      <td>-0.757101</td>\n",
       "      <td>0.061851</td>\n",
       "      <td>0.299368</td>\n",
       "      <td>0.309722</td>\n",
       "    </tr>\n",
       "  </tbody>\n",
       "</table>\n",
       "</div>"
      ],
      "text/plain": [
       "                   D         B         C         A\n",
       "2016-07-01  1.619142  1.129752  0.211860 -0.563441\n",
       "2016-07-02 -1.136708 -1.564357 -0.584922  0.474687\n",
       "2016-07-03 -0.955532 -0.239388 -0.100124  2.200475\n",
       "2016-07-04  1.659575  0.256233  0.297131 -0.452786\n",
       "2016-07-05 -1.191923 -0.080136  0.143622  1.027364\n",
       "2016-07-06 -0.757101  0.061851  0.299368  0.309722"
      ]
     },
     "execution_count": 96,
     "metadata": {},
     "output_type": "execute_result"
    }
   ],
   "source": [
    "#index를 오름차순으로 정렬\n",
    "df7.sort_index(axis=0)"
   ]
  },
  {
   "cell_type": "code",
   "execution_count": 97,
   "id": "a1c79cc1",
   "metadata": {},
   "outputs": [
    {
     "data": {
      "text/html": [
       "<div>\n",
       "<style scoped>\n",
       "    .dataframe tbody tr th:only-of-type {\n",
       "        vertical-align: middle;\n",
       "    }\n",
       "\n",
       "    .dataframe tbody tr th {\n",
       "        vertical-align: top;\n",
       "    }\n",
       "\n",
       "    .dataframe thead th {\n",
       "        text-align: right;\n",
       "    }\n",
       "</style>\n",
       "<table border=\"1\" class=\"dataframe\">\n",
       "  <thead>\n",
       "    <tr style=\"text-align: right;\">\n",
       "      <th></th>\n",
       "      <th>A</th>\n",
       "      <th>B</th>\n",
       "      <th>C</th>\n",
       "      <th>D</th>\n",
       "    </tr>\n",
       "  </thead>\n",
       "  <tbody>\n",
       "    <tr>\n",
       "      <th>2016-07-06</th>\n",
       "      <td>0.309722</td>\n",
       "      <td>0.061851</td>\n",
       "      <td>0.299368</td>\n",
       "      <td>-0.757101</td>\n",
       "    </tr>\n",
       "    <tr>\n",
       "      <th>2016-07-04</th>\n",
       "      <td>-0.452786</td>\n",
       "      <td>0.256233</td>\n",
       "      <td>0.297131</td>\n",
       "      <td>1.659575</td>\n",
       "    </tr>\n",
       "    <tr>\n",
       "      <th>2016-07-01</th>\n",
       "      <td>-0.563441</td>\n",
       "      <td>1.129752</td>\n",
       "      <td>0.211860</td>\n",
       "      <td>1.619142</td>\n",
       "    </tr>\n",
       "    <tr>\n",
       "      <th>2016-07-03</th>\n",
       "      <td>2.200475</td>\n",
       "      <td>-0.239388</td>\n",
       "      <td>-0.100124</td>\n",
       "      <td>-0.955532</td>\n",
       "    </tr>\n",
       "    <tr>\n",
       "      <th>2016-07-05</th>\n",
       "      <td>1.027364</td>\n",
       "      <td>-0.080136</td>\n",
       "      <td>0.143622</td>\n",
       "      <td>-1.191923</td>\n",
       "    </tr>\n",
       "    <tr>\n",
       "      <th>2016-07-02</th>\n",
       "      <td>0.474687</td>\n",
       "      <td>-1.564357</td>\n",
       "      <td>-0.584922</td>\n",
       "      <td>-1.136708</td>\n",
       "    </tr>\n",
       "  </tbody>\n",
       "</table>\n",
       "</div>"
      ],
      "text/plain": [
       "                   A         B         C         D\n",
       "2016-07-06  0.309722  0.061851  0.299368 -0.757101\n",
       "2016-07-04 -0.452786  0.256233  0.297131  1.659575\n",
       "2016-07-01 -0.563441  1.129752  0.211860  1.619142\n",
       "2016-07-03  2.200475 -0.239388 -0.100124 -0.955532\n",
       "2016-07-05  1.027364 -0.080136  0.143622 -1.191923\n",
       "2016-07-02  0.474687 -1.564357 -0.584922 -1.136708"
      ]
     },
     "execution_count": 97,
     "metadata": {},
     "output_type": "execute_result"
    }
   ],
   "source": [
    "#column기준\n",
    "df7.sort_index(axis=1)"
   ]
  },
  {
   "cell_type": "code",
   "execution_count": 98,
   "id": "865eaea6",
   "metadata": {},
   "outputs": [
    {
     "data": {
      "text/html": [
       "<div>\n",
       "<style scoped>\n",
       "    .dataframe tbody tr th:only-of-type {\n",
       "        vertical-align: middle;\n",
       "    }\n",
       "\n",
       "    .dataframe tbody tr th {\n",
       "        vertical-align: top;\n",
       "    }\n",
       "\n",
       "    .dataframe thead th {\n",
       "        text-align: right;\n",
       "    }\n",
       "</style>\n",
       "<table border=\"1\" class=\"dataframe\">\n",
       "  <thead>\n",
       "    <tr style=\"text-align: right;\">\n",
       "      <th></th>\n",
       "      <th>D</th>\n",
       "      <th>C</th>\n",
       "      <th>B</th>\n",
       "      <th>A</th>\n",
       "    </tr>\n",
       "  </thead>\n",
       "  <tbody>\n",
       "    <tr>\n",
       "      <th>2016-07-06</th>\n",
       "      <td>-0.757101</td>\n",
       "      <td>0.299368</td>\n",
       "      <td>0.061851</td>\n",
       "      <td>0.309722</td>\n",
       "    </tr>\n",
       "    <tr>\n",
       "      <th>2016-07-04</th>\n",
       "      <td>1.659575</td>\n",
       "      <td>0.297131</td>\n",
       "      <td>0.256233</td>\n",
       "      <td>-0.452786</td>\n",
       "    </tr>\n",
       "    <tr>\n",
       "      <th>2016-07-01</th>\n",
       "      <td>1.619142</td>\n",
       "      <td>0.211860</td>\n",
       "      <td>1.129752</td>\n",
       "      <td>-0.563441</td>\n",
       "    </tr>\n",
       "    <tr>\n",
       "      <th>2016-07-03</th>\n",
       "      <td>-0.955532</td>\n",
       "      <td>-0.100124</td>\n",
       "      <td>-0.239388</td>\n",
       "      <td>2.200475</td>\n",
       "    </tr>\n",
       "    <tr>\n",
       "      <th>2016-07-05</th>\n",
       "      <td>-1.191923</td>\n",
       "      <td>0.143622</td>\n",
       "      <td>-0.080136</td>\n",
       "      <td>1.027364</td>\n",
       "    </tr>\n",
       "    <tr>\n",
       "      <th>2016-07-02</th>\n",
       "      <td>-1.136708</td>\n",
       "      <td>-0.584922</td>\n",
       "      <td>-1.564357</td>\n",
       "      <td>0.474687</td>\n",
       "    </tr>\n",
       "  </tbody>\n",
       "</table>\n",
       "</div>"
      ],
      "text/plain": [
       "                   D         C         B         A\n",
       "2016-07-06 -0.757101  0.299368  0.061851  0.309722\n",
       "2016-07-04  1.659575  0.297131  0.256233 -0.452786\n",
       "2016-07-01  1.619142  0.211860  1.129752 -0.563441\n",
       "2016-07-03 -0.955532 -0.100124 -0.239388  2.200475\n",
       "2016-07-05 -1.191923  0.143622 -0.080136  1.027364\n",
       "2016-07-02 -1.136708 -0.584922 -1.564357  0.474687"
      ]
     },
     "execution_count": 98,
     "metadata": {},
     "output_type": "execute_result"
    }
   ],
   "source": [
    "#내림차순\n",
    "df7.sort_index(axis=1,ascending=False)"
   ]
  },
  {
   "cell_type": "code",
   "execution_count": 99,
   "id": "3eb76cbd",
   "metadata": {},
   "outputs": [
    {
     "data": {
      "text/html": [
       "<div>\n",
       "<style scoped>\n",
       "    .dataframe tbody tr th:only-of-type {\n",
       "        vertical-align: middle;\n",
       "    }\n",
       "\n",
       "    .dataframe tbody tr th {\n",
       "        vertical-align: top;\n",
       "    }\n",
       "\n",
       "    .dataframe thead th {\n",
       "        text-align: right;\n",
       "    }\n",
       "</style>\n",
       "<table border=\"1\" class=\"dataframe\">\n",
       "  <thead>\n",
       "    <tr style=\"text-align: right;\">\n",
       "      <th></th>\n",
       "      <th>D</th>\n",
       "      <th>B</th>\n",
       "      <th>C</th>\n",
       "      <th>A</th>\n",
       "    </tr>\n",
       "  </thead>\n",
       "  <tbody>\n",
       "    <tr>\n",
       "      <th>2016-07-05</th>\n",
       "      <td>-1.191923</td>\n",
       "      <td>-0.080136</td>\n",
       "      <td>0.143622</td>\n",
       "      <td>1.027364</td>\n",
       "    </tr>\n",
       "    <tr>\n",
       "      <th>2016-07-02</th>\n",
       "      <td>-1.136708</td>\n",
       "      <td>-1.564357</td>\n",
       "      <td>-0.584922</td>\n",
       "      <td>0.474687</td>\n",
       "    </tr>\n",
       "    <tr>\n",
       "      <th>2016-07-03</th>\n",
       "      <td>-0.955532</td>\n",
       "      <td>-0.239388</td>\n",
       "      <td>-0.100124</td>\n",
       "      <td>2.200475</td>\n",
       "    </tr>\n",
       "    <tr>\n",
       "      <th>2016-07-06</th>\n",
       "      <td>-0.757101</td>\n",
       "      <td>0.061851</td>\n",
       "      <td>0.299368</td>\n",
       "      <td>0.309722</td>\n",
       "    </tr>\n",
       "    <tr>\n",
       "      <th>2016-07-01</th>\n",
       "      <td>1.619142</td>\n",
       "      <td>1.129752</td>\n",
       "      <td>0.211860</td>\n",
       "      <td>-0.563441</td>\n",
       "    </tr>\n",
       "    <tr>\n",
       "      <th>2016-07-04</th>\n",
       "      <td>1.659575</td>\n",
       "      <td>0.256233</td>\n",
       "      <td>0.297131</td>\n",
       "      <td>-0.452786</td>\n",
       "    </tr>\n",
       "  </tbody>\n",
       "</table>\n",
       "</div>"
      ],
      "text/plain": [
       "                   D         B         C         A\n",
       "2016-07-05 -1.191923 -0.080136  0.143622  1.027364\n",
       "2016-07-02 -1.136708 -1.564357 -0.584922  0.474687\n",
       "2016-07-03 -0.955532 -0.239388 -0.100124  2.200475\n",
       "2016-07-06 -0.757101  0.061851  0.299368  0.309722\n",
       "2016-07-01  1.619142  1.129752  0.211860 -0.563441\n",
       "2016-07-04  1.659575  0.256233  0.297131 -0.452786"
      ]
     },
     "execution_count": 99,
     "metadata": {},
     "output_type": "execute_result"
    }
   ],
   "source": [
    "#값 기준 정렬하기\n",
    "#D열의 값이 오름차순이 되도록 정렬하기\n",
    "df7.sort_values(by='D')"
   ]
  },
  {
   "cell_type": "code",
   "execution_count": 100,
   "id": "bd186d13",
   "metadata": {},
   "outputs": [
    {
     "data": {
      "text/html": [
       "<div>\n",
       "<style scoped>\n",
       "    .dataframe tbody tr th:only-of-type {\n",
       "        vertical-align: middle;\n",
       "    }\n",
       "\n",
       "    .dataframe tbody tr th {\n",
       "        vertical-align: top;\n",
       "    }\n",
       "\n",
       "    .dataframe thead th {\n",
       "        text-align: right;\n",
       "    }\n",
       "</style>\n",
       "<table border=\"1\" class=\"dataframe\">\n",
       "  <thead>\n",
       "    <tr style=\"text-align: right;\">\n",
       "      <th></th>\n",
       "      <th>D</th>\n",
       "      <th>B</th>\n",
       "      <th>C</th>\n",
       "      <th>A</th>\n",
       "    </tr>\n",
       "  </thead>\n",
       "  <tbody>\n",
       "    <tr>\n",
       "      <th>2016-07-01</th>\n",
       "      <td>1.619142</td>\n",
       "      <td>1.129752</td>\n",
       "      <td>0.211860</td>\n",
       "      <td>-0.563441</td>\n",
       "    </tr>\n",
       "    <tr>\n",
       "      <th>2016-07-04</th>\n",
       "      <td>1.659575</td>\n",
       "      <td>0.256233</td>\n",
       "      <td>0.297131</td>\n",
       "      <td>-0.452786</td>\n",
       "    </tr>\n",
       "    <tr>\n",
       "      <th>2016-07-06</th>\n",
       "      <td>-0.757101</td>\n",
       "      <td>0.061851</td>\n",
       "      <td>0.299368</td>\n",
       "      <td>0.309722</td>\n",
       "    </tr>\n",
       "    <tr>\n",
       "      <th>2016-07-05</th>\n",
       "      <td>-1.191923</td>\n",
       "      <td>-0.080136</td>\n",
       "      <td>0.143622</td>\n",
       "      <td>1.027364</td>\n",
       "    </tr>\n",
       "    <tr>\n",
       "      <th>2016-07-03</th>\n",
       "      <td>-0.955532</td>\n",
       "      <td>-0.239388</td>\n",
       "      <td>-0.100124</td>\n",
       "      <td>2.200475</td>\n",
       "    </tr>\n",
       "    <tr>\n",
       "      <th>2016-07-02</th>\n",
       "      <td>-1.136708</td>\n",
       "      <td>-1.564357</td>\n",
       "      <td>-0.584922</td>\n",
       "      <td>0.474687</td>\n",
       "    </tr>\n",
       "  </tbody>\n",
       "</table>\n",
       "</div>"
      ],
      "text/plain": [
       "                   D         B         C         A\n",
       "2016-07-01  1.619142  1.129752  0.211860 -0.563441\n",
       "2016-07-04  1.659575  0.256233  0.297131 -0.452786\n",
       "2016-07-06 -0.757101  0.061851  0.299368  0.309722\n",
       "2016-07-05 -1.191923 -0.080136  0.143622  1.027364\n",
       "2016-07-03 -0.955532 -0.239388 -0.100124  2.200475\n",
       "2016-07-02 -1.136708 -1.564357 -0.584922  0.474687"
      ]
     },
     "execution_count": 100,
     "metadata": {},
     "output_type": "execute_result"
    }
   ],
   "source": [
    "#B열의 값이 내림차순이 되도록 정렬하기\n",
    "df7.sort_values(by=\"B\",ascending=False) ##오름차순은 ascending=true << 기본값."
   ]
  },
  {
   "cell_type": "code",
   "execution_count": 101,
   "id": "9126add7",
   "metadata": {},
   "outputs": [
    {
     "data": {
      "text/html": [
       "<div>\n",
       "<style scoped>\n",
       "    .dataframe tbody tr th:only-of-type {\n",
       "        vertical-align: middle;\n",
       "    }\n",
       "\n",
       "    .dataframe tbody tr th {\n",
       "        vertical-align: top;\n",
       "    }\n",
       "\n",
       "    .dataframe thead th {\n",
       "        text-align: right;\n",
       "    }\n",
       "</style>\n",
       "<table border=\"1\" class=\"dataframe\">\n",
       "  <thead>\n",
       "    <tr style=\"text-align: right;\">\n",
       "      <th></th>\n",
       "      <th>D</th>\n",
       "      <th>B</th>\n",
       "      <th>C</th>\n",
       "      <th>A</th>\n",
       "      <th>E</th>\n",
       "      <th>F</th>\n",
       "    </tr>\n",
       "  </thead>\n",
       "  <tbody>\n",
       "    <tr>\n",
       "      <th>2016-07-06</th>\n",
       "      <td>-0.757101</td>\n",
       "      <td>0.061851</td>\n",
       "      <td>0.299368</td>\n",
       "      <td>0.309722</td>\n",
       "      <td>5</td>\n",
       "      <td>alpha</td>\n",
       "    </tr>\n",
       "    <tr>\n",
       "      <th>2016-07-04</th>\n",
       "      <td>1.659575</td>\n",
       "      <td>0.256233</td>\n",
       "      <td>0.297131</td>\n",
       "      <td>-0.452786</td>\n",
       "      <td>3</td>\n",
       "      <td>beta</td>\n",
       "    </tr>\n",
       "    <tr>\n",
       "      <th>2016-07-01</th>\n",
       "      <td>1.619142</td>\n",
       "      <td>1.129752</td>\n",
       "      <td>0.211860</td>\n",
       "      <td>-0.563441</td>\n",
       "      <td>3</td>\n",
       "      <td>gamma</td>\n",
       "    </tr>\n",
       "    <tr>\n",
       "      <th>2016-07-03</th>\n",
       "      <td>-0.955532</td>\n",
       "      <td>-0.239388</td>\n",
       "      <td>-0.100124</td>\n",
       "      <td>2.200475</td>\n",
       "      <td>0</td>\n",
       "      <td>gamma</td>\n",
       "    </tr>\n",
       "    <tr>\n",
       "      <th>2016-07-05</th>\n",
       "      <td>-1.191923</td>\n",
       "      <td>-0.080136</td>\n",
       "      <td>0.143622</td>\n",
       "      <td>1.027364</td>\n",
       "      <td>5</td>\n",
       "      <td>alpha</td>\n",
       "    </tr>\n",
       "    <tr>\n",
       "      <th>2016-07-02</th>\n",
       "      <td>-1.136708</td>\n",
       "      <td>-1.564357</td>\n",
       "      <td>-0.584922</td>\n",
       "      <td>0.474687</td>\n",
       "      <td>5</td>\n",
       "      <td>gamma</td>\n",
       "    </tr>\n",
       "  </tbody>\n",
       "</table>\n",
       "</div>"
      ],
      "text/plain": [
       "                   D         B         C         A  E      F\n",
       "2016-07-06 -0.757101  0.061851  0.299368  0.309722  5  alpha\n",
       "2016-07-04  1.659575  0.256233  0.297131 -0.452786  3   beta\n",
       "2016-07-01  1.619142  1.129752  0.211860 -0.563441  3  gamma\n",
       "2016-07-03 -0.955532 -0.239388 -0.100124  2.200475  0  gamma\n",
       "2016-07-05 -1.191923 -0.080136  0.143622  1.027364  5  alpha\n",
       "2016-07-02 -1.136708 -1.564357 -0.584922  0.474687  5  gamma"
      ]
     },
     "execution_count": 101,
     "metadata": {},
     "output_type": "execute_result"
    }
   ],
   "source": [
    "df7[\"E\"]=np.random.randint(0,6,size=6)\n",
    "df7[\"F\"]=[\"alpha\", \"beta\", \"gamma\",\"gamma\",\"alpha\",\"gamma\"]\n",
    "df7"
   ]
  },
  {
   "cell_type": "code",
   "execution_count": 102,
   "id": "56d5a13d",
   "metadata": {},
   "outputs": [
    {
     "data": {
      "text/html": [
       "<div>\n",
       "<style scoped>\n",
       "    .dataframe tbody tr th:only-of-type {\n",
       "        vertical-align: middle;\n",
       "    }\n",
       "\n",
       "    .dataframe tbody tr th {\n",
       "        vertical-align: top;\n",
       "    }\n",
       "\n",
       "    .dataframe thead th {\n",
       "        text-align: right;\n",
       "    }\n",
       "</style>\n",
       "<table border=\"1\" class=\"dataframe\">\n",
       "  <thead>\n",
       "    <tr style=\"text-align: right;\">\n",
       "      <th></th>\n",
       "      <th>D</th>\n",
       "      <th>B</th>\n",
       "      <th>C</th>\n",
       "      <th>A</th>\n",
       "      <th>E</th>\n",
       "      <th>F</th>\n",
       "    </tr>\n",
       "  </thead>\n",
       "  <tbody>\n",
       "    <tr>\n",
       "      <th>2016-07-03</th>\n",
       "      <td>-0.955532</td>\n",
       "      <td>-0.239388</td>\n",
       "      <td>-0.100124</td>\n",
       "      <td>2.200475</td>\n",
       "      <td>0</td>\n",
       "      <td>gamma</td>\n",
       "    </tr>\n",
       "    <tr>\n",
       "      <th>2016-07-04</th>\n",
       "      <td>1.659575</td>\n",
       "      <td>0.256233</td>\n",
       "      <td>0.297131</td>\n",
       "      <td>-0.452786</td>\n",
       "      <td>3</td>\n",
       "      <td>beta</td>\n",
       "    </tr>\n",
       "    <tr>\n",
       "      <th>2016-07-01</th>\n",
       "      <td>1.619142</td>\n",
       "      <td>1.129752</td>\n",
       "      <td>0.211860</td>\n",
       "      <td>-0.563441</td>\n",
       "      <td>3</td>\n",
       "      <td>gamma</td>\n",
       "    </tr>\n",
       "    <tr>\n",
       "      <th>2016-07-06</th>\n",
       "      <td>-0.757101</td>\n",
       "      <td>0.061851</td>\n",
       "      <td>0.299368</td>\n",
       "      <td>0.309722</td>\n",
       "      <td>5</td>\n",
       "      <td>alpha</td>\n",
       "    </tr>\n",
       "    <tr>\n",
       "      <th>2016-07-05</th>\n",
       "      <td>-1.191923</td>\n",
       "      <td>-0.080136</td>\n",
       "      <td>0.143622</td>\n",
       "      <td>1.027364</td>\n",
       "      <td>5</td>\n",
       "      <td>alpha</td>\n",
       "    </tr>\n",
       "    <tr>\n",
       "      <th>2016-07-02</th>\n",
       "      <td>-1.136708</td>\n",
       "      <td>-1.564357</td>\n",
       "      <td>-0.584922</td>\n",
       "      <td>0.474687</td>\n",
       "      <td>5</td>\n",
       "      <td>gamma</td>\n",
       "    </tr>\n",
       "  </tbody>\n",
       "</table>\n",
       "</div>"
      ],
      "text/plain": [
       "                   D         B         C         A  E      F\n",
       "2016-07-03 -0.955532 -0.239388 -0.100124  2.200475  0  gamma\n",
       "2016-07-04  1.659575  0.256233  0.297131 -0.452786  3   beta\n",
       "2016-07-01  1.619142  1.129752  0.211860 -0.563441  3  gamma\n",
       "2016-07-06 -0.757101  0.061851  0.299368  0.309722  5  alpha\n",
       "2016-07-05 -1.191923 -0.080136  0.143622  1.027364  5  alpha\n",
       "2016-07-02 -1.136708 -1.564357 -0.584922  0.474687  5  gamma"
      ]
     },
     "execution_count": 102,
     "metadata": {},
     "output_type": "execute_result"
    }
   ],
   "source": [
    "#E열과 F열을 동시에 고려하여, 오름차순으로 하려면?\n",
    "df7.sort_values(by=[\"E\",\"F\"])"
   ]
  },
  {
   "cell_type": "code",
   "execution_count": 103,
   "id": "fbfca53b",
   "metadata": {},
   "outputs": [
    {
     "data": {
      "text/html": [
       "<div>\n",
       "<style scoped>\n",
       "    .dataframe tbody tr th:only-of-type {\n",
       "        vertical-align: middle;\n",
       "    }\n",
       "\n",
       "    .dataframe tbody tr th {\n",
       "        vertical-align: top;\n",
       "    }\n",
       "\n",
       "    .dataframe thead th {\n",
       "        text-align: right;\n",
       "    }\n",
       "</style>\n",
       "<table border=\"1\" class=\"dataframe\">\n",
       "  <thead>\n",
       "    <tr style=\"text-align: right;\">\n",
       "      <th></th>\n",
       "      <th>D</th>\n",
       "      <th>B</th>\n",
       "      <th>C</th>\n",
       "      <th>A</th>\n",
       "      <th>E</th>\n",
       "      <th>F</th>\n",
       "    </tr>\n",
       "  </thead>\n",
       "  <tbody>\n",
       "    <tr>\n",
       "      <th>2016-07-06</th>\n",
       "      <td>-0.757101</td>\n",
       "      <td>0.061851</td>\n",
       "      <td>0.299368</td>\n",
       "      <td>0.309722</td>\n",
       "      <td>5</td>\n",
       "      <td>alpha</td>\n",
       "    </tr>\n",
       "    <tr>\n",
       "      <th>2016-07-05</th>\n",
       "      <td>-1.191923</td>\n",
       "      <td>-0.080136</td>\n",
       "      <td>0.143622</td>\n",
       "      <td>1.027364</td>\n",
       "      <td>5</td>\n",
       "      <td>alpha</td>\n",
       "    </tr>\n",
       "    <tr>\n",
       "      <th>2016-07-04</th>\n",
       "      <td>1.659575</td>\n",
       "      <td>0.256233</td>\n",
       "      <td>0.297131</td>\n",
       "      <td>-0.452786</td>\n",
       "      <td>3</td>\n",
       "      <td>beta</td>\n",
       "    </tr>\n",
       "    <tr>\n",
       "      <th>2016-07-03</th>\n",
       "      <td>-0.955532</td>\n",
       "      <td>-0.239388</td>\n",
       "      <td>-0.100124</td>\n",
       "      <td>2.200475</td>\n",
       "      <td>0</td>\n",
       "      <td>gamma</td>\n",
       "    </tr>\n",
       "    <tr>\n",
       "      <th>2016-07-01</th>\n",
       "      <td>1.619142</td>\n",
       "      <td>1.129752</td>\n",
       "      <td>0.211860</td>\n",
       "      <td>-0.563441</td>\n",
       "      <td>3</td>\n",
       "      <td>gamma</td>\n",
       "    </tr>\n",
       "    <tr>\n",
       "      <th>2016-07-02</th>\n",
       "      <td>-1.136708</td>\n",
       "      <td>-1.564357</td>\n",
       "      <td>-0.584922</td>\n",
       "      <td>0.474687</td>\n",
       "      <td>5</td>\n",
       "      <td>gamma</td>\n",
       "    </tr>\n",
       "  </tbody>\n",
       "</table>\n",
       "</div>"
      ],
      "text/plain": [
       "                   D         B         C         A  E      F\n",
       "2016-07-06 -0.757101  0.061851  0.299368  0.309722  5  alpha\n",
       "2016-07-05 -1.191923 -0.080136  0.143622  1.027364  5  alpha\n",
       "2016-07-04  1.659575  0.256233  0.297131 -0.452786  3   beta\n",
       "2016-07-03 -0.955532 -0.239388 -0.100124  2.200475  0  gamma\n",
       "2016-07-01  1.619142  1.129752  0.211860 -0.563441  3  gamma\n",
       "2016-07-02 -1.136708 -1.564357 -0.584922  0.474687  5  gamma"
      ]
     },
     "execution_count": 103,
     "metadata": {},
     "output_type": "execute_result"
    }
   ],
   "source": [
    "df7.sort_values(by=[\"F\",\"E\"])"
   ]
  },
  {
   "cell_type": "code",
   "execution_count": 104,
   "id": "c979cea2",
   "metadata": {},
   "outputs": [
    {
     "data": {
      "text/plain": [
       "array(['alpha', 'beta', 'gamma'], dtype=object)"
      ]
     },
     "execution_count": 104,
     "metadata": {},
     "output_type": "execute_result"
    }
   ],
   "source": [
    "#지정한 행 또는 열에서 중복값을 제외한 유니크한 값만 얻기\n",
    "df7[\"F\"].unique()"
   ]
  },
  {
   "cell_type": "code",
   "execution_count": 105,
   "id": "8bdfd0fa",
   "metadata": {},
   "outputs": [
    {
     "data": {
      "text/plain": [
       "gamma    3\n",
       "alpha    2\n",
       "beta     1\n",
       "Name: F, dtype: int64"
      ]
     },
     "execution_count": 105,
     "metadata": {},
     "output_type": "execute_result"
    }
   ],
   "source": [
    "#지정한 행 또는 열에서 값에 따른 개수 얻기\n",
    "df7[\"F\"].value_counts()"
   ]
  },
  {
   "cell_type": "code",
   "execution_count": 114,
   "id": "a44f0e89",
   "metadata": {
    "scrolled": true
   },
   "outputs": [
    {
     "data": {
      "text/plain": [
       "D         B         C        A          E  F    \n",
       "1.619142  1.129752  0.21186  -0.563441  3  gamma    1\n",
       "dtype: int64"
      ]
     },
     "execution_count": 114,
     "metadata": {},
     "output_type": "execute_result"
    }
   ],
   "source": [
    "df7.loc[\"20160701\"].value_counts()"
   ]
  },
  {
   "cell_type": "code",
   "execution_count": 110,
   "id": "ec213ef6",
   "metadata": {},
   "outputs": [
    {
     "data": {
      "text/plain": [
       "2016-07-06     True\n",
       "2016-07-04     True\n",
       "2016-07-01    False\n",
       "2016-07-03    False\n",
       "2016-07-05     True\n",
       "2016-07-02    False\n",
       "Name: F, dtype: bool"
      ]
     },
     "execution_count": 110,
     "metadata": {},
     "output_type": "execute_result"
    }
   ],
   "source": [
    "#지정한 행 또는 열에서 입력한 값이 있는지 확인하기\n",
    "df7[\"F\"].isin([\"alpha\",\"beta\"]) #alpha 와 beta의 값이 있는가\n",
    "#아래와 같이 응용가능"
   ]
  },
  {
   "cell_type": "code",
   "execution_count": 117,
   "id": "a751285f",
   "metadata": {},
   "outputs": [
    {
     "data": {
      "text/html": [
       "<div>\n",
       "<style scoped>\n",
       "    .dataframe tbody tr th:only-of-type {\n",
       "        vertical-align: middle;\n",
       "    }\n",
       "\n",
       "    .dataframe tbody tr th {\n",
       "        vertical-align: top;\n",
       "    }\n",
       "\n",
       "    .dataframe thead th {\n",
       "        text-align: right;\n",
       "    }\n",
       "</style>\n",
       "<table border=\"1\" class=\"dataframe\">\n",
       "  <thead>\n",
       "    <tr style=\"text-align: right;\">\n",
       "      <th></th>\n",
       "      <th>D</th>\n",
       "      <th>B</th>\n",
       "      <th>C</th>\n",
       "      <th>A</th>\n",
       "      <th>E</th>\n",
       "      <th>F</th>\n",
       "    </tr>\n",
       "  </thead>\n",
       "  <tbody>\n",
       "    <tr>\n",
       "      <th>2016-07-06</th>\n",
       "      <td>-0.757101</td>\n",
       "      <td>0.061851</td>\n",
       "      <td>0.299368</td>\n",
       "      <td>0.309722</td>\n",
       "      <td>5</td>\n",
       "      <td>alpha</td>\n",
       "    </tr>\n",
       "    <tr>\n",
       "      <th>2016-07-04</th>\n",
       "      <td>1.659575</td>\n",
       "      <td>0.256233</td>\n",
       "      <td>0.297131</td>\n",
       "      <td>-0.452786</td>\n",
       "      <td>3</td>\n",
       "      <td>beta</td>\n",
       "    </tr>\n",
       "    <tr>\n",
       "      <th>2016-07-05</th>\n",
       "      <td>-1.191923</td>\n",
       "      <td>-0.080136</td>\n",
       "      <td>0.143622</td>\n",
       "      <td>1.027364</td>\n",
       "      <td>5</td>\n",
       "      <td>alpha</td>\n",
       "    </tr>\n",
       "  </tbody>\n",
       "</table>\n",
       "</div>"
      ],
      "text/plain": [
       "                   D         B         C         A  E      F\n",
       "2016-07-06 -0.757101  0.061851  0.299368  0.309722  5  alpha\n",
       "2016-07-04  1.659575  0.256233  0.297131 -0.452786  3   beta\n",
       "2016-07-05 -1.191923 -0.080136  0.143622  1.027364  5  alpha"
      ]
     },
     "execution_count": 117,
     "metadata": {},
     "output_type": "execute_result"
    }
   ],
   "source": [
    "#F열의 값이 alpha나 beta인 모든 행 구하기\n",
    "df7.loc[df7[\"F\"].isin(['alpha','beta']),:]"
   ]
  },
  {
   "cell_type": "markdown",
   "id": "f4c32ecb",
   "metadata": {},
   "source": [
    "##### 사용자가 직접 만든 함수를 적용하기"
   ]
  },
  {
   "cell_type": "code",
   "execution_count": 120,
   "id": "e250f385",
   "metadata": {},
   "outputs": [
    {
     "data": {
      "text/html": [
       "<div>\n",
       "<style scoped>\n",
       "    .dataframe tbody tr th:only-of-type {\n",
       "        vertical-align: middle;\n",
       "    }\n",
       "\n",
       "    .dataframe tbody tr th {\n",
       "        vertical-align: top;\n",
       "    }\n",
       "\n",
       "    .dataframe thead th {\n",
       "        text-align: right;\n",
       "    }\n",
       "</style>\n",
       "<table border=\"1\" class=\"dataframe\">\n",
       "  <thead>\n",
       "    <tr style=\"text-align: right;\">\n",
       "      <th></th>\n",
       "      <th>a</th>\n",
       "      <th>b</th>\n",
       "      <th>c</th>\n",
       "    </tr>\n",
       "  </thead>\n",
       "  <tbody>\n",
       "    <tr>\n",
       "      <th>seoul</th>\n",
       "      <td>-0.578072</td>\n",
       "      <td>0.511563</td>\n",
       "      <td>-0.366825</td>\n",
       "    </tr>\n",
       "    <tr>\n",
       "      <th>incheon</th>\n",
       "      <td>0.648775</td>\n",
       "      <td>0.582663</td>\n",
       "      <td>-0.520253</td>\n",
       "    </tr>\n",
       "    <tr>\n",
       "      <th>busan</th>\n",
       "      <td>2.231189</td>\n",
       "      <td>-1.502905</td>\n",
       "      <td>-0.308888</td>\n",
       "    </tr>\n",
       "    <tr>\n",
       "      <th>daegu</th>\n",
       "      <td>-0.019078</td>\n",
       "      <td>-0.819806</td>\n",
       "      <td>-0.366034</td>\n",
       "    </tr>\n",
       "  </tbody>\n",
       "</table>\n",
       "</div>"
      ],
      "text/plain": [
       "                a         b         c\n",
       "seoul   -0.578072  0.511563 -0.366825\n",
       "incheon  0.648775  0.582663 -0.520253\n",
       "busan    2.231189 -1.502905 -0.308888\n",
       "daegu   -0.019078 -0.819806 -0.366034"
      ]
     },
     "execution_count": 120,
     "metadata": {},
     "output_type": "execute_result"
    }
   ],
   "source": [
    "df8=pd.DataFrame(np.random.randn(4,3),\n",
    "                 columns=['a','b','c'],\n",
    "                 index=[\"seoul\",'incheon','busan','daegu'])\n",
    "df8"
   ]
  },
  {
   "cell_type": "code",
   "execution_count": 125,
   "id": "0174dcc2",
   "metadata": {},
   "outputs": [],
   "source": [
    "func= lambda x : x.max()-x.min() #쓰는 모양 기억해두기."
   ]
  },
  {
   "cell_type": "code",
   "execution_count": 126,
   "id": "343cebb4",
   "metadata": {},
   "outputs": [
    {
     "data": {
      "text/plain": [
       "a    2.809261\n",
       "b    2.085568\n",
       "c    0.211365\n",
       "dtype: float64"
      ]
     },
     "execution_count": 126,
     "metadata": {},
     "output_type": "execute_result"
    }
   ],
   "source": [
    "df8.apply(func,axis=0)"
   ]
  },
  {
   "cell_type": "code",
   "execution_count": null,
   "id": "e48444a9",
   "metadata": {},
   "outputs": [],
   "source": []
  }
 ],
 "metadata": {
  "kernelspec": {
   "display_name": "Python 3 (ipykernel)",
   "language": "python",
   "name": "python3"
  },
  "language_info": {
   "codemirror_mode": {
    "name": "ipython",
    "version": 3
   },
   "file_extension": ".py",
   "mimetype": "text/x-python",
   "name": "python",
   "nbconvert_exporter": "python",
   "pygments_lexer": "ipython3",
   "version": "3.9.7"
  }
 },
 "nbformat": 4,
 "nbformat_minor": 5
}
