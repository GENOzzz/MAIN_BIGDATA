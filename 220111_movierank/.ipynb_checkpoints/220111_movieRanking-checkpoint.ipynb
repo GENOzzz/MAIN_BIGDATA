{
 "cells": [
  {
   "cell_type": "code",
   "execution_count": 1,
   "id": "4b5152c9",
   "metadata": {},
   "outputs": [],
   "source": [
    "import requests\n",
    "from bs4 import BeautifulSoup as bsp\n",
    "import pandas as pd\n",
    "import numpy as np\n",
    "import matplotlib.pyplot as plt\n",
    "import matplotlib.font_manager as fm\n",
    "import matplotlib.ticker as ticker"
   ]
  },
  {
   "cell_type": "markdown",
   "id": "4687a8cb",
   "metadata": {},
   "source": [
    "#### selecter 선택자를 간결하게 뽑는 방법을 찾을것.\n",
    "#### "
   ]
  },
  {
   "cell_type": "code",
   "execution_count": 2,
   "id": "e1933047",
   "metadata": {
    "scrolled": true
   },
   "outputs": [
    {
     "data": {
      "text/plain": [
       "[<span class=\"num\">9.41</span>,\n",
       " <span class=\"num\">7.71</span>,\n",
       " <span class=\"num\">8.92</span>,\n",
       " <span class=\"num\">8.09</span>,\n",
       " <span class=\"num\">8.73</span>,\n",
       " <span class=\"num\">8.62</span>,\n",
       " <span class=\"num\">8.48</span>,\n",
       " <span class=\"num\">7.12</span>,\n",
       " <span class=\"num\">9.10</span>,\n",
       " <span class=\"num\">9.23</span>,\n",
       " <span class=\"num\">9.12</span>,\n",
       " <span class=\"num\">9.25</span>,\n",
       " <span class=\"num\">6.44</span>,\n",
       " <span class=\"num\">5.52</span>,\n",
       " <span class=\"num\">6.97</span>,\n",
       " <span class=\"num\">8.81</span>,\n",
       " <span class=\"num\">8.55</span>,\n",
       " <span class=\"num\">8.44</span>,\n",
       " <span class=\"num\">8.27</span>,\n",
       " <span class=\"num\">9.67</span>,\n",
       " <span class=\"num\">8.61</span>,\n",
       " <span class=\"num\">9.32</span>,\n",
       " <span class=\"num\">8.00</span>,\n",
       " <span class=\"num\">7.39</span>,\n",
       " <span class=\"num\">8.91</span>,\n",
       " <span class=\"num\">6.50</span>,\n",
       " <span class=\"num\">7.76</span>,\n",
       " <span class=\"num\">7.90</span>,\n",
       " <span class=\"num\">8.27</span>,\n",
       " <span class=\"num\">8.11</span>,\n",
       " <span class=\"num\">8.31</span>,\n",
       " <span class=\"num\">4.48</span>,\n",
       " <span class=\"num\">8.28</span>,\n",
       " <span class=\"num\">7.58</span>,\n",
       " <span class=\"num\">10.00</span>,\n",
       " <span class=\"num\">5.97</span>,\n",
       " <span class=\"num\">9.10</span>,\n",
       " <span class=\"num\">0.00</span>,\n",
       " <span class=\"num\">8.25</span>,\n",
       " <span class=\"num\">6.44</span>,\n",
       " <span class=\"num\">5.83</span>,\n",
       " <span class=\"num\">7.00</span>,\n",
       " <span class=\"num\">8.72</span>,\n",
       " <span class=\"num\">7.67</span>,\n",
       " <span class=\"num\">8.83</span>,\n",
       " <span class=\"num\">8.72</span>,\n",
       " <span class=\"num\">7.75</span>,\n",
       " <span class=\"num\">8.80</span>,\n",
       " <span class=\"num\">7.60</span>,\n",
       " <span class=\"num\">7.40</span>,\n",
       " <span class=\"num\">6.11</span>,\n",
       " <span class=\"num\">7.84</span>,\n",
       " <span class=\"num\">8.14</span>,\n",
       " <span class=\"num\">6.05</span>]"
      ]
     },
     "execution_count": 2,
     "metadata": {},
     "output_type": "execute_result"
    }
   ],
   "source": [
    "resonse=requests.get(\"https://movie.naver.com/movie/running/current.naver#\")\n",
    "html=resonse.text\n",
    "page=bsp(html,'html.parser')\n",
    "movieTitle=page.select('#content > div.article > div:nth-child(1) > div.lst_wrap > ul > li > dl > dt > a')\n",
    "movieTitle\n",
    "movieGrade=page.select(\"#content > div.article > div:nth-child(1) > div.lst_wrap > ul > li > dl > dd.star > dl.info_star > dd > div > a > span.num\")\n",
    "movieGrade"
   ]
  },
  {
   "cell_type": "code",
   "execution_count": 3,
   "id": "7bd3de54",
   "metadata": {
    "scrolled": true
   },
   "outputs": [
    {
     "name": "stdout",
     "output_type": "stream",
     "text": [
      "[영화 예매순 상위 10개]\n",
      "1.씽2게더/별점 : 9.41\n",
      "2.경관의 피/별점 : 7.71\n",
      "3.스파이더맨: 노 웨이 홈/별점 : 8.92\n",
      "4.킹스맨: 퍼스트 에이전트/별점 : 8.09\n",
      "5.드라이브 마이 카/별점 : 8.73\n",
      "6.라임크라임/별점 : 8.62\n",
      "7.해탄적일천/별점 : 8.48\n",
      "8.해피 뉴 이어/별점 : 7.12\n",
      "9.해피 아워/별점 : 9.10\n",
      "10.코다/별점 : 9.23\n"
     ]
    }
   ],
   "source": [
    "print(\"[영화 예매순 상위 10개]\")\n",
    "for i in range(10):\n",
    "    print(f\"{i+1}.{movieTitle[i].text}/별점 : {movieGrade[i].text}\")"
   ]
  },
  {
   "cell_type": "markdown",
   "id": "6ee17494",
   "metadata": {},
   "source": [
    "### 표를 그리기위해 str인 평점을 float으로 형변환"
   ]
  },
  {
   "cell_type": "code",
   "execution_count": 4,
   "id": "51ef235c",
   "metadata": {
    "scrolled": true
   },
   "outputs": [
    {
     "data": {
      "text/plain": [
       "[9.41,\n",
       " 7.71,\n",
       " 8.92,\n",
       " 8.09,\n",
       " 8.73,\n",
       " 8.62,\n",
       " 8.48,\n",
       " 7.12,\n",
       " 9.1,\n",
       " 9.23,\n",
       " 9.12,\n",
       " 9.25,\n",
       " 6.44,\n",
       " 5.52,\n",
       " 6.97,\n",
       " 8.81,\n",
       " 8.55,\n",
       " 8.44,\n",
       " 8.27,\n",
       " 9.67,\n",
       " 8.61,\n",
       " 9.32,\n",
       " 8.0,\n",
       " 7.39,\n",
       " 8.91,\n",
       " 6.5,\n",
       " 7.76,\n",
       " 7.9,\n",
       " 8.27,\n",
       " 8.11,\n",
       " 8.31,\n",
       " 4.48,\n",
       " 8.28,\n",
       " 7.58,\n",
       " 10.0,\n",
       " 5.97,\n",
       " 9.1,\n",
       " 0.0,\n",
       " 8.25,\n",
       " 6.44,\n",
       " 5.83,\n",
       " 7.0,\n",
       " 8.72,\n",
       " 7.67,\n",
       " 8.83,\n",
       " 8.72,\n",
       " 7.75,\n",
       " 8.8,\n",
       " 7.6,\n",
       " 7.4,\n",
       " 6.11,\n",
       " 7.84,\n",
       " 8.14,\n",
       " 6.05]"
      ]
     },
     "execution_count": 4,
     "metadata": {},
     "output_type": "execute_result"
    }
   ],
   "source": [
    "movieGrades=[]\n",
    "for i in movieGrade:\n",
    "    movieGrades.append(float(i.text))\n",
    "    \n",
    "movieGrades"
   ]
  },
  {
   "cell_type": "markdown",
   "id": "598d565c",
   "metadata": {},
   "source": [
    "### 상위 10개로 표 그리기"
   ]
  },
  {
   "cell_type": "code",
   "execution_count": 5,
   "id": "267554d3",
   "metadata": {
    "scrolled": false
   },
   "outputs": [
    {
     "data": {
      "image/png": "[encoded data removed]",
      "text/plain": [
       "<Figure size 432x288 with 1 Axes>"
      ]
     },
     "metadata": {
      "needs_background": "light"
     },
     "output_type": "display_data"
    }
   ],
   "source": [
    "topTentitle=[]\n",
    "topTenGrade=[]\n",
    "for i in range(10):#불러온 데이터에서 10개만 저장\n",
    "    topTentitle.append(movieTitle[i].text)\n",
    "    topTenGrade.append(movieGrades[i])\n",
    "\n",
    "\n",
    "xpos=np.arange(len(topTentitle))\n",
    "barList=plt.bar(xpos,topTenGrade,align='center',alpha=0.5,width=0.4)\n",
    "barList[topTentitle.index('씽2게더')].set_color('r')\n",
    "plt.xticks(xpos,topTentitle,rotation=90)\n",
    "\n",
    "plt.rcParams['figure.figsize'] = [10, 8]#rcParams[width,height] plt크기조정 inch값\n",
    "plt.rc('font',size=20)\n",
    "\n",
    "plt.show()"
   ]
  },
  {
   "cell_type": "code",
   "execution_count": 16,
   "id": "6b512ad2",
   "metadata": {},
   "outputs": [
    {
     "name": "stdout",
     "output_type": "stream",
     "text": [
      "               0\n",
      "0           씽2게더\n",
      "1          경관의 피\n",
      "2  스파이더맨: 노 웨이 홈\n",
      "3  킹스맨: 퍼스트 에이전트\n",
      "4      드라이브 마이 카\n",
      "5          라임크라임\n",
      "6          해탄적일천\n",
      "7        해피 뉴 이어\n",
      "8          해피 아워\n",
      "9             코다\n"
     ]
    }
   ],
   "source": [
    "topTentitle_df=pd.DataFrame(topTentitle)\n",
    "print(topTentitle_df)"
   ]
  },
  {
   "cell_type": "code",
   "execution_count": 17,
   "id": "02447497",
   "metadata": {},
   "outputs": [
    {
     "name": "stdout",
     "output_type": "stream",
     "text": [
      "      0\n",
      "0  9.41\n",
      "1  7.71\n",
      "2  8.92\n",
      "3  8.09\n",
      "4  8.73\n",
      "5  8.62\n",
      "6  8.48\n",
      "7  7.12\n",
      "8  9.10\n",
      "9  9.23\n"
     ]
    }
   ],
   "source": [
    "topTengrade_df=pd.DataFrame(topTenGrade)\n",
    "print(topTengrade_df)"
   ]
  },
  {
   "cell_type": "code",
   "execution_count": 30,
   "id": "2835f919",
   "metadata": {},
   "outputs": [
    {
     "data": {
      "text/html": [
       "<div>\n",
       "<style scoped>\n",
       "    .dataframe tbody tr th:only-of-type {\n",
       "        vertical-align: middle;\n",
       "    }\n",
       "\n",
       "    .dataframe tbody tr th {\n",
       "        vertical-align: top;\n",
       "    }\n",
       "\n",
       "    .dataframe thead th {\n",
       "        text-align: right;\n",
       "    }\n",
       "</style>\n",
       "<table border=\"1\" class=\"dataframe\">\n",
       "  <thead>\n",
       "    <tr style=\"text-align: right;\">\n",
       "      <th></th>\n",
       "      <th>title</th>\n",
       "      <th>grade</th>\n",
       "    </tr>\n",
       "    <tr>\n",
       "      <th>rank</th>\n",
       "      <th></th>\n",
       "      <th></th>\n",
       "    </tr>\n",
       "  </thead>\n",
       "  <tbody>\n",
       "    <tr>\n",
       "      <th>1</th>\n",
       "      <td>씽2게더</td>\n",
       "      <td>9.41</td>\n",
       "    </tr>\n",
       "    <tr>\n",
       "      <th>2</th>\n",
       "      <td>경관의 피</td>\n",
       "      <td>7.71</td>\n",
       "    </tr>\n",
       "    <tr>\n",
       "      <th>3</th>\n",
       "      <td>스파이더맨: 노 웨이 홈</td>\n",
       "      <td>8.92</td>\n",
       "    </tr>\n",
       "    <tr>\n",
       "      <th>4</th>\n",
       "      <td>킹스맨: 퍼스트 에이전트</td>\n",
       "      <td>8.09</td>\n",
       "    </tr>\n",
       "    <tr>\n",
       "      <th>5</th>\n",
       "      <td>드라이브 마이 카</td>\n",
       "      <td>8.73</td>\n",
       "    </tr>\n",
       "    <tr>\n",
       "      <th>6</th>\n",
       "      <td>라임크라임</td>\n",
       "      <td>8.62</td>\n",
       "    </tr>\n",
       "    <tr>\n",
       "      <th>7</th>\n",
       "      <td>해탄적일천</td>\n",
       "      <td>8.48</td>\n",
       "    </tr>\n",
       "    <tr>\n",
       "      <th>8</th>\n",
       "      <td>해피 뉴 이어</td>\n",
       "      <td>7.12</td>\n",
       "    </tr>\n",
       "    <tr>\n",
       "      <th>9</th>\n",
       "      <td>해피 아워</td>\n",
       "      <td>9.10</td>\n",
       "    </tr>\n",
       "    <tr>\n",
       "      <th>10</th>\n",
       "      <td>코다</td>\n",
       "      <td>9.23</td>\n",
       "    </tr>\n",
       "  </tbody>\n",
       "</table>\n",
       "</div>"
      ],
      "text/plain": [
       "              title  grade\n",
       "rank                      \n",
       "1              씽2게더   9.41\n",
       "2             경관의 피   7.71\n",
       "3     스파이더맨: 노 웨이 홈   8.92\n",
       "4     킹스맨: 퍼스트 에이전트   8.09\n",
       "5         드라이브 마이 카   8.73\n",
       "6             라임크라임   8.62\n",
       "7             해탄적일천   8.48\n",
       "8           해피 뉴 이어   7.12\n",
       "9             해피 아워   9.10\n",
       "10               코다   9.23"
      ]
     },
     "execution_count": 30,
     "metadata": {},
     "output_type": "execute_result"
    }
   ],
   "source": [
    "topTen=pd.concat([topTentitle_df,topTengrade_df],axis=1)\n",
    "topTen.columns=['title','grade']\n",
    "rank=[]\n",
    "for i in range(1,11):\n",
    "    rank.append(i)\n",
    "topTen[\"rank\"]=rank\n",
    "topTen.set_index('rank',inplace=True)\n",
    "topTen"
   ]
  },
  {
   "cell_type": "code",
   "execution_count": null,
   "id": "b68b128a",
   "metadata": {},
   "outputs": [],
   "source": []
  }
 ],
 "metadata": {
  "kernelspec": {
   "display_name": "Python 3 (ipykernel)",
   "language": "python",
   "name": "python3"
  },
  "language_info": {
   "codemirror_mode": {
    "name": "ipython",
    "version": 3
   },
   "file_extension": ".py",
   "mimetype": "text/x-python",
   "name": "python",
   "nbconvert_exporter": "python",
   "pygments_lexer": "ipython3",
   "version": "3.9.7"
  }
 },
 "nbformat": 4,
 "nbformat_minor": 5
}
